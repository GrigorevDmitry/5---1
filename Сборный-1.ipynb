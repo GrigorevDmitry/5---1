{
 "cells": [
  {
   "cell_type": "markdown",
   "metadata": {},
   "source": [
    "<div class=\"alert alert-success\">\n",
    "<b>КОММЕНТАРИЙ V2</b>\n",
    "\n",
    "Итак, мои комментарии на этот раз будут зелёными, в заголовке иметь версию V2 (как у этого!) и в них я буду стараться ответить на твои вопросы, если таковые увижу (мелкие/\"проходные\" изменения/исправления в тексте проекта, каждое из них, не буду с твоего позволения комментировать - только те моменты, где я что-то более-менее не банальное могу сказать. Хорошо? Будем считать, что, если комментария на твое исправление нет - значит я согласен с тобой в этом пункте).\n",
    "\n",
    "Если же после факта принятия проекта у тебя возникнут дополнительные вопросы – я никуда не пропал. Мой адрес эл/почты: anepomnjashiy@gmail.com, имя в Пачке: anepomnjashiy, имя в Телеграмме: https://t.me/aleks_nep\n",
    "\n",
    "---\n",
    "Денис, я вижу, что все красные комментарии учтены, код исправлен, выводы актуализированы. Соответственно никаких вопросов/моментов/комментариев, мешающих принять твой проект у меня более нет.\n",
    "\n",
    "ПРОЕКТ ПРИНЯТ!\n",
    "    \n",
    "Я же в свою очередь, ниже попытался ответить на все твои вопросы (если видел, что они есть).\n",
    "\n",
    "Желаю тебе успехов в учёбе, желаю, чтобы проекты сдавались или сразу, или после первой итерации! Удачи!\n",
    "\n",
    "p.s. я тебе на твой адрес эл/почты сейчас вышлю некоторые материалы из своей электронной библиотеки - надеюсь они будут тебе полезны в учёбе.\n",
    "</div>\n"
   ]
  },
  {
   "cell_type": "code",
   "execution_count": null,
   "metadata": {},
   "outputs": [],
   "source": []
  },
  {
   "cell_type": "markdown",
   "metadata": {},
   "source": [
    "Приветствую Денис! \n",
    "\n",
    "Меня зовут Александр Непомнящий и я буду проверять твой проект. Предлагаю общаться на «ты» :))) Но, если это не удобно - мы вполне можем перейти на вы\".\n",
    "\n",
    "Вкратце обо мне: я работаю в сфере информационных технологий, аналитика (анализ) данных - это и мой рабочий функционал и личная, интересная мне область для саморазвития. Используемый стек: python, pandas, графические библиотеки matplotlib/seaborn/plotly. Сфера применения: маркетинговая аналитика в медицинской клинике (Клиника «Кивач», www.kivach.ru, республика Карелия). Если вдруг есть вопрос – что делает аналитик в коммерческой медицине – то вот короткий ответ. Самый главный вопрос, на который мы хотим получить ответ (и который в дальнейшем приведёт к перераспределению рекламного бюджета, плюс напрямую повлияет на разработку и предложению рынку новых лечебных программ) - это КТО ОН, НАШ КЛИЕНТ? Фактически это задача (на нашем внутреннем языке формулируется как построение и анализ «ПОРТРЕТА КЛИЕНТА»). Визуализируем и пытаемся придать смысл половозрастным данным наших клиентов, кто из какого региона и в какие времена года к нам приезжает. Учитываем количество приездов. Учитываем на какую программу этот конкретный клиент приехал в первый раз и как в дальнейшем меняются его предпочтения. Пытаемся построить модель оттока и спрогнозировать, когда клиент уйдёт в отток. Смотрим цифры (суммы трат клиентов на отдельных группах медицинских программ). Анализируем медицинские услуги, которые входят в путёвку, а также что, в каких количествах и на какую сумму клиент покупает дополнительно. Очень вкратце как-то так.\n",
    "\n",
    "Теперь к сути: основная цель моей проверки - пройти по шагам, по логике твоего решения и обсудить те моменты, которые можно изменить, улучшить, довести до идеала. Такой формат работы двух программистов (аналитиков) ты или уже встречал(а), или встретишь на своей новой работе. Кто-то такой процесс называет \"код-ревью\", ну а как по мне, так это обмен опытом двух коллег, когда каждый из нас становиться лучше в процессе дискуссии.\n",
    "\n",
    "Свои мысли, советы, комментарии и вопросы я буду оставлять в текстовых ячейках (markdown) ПОД твоим кодом. \n",
    "Для твоего удобства все эти заметки будут \"цветными\", как на примерах ниже:\n",
    "\n",
    "\"Зелеными\" комментариями я буду отмечать твой элегантный (\"красивый\") код и/или удачные решения, на которые ты можешь смело опираться в будущих проектах.\n",
    "<div class=\"alert alert-success\">\n",
    "<b>Отлично! 👍</b>\n",
    "\n",
    "Отличная находка, элегантный код ...</div>\n",
    "\n",
    "\"Жёлтые\" комментарии - это мои размышления, предложения, что-то, что на следующей итерации можно сделать по-другому. Твоя реакция на \"жёлтые\" комментарий необходима и подразумевает или правки, или реакцию или аргументированное согласие/не согласие. Я искренне верю, что наш двусторонний диалог под \"желтым\" комментарием - это то, от чего твой проект только выиграет. <div class=\"alert alert-warning\">\n",
    "<b>Комментарий 👉</b>\n",
    "\n",
    "Здесь я бы предложил использовать .... Мои аргументы в пользу этого ...</div>\n",
    "\n",
    "\"Красные\" комментарий будут появляться, когда что-то пойдёт не так: например, код будет выдавать ошибку. Или, когда в проекте не будет ответов на основные вопросы, ради которых весь анализ и выполнялся. \"Красные\" комментарии необходимо будет исправить, прежде чем я смогу принять проект.\n",
    "<div class=\"alert alert-danger\">\n",
    "<b>Необходимо исправить ❌</b>\n",
    "\n",
    "В этой ячейке код работает не так как задумано ...</div>\n",
    "\n",
    "Пожалуйста, не перемещай, не изменяй и не удаляй мои комментарии. Это поможет мне оперативно выполнить повторную проверку твоего проекта.\n",
    "\n",
    "Давай работать над проектом в диалоге: если ты что-то меняешь в проекте по моим рекомендациям — пиши об этом, лучше всего в новой ячейке, сразу под моим комментарием. Если для своих комментариев ты будешь использовать какой-то заметный цвет, то мне будет легче отследить твои изменения, например так:\n",
    "<div style=\"background: #B0E0E6; padding: 5px; border: 1px solid SteelBlue; border-radius: 5px;\">\n",
    "    <font color='4682B4'><u><b>КОММЕНТАРИЙ СТУДЕНТА</b></u></font>\n",
    "    <br />\n",
    "    <font color='4682B4'>Текст твоего комментария ...</font>\n",
    "</div>\n",
    "\n",
    "**Распространенные типичные недочёты в проектах студентов:**\n",
    "\n",
    "<div class=\"alert alert-danger\" ❌>\n",
    "Неработоспособный код. Проверь проект на работоспособность перед отправкой на проверку. Это важный навык, который тебе пригодится как на собеседовании, при выполнении тестового задания, так и перед совещанием у руководства компании.</div>\n",
    "<div class=\"alert alert-danger\" ❌>\n",
    "Проект не структурирован. В проекте должна быть структура, т.е. названия разделов и подразделов должны быть записаны в ячейках Markdown.</div>\n",
    "<div class=\"alert alert-warning\" 👉 >\n",
    "Отсутствие описания, целей проекта, его задач, выводов. В описании должны быть озвучены поставленные задачи, содержание датасета, промежуточные и финальные выводы. Как правило, заказчик читает только финальный вывод, поэтому важно добавить информацию о проведенном исследовании, применить форматирование текста, в общем, сделать красиво, чтобы было понятно, что проведено настоящее исследование и выводу можно верить.</div>  \n",
    "<div class=\"alert alert-warning\" 👉 >\n",
    "\"Длинный код\". Код и и комментарии, которые прячутся за правым концом ячейки нужно переносить на новую строку. Твои будущие коллеги не оценят необходимость постоянного скроллинга. Согласно PEP8: https://www.python.org/dev/peps/pep-0008/ длина строки не должна превышать 79 символов.</div>\n",
    "<div class=\"alert alert-warning\" 👉 >\n",
    "Твои коллеги ценят и твое и своё время, поэтому \"подсвечивай\" свои комментарии в ячейках Markdown. Подробнее про синтаксис Markdown, с примерами, можно почитать здесь: https://paulradzkov.com/2014/markdown_cheatsheet/?\n",
    "</div>\n"
   ]
  },
  {
   "cell_type": "markdown",
   "metadata": {},
   "source": [
    "<div class=\"alert alert-block alert-info\">\n",
    "<b>🔁Комментарий студента:</b>\n",
    "Привет) Работа непростая, в какой-то момент я поплыл. Проверь, пожалуйста, может попадутся на глаза грубые ошибки.\n",
    "</div>"
   ]
  },
  {
   "cell_type": "markdown",
   "metadata": {},
   "source": [
    "<div class=\"alert alert-warning\">\n",
    "<b>Комментарий 👉</b>\n",
    "\n",
    "Да, приступаю....\n",
    "</div>"
   ]
  },
  {
   "cell_type": "markdown",
   "metadata": {},
   "source": [
    "<div class=\"alert alert-block alert-info\">\n",
    "<b>🔁Комментарий студента:</b>\n",
    "Читать твои заметки - одно удовольствие) \n",
    "    \"КТО ОН, НАШ КЛИЕНТ?\" - увидь я эту фразу раньше, то всё сразу бы встало на свои места, благодарю) \n",
    "    \"прогноз успешности видеоигр\" я сам едва понимаю)\n",
    "</div>"
   ]
  },
  {
   "cell_type": "markdown",
   "metadata": {},
   "source": [
    "<div class=\"alert alert-success\">\n",
    "<b>КОММЕНТАРИЙ V2</b>\n",
    "\n",
    "Привет Денис! Жизнь \"богата\" - кто-то и о клиентах не слышит, но работает только с коробками видеоигр ))))\n",
    "</div>"
   ]
  },
  {
   "cell_type": "code",
   "execution_count": null,
   "metadata": {},
   "outputs": [],
   "source": []
  },
  {
   "cell_type": "markdown",
   "metadata": {},
   "source": [
    "# Прогноз успешности видеоигр\n",
    "\n",
    "Интернет-магазин «Стримчик» по всему миру компьютерные игры. Из открытых источников доступны исторические данные о продажах игр, оценки пользователей и экспертов, жанры и платформы (например, Xbox или PlayStation). Необходимо выявить определяющие успешность игры закономерности. Это позволит сделать ставку на потенциально популярный продукт и спланировать рекламные кампании.\n",
    "\n",
    "`Цель`: Определить закономерности, сопровождающие успех игры.\n",
    "\n",
    "`Задачи`: \n",
    "\n",
    "+Получить файл базы данных, убедиться в его работоспособности, изучить общую информацию.\n",
    "\n",
    "+Провести предобработку данных, привести таблицу в удобный вид, заполнить пропуски по необходимости.\n",
    "\n",
    "+Провести исследовательский анализ данных, изучить популярность видеоигр, приставок и платформ. Изучить влияние жанра, региона, отзывов критиков и самих пользователей.\n",
    "\n",
    "+Составить портрет типичного покупателя по регионам.\n",
    "\n",
    "+Проверить 2 гипотезы.\n",
    "\n",
    "+Написать общий вывод."
   ]
  },
  {
   "cell_type": "markdown",
   "metadata": {},
   "source": [
    "## Открыть базу данных, ознакомиться с общей информацией"
   ]
  },
  {
   "cell_type": "markdown",
   "metadata": {},
   "source": [
    "### Импорт библиотек"
   ]
  },
  {
   "cell_type": "code",
   "execution_count": 2,
   "metadata": {},
   "outputs": [],
   "source": [
    "import pandas as pd\n",
    "import numpy as np\n",
    "import matplotlib.pyplot as plt\n",
    "import seaborn as sns\n",
    "from scipy import stats as st"
   ]
  },
  {
   "cell_type": "markdown",
   "metadata": {},
   "source": [
    "### Знакомоство с датафреймом"
   ]
  },
  {
   "cell_type": "code",
   "execution_count": 3,
   "metadata": {},
   "outputs": [],
   "source": [
    "try:\n",
    "    data = pd.read_csv('/datasets/games.csv')\n",
    "except: \n",
    "    data = pd.read_csv('games.csv')"
   ]
  },
  {
   "cell_type": "markdown",
   "metadata": {},
   "source": [
    "<div class=\"alert alert-success\">\n",
    "<b>ОТЛИЧНО! 👍</b>\n",
    "\n",
    "Здесь хорошо! При такой загрузке данных и тебе комфортно работать с проектом на домашнем ПК и у меня всё ОК во время проверки проекта в Юпитер Хабе</div>"
   ]
  },
  {
   "cell_type": "code",
   "execution_count": 4,
   "metadata": {},
   "outputs": [
    {
     "data": {
      "text/html": [
       "<div>\n",
       "<style scoped>\n",
       "    .dataframe tbody tr th:only-of-type {\n",
       "        vertical-align: middle;\n",
       "    }\n",
       "\n",
       "    .dataframe tbody tr th {\n",
       "        vertical-align: top;\n",
       "    }\n",
       "\n",
       "    .dataframe thead th {\n",
       "        text-align: right;\n",
       "    }\n",
       "</style>\n",
       "<table border=\"1\" class=\"dataframe\">\n",
       "  <thead>\n",
       "    <tr style=\"text-align: right;\">\n",
       "      <th></th>\n",
       "      <th>Name</th>\n",
       "      <th>Platform</th>\n",
       "      <th>Year_of_Release</th>\n",
       "      <th>Genre</th>\n",
       "      <th>NA_sales</th>\n",
       "      <th>EU_sales</th>\n",
       "      <th>JP_sales</th>\n",
       "      <th>Other_sales</th>\n",
       "      <th>Critic_Score</th>\n",
       "      <th>User_Score</th>\n",
       "      <th>Rating</th>\n",
       "    </tr>\n",
       "  </thead>\n",
       "  <tbody>\n",
       "    <tr>\n",
       "      <th>0</th>\n",
       "      <td>Wii Sports</td>\n",
       "      <td>Wii</td>\n",
       "      <td>2006.0</td>\n",
       "      <td>Sports</td>\n",
       "      <td>41.36</td>\n",
       "      <td>28.96</td>\n",
       "      <td>3.77</td>\n",
       "      <td>8.45</td>\n",
       "      <td>76.0</td>\n",
       "      <td>8</td>\n",
       "      <td>E</td>\n",
       "    </tr>\n",
       "    <tr>\n",
       "      <th>1</th>\n",
       "      <td>Super Mario Bros.</td>\n",
       "      <td>NES</td>\n",
       "      <td>1985.0</td>\n",
       "      <td>Platform</td>\n",
       "      <td>29.08</td>\n",
       "      <td>3.58</td>\n",
       "      <td>6.81</td>\n",
       "      <td>0.77</td>\n",
       "      <td>NaN</td>\n",
       "      <td>NaN</td>\n",
       "      <td>NaN</td>\n",
       "    </tr>\n",
       "    <tr>\n",
       "      <th>2</th>\n",
       "      <td>Mario Kart Wii</td>\n",
       "      <td>Wii</td>\n",
       "      <td>2008.0</td>\n",
       "      <td>Racing</td>\n",
       "      <td>15.68</td>\n",
       "      <td>12.76</td>\n",
       "      <td>3.79</td>\n",
       "      <td>3.29</td>\n",
       "      <td>82.0</td>\n",
       "      <td>8.3</td>\n",
       "      <td>E</td>\n",
       "    </tr>\n",
       "    <tr>\n",
       "      <th>3</th>\n",
       "      <td>Wii Sports Resort</td>\n",
       "      <td>Wii</td>\n",
       "      <td>2009.0</td>\n",
       "      <td>Sports</td>\n",
       "      <td>15.61</td>\n",
       "      <td>10.93</td>\n",
       "      <td>3.28</td>\n",
       "      <td>2.95</td>\n",
       "      <td>80.0</td>\n",
       "      <td>8</td>\n",
       "      <td>E</td>\n",
       "    </tr>\n",
       "    <tr>\n",
       "      <th>4</th>\n",
       "      <td>Pokemon Red/Pokemon Blue</td>\n",
       "      <td>GB</td>\n",
       "      <td>1996.0</td>\n",
       "      <td>Role-Playing</td>\n",
       "      <td>11.27</td>\n",
       "      <td>8.89</td>\n",
       "      <td>10.22</td>\n",
       "      <td>1.00</td>\n",
       "      <td>NaN</td>\n",
       "      <td>NaN</td>\n",
       "      <td>NaN</td>\n",
       "    </tr>\n",
       "    <tr>\n",
       "      <th>5</th>\n",
       "      <td>Tetris</td>\n",
       "      <td>GB</td>\n",
       "      <td>1989.0</td>\n",
       "      <td>Puzzle</td>\n",
       "      <td>23.20</td>\n",
       "      <td>2.26</td>\n",
       "      <td>4.22</td>\n",
       "      <td>0.58</td>\n",
       "      <td>NaN</td>\n",
       "      <td>NaN</td>\n",
       "      <td>NaN</td>\n",
       "    </tr>\n",
       "    <tr>\n",
       "      <th>6</th>\n",
       "      <td>New Super Mario Bros.</td>\n",
       "      <td>DS</td>\n",
       "      <td>2006.0</td>\n",
       "      <td>Platform</td>\n",
       "      <td>11.28</td>\n",
       "      <td>9.14</td>\n",
       "      <td>6.50</td>\n",
       "      <td>2.88</td>\n",
       "      <td>89.0</td>\n",
       "      <td>8.5</td>\n",
       "      <td>E</td>\n",
       "    </tr>\n",
       "    <tr>\n",
       "      <th>7</th>\n",
       "      <td>Wii Play</td>\n",
       "      <td>Wii</td>\n",
       "      <td>2006.0</td>\n",
       "      <td>Misc</td>\n",
       "      <td>13.96</td>\n",
       "      <td>9.18</td>\n",
       "      <td>2.93</td>\n",
       "      <td>2.84</td>\n",
       "      <td>58.0</td>\n",
       "      <td>6.6</td>\n",
       "      <td>E</td>\n",
       "    </tr>\n",
       "    <tr>\n",
       "      <th>8</th>\n",
       "      <td>New Super Mario Bros. Wii</td>\n",
       "      <td>Wii</td>\n",
       "      <td>2009.0</td>\n",
       "      <td>Platform</td>\n",
       "      <td>14.44</td>\n",
       "      <td>6.94</td>\n",
       "      <td>4.70</td>\n",
       "      <td>2.24</td>\n",
       "      <td>87.0</td>\n",
       "      <td>8.4</td>\n",
       "      <td>E</td>\n",
       "    </tr>\n",
       "    <tr>\n",
       "      <th>9</th>\n",
       "      <td>Duck Hunt</td>\n",
       "      <td>NES</td>\n",
       "      <td>1984.0</td>\n",
       "      <td>Shooter</td>\n",
       "      <td>26.93</td>\n",
       "      <td>0.63</td>\n",
       "      <td>0.28</td>\n",
       "      <td>0.47</td>\n",
       "      <td>NaN</td>\n",
       "      <td>NaN</td>\n",
       "      <td>NaN</td>\n",
       "    </tr>\n",
       "  </tbody>\n",
       "</table>\n",
       "</div>"
      ],
      "text/plain": [
       "                        Name Platform  Year_of_Release         Genre  \\\n",
       "0                 Wii Sports      Wii           2006.0        Sports   \n",
       "1          Super Mario Bros.      NES           1985.0      Platform   \n",
       "2             Mario Kart Wii      Wii           2008.0        Racing   \n",
       "3          Wii Sports Resort      Wii           2009.0        Sports   \n",
       "4   Pokemon Red/Pokemon Blue       GB           1996.0  Role-Playing   \n",
       "5                     Tetris       GB           1989.0        Puzzle   \n",
       "6      New Super Mario Bros.       DS           2006.0      Platform   \n",
       "7                   Wii Play      Wii           2006.0          Misc   \n",
       "8  New Super Mario Bros. Wii      Wii           2009.0      Platform   \n",
       "9                  Duck Hunt      NES           1984.0       Shooter   \n",
       "\n",
       "   NA_sales  EU_sales  JP_sales  Other_sales  Critic_Score User_Score Rating  \n",
       "0     41.36     28.96      3.77         8.45          76.0          8      E  \n",
       "1     29.08      3.58      6.81         0.77           NaN        NaN    NaN  \n",
       "2     15.68     12.76      3.79         3.29          82.0        8.3      E  \n",
       "3     15.61     10.93      3.28         2.95          80.0          8      E  \n",
       "4     11.27      8.89     10.22         1.00           NaN        NaN    NaN  \n",
       "5     23.20      2.26      4.22         0.58           NaN        NaN    NaN  \n",
       "6     11.28      9.14      6.50         2.88          89.0        8.5      E  \n",
       "7     13.96      9.18      2.93         2.84          58.0        6.6      E  \n",
       "8     14.44      6.94      4.70         2.24          87.0        8.4      E  \n",
       "9     26.93      0.63      0.28         0.47           NaN        NaN    NaN  "
      ]
     },
     "execution_count": 4,
     "metadata": {},
     "output_type": "execute_result"
    }
   ],
   "source": [
    "data.head(10)"
   ]
  },
  {
   "cell_type": "code",
   "execution_count": 5,
   "metadata": {
    "scrolled": false
   },
   "outputs": [
    {
     "name": "stdout",
     "output_type": "stream",
     "text": [
      "<class 'pandas.core.frame.DataFrame'>\n",
      "RangeIndex: 16715 entries, 0 to 16714\n",
      "Data columns (total 11 columns):\n",
      " #   Column           Non-Null Count  Dtype  \n",
      "---  ------           --------------  -----  \n",
      " 0   Name             16713 non-null  object \n",
      " 1   Platform         16715 non-null  object \n",
      " 2   Year_of_Release  16446 non-null  float64\n",
      " 3   Genre            16713 non-null  object \n",
      " 4   NA_sales         16715 non-null  float64\n",
      " 5   EU_sales         16715 non-null  float64\n",
      " 6   JP_sales         16715 non-null  float64\n",
      " 7   Other_sales      16715 non-null  float64\n",
      " 8   Critic_Score     8137 non-null   float64\n",
      " 9   User_Score       10014 non-null  object \n",
      " 10  Rating           9949 non-null   object \n",
      "dtypes: float64(6), object(5)\n",
      "memory usage: 1.4+ MB\n"
     ]
    }
   ],
   "source": [
    "data.info()"
   ]
  },
  {
   "cell_type": "code",
   "execution_count": 6,
   "metadata": {},
   "outputs": [
    {
     "data": {
      "text/plain": [
       "[1980.0,\n",
       " 1981.0,\n",
       " 1982.0,\n",
       " 1983.0,\n",
       " 1984.0,\n",
       " 1985.0,\n",
       " 1986.0,\n",
       " 1987.0,\n",
       " 1988.0,\n",
       " 1989.0,\n",
       " 1990.0,\n",
       " 1991.0,\n",
       " 1992.0,\n",
       " 1993.0,\n",
       " 1994.0,\n",
       " 1995.0,\n",
       " 1996.0,\n",
       " 1997.0,\n",
       " 1998.0,\n",
       " 1999.0,\n",
       " 2000.0,\n",
       " 2001.0,\n",
       " 2002.0,\n",
       " 2003.0,\n",
       " 2004.0,\n",
       " 2005.0,\n",
       " 2006.0,\n",
       " 2007.0,\n",
       " 2008.0,\n",
       " 2009.0,\n",
       " 2010.0,\n",
       " 2011.0,\n",
       " 2012.0,\n",
       " 2013.0,\n",
       " 2014.0,\n",
       " 2015.0,\n",
       " 2016.0,\n",
       " nan]"
      ]
     },
     "execution_count": 6,
     "metadata": {},
     "output_type": "execute_result"
    }
   ],
   "source": [
    "temp = data['Year_of_Release'].unique() \n",
    "sorted(temp) \n",
    "# в принципе, эту инфу можно увидеть в .describe() - min и max в столбце 'year_of release'"
   ]
  },
  {
   "cell_type": "code",
   "execution_count": 7,
   "metadata": {},
   "outputs": [
    {
     "data": {
      "text/plain": [
       "31"
      ]
     },
     "execution_count": 7,
     "metadata": {},
     "output_type": "execute_result"
    }
   ],
   "source": [
    "len(data['Platform'].unique()) # сколько всего различных платформ попали в анализ"
   ]
  },
  {
   "cell_type": "code",
   "execution_count": 8,
   "metadata": {},
   "outputs": [
    {
     "data": {
      "text/html": [
       "<div>\n",
       "<style scoped>\n",
       "    .dataframe tbody tr th:only-of-type {\n",
       "        vertical-align: middle;\n",
       "    }\n",
       "\n",
       "    .dataframe tbody tr th {\n",
       "        vertical-align: top;\n",
       "    }\n",
       "\n",
       "    .dataframe thead th {\n",
       "        text-align: right;\n",
       "    }\n",
       "</style>\n",
       "<table border=\"1\" class=\"dataframe\">\n",
       "  <thead>\n",
       "    <tr style=\"text-align: right;\">\n",
       "      <th></th>\n",
       "      <th>Year_of_Release</th>\n",
       "      <th>NA_sales</th>\n",
       "      <th>EU_sales</th>\n",
       "      <th>JP_sales</th>\n",
       "      <th>Other_sales</th>\n",
       "      <th>Critic_Score</th>\n",
       "    </tr>\n",
       "  </thead>\n",
       "  <tbody>\n",
       "    <tr>\n",
       "      <th>count</th>\n",
       "      <td>16446.000000</td>\n",
       "      <td>16715.000000</td>\n",
       "      <td>16715.000000</td>\n",
       "      <td>16715.000000</td>\n",
       "      <td>16715.000000</td>\n",
       "      <td>8137.000000</td>\n",
       "    </tr>\n",
       "    <tr>\n",
       "      <th>mean</th>\n",
       "      <td>2006.484616</td>\n",
       "      <td>0.263377</td>\n",
       "      <td>0.145060</td>\n",
       "      <td>0.077617</td>\n",
       "      <td>0.047342</td>\n",
       "      <td>68.967679</td>\n",
       "    </tr>\n",
       "    <tr>\n",
       "      <th>std</th>\n",
       "      <td>5.877050</td>\n",
       "      <td>0.813604</td>\n",
       "      <td>0.503339</td>\n",
       "      <td>0.308853</td>\n",
       "      <td>0.186731</td>\n",
       "      <td>13.938165</td>\n",
       "    </tr>\n",
       "    <tr>\n",
       "      <th>min</th>\n",
       "      <td>1980.000000</td>\n",
       "      <td>0.000000</td>\n",
       "      <td>0.000000</td>\n",
       "      <td>0.000000</td>\n",
       "      <td>0.000000</td>\n",
       "      <td>13.000000</td>\n",
       "    </tr>\n",
       "    <tr>\n",
       "      <th>25%</th>\n",
       "      <td>2003.000000</td>\n",
       "      <td>0.000000</td>\n",
       "      <td>0.000000</td>\n",
       "      <td>0.000000</td>\n",
       "      <td>0.000000</td>\n",
       "      <td>60.000000</td>\n",
       "    </tr>\n",
       "    <tr>\n",
       "      <th>50%</th>\n",
       "      <td>2007.000000</td>\n",
       "      <td>0.080000</td>\n",
       "      <td>0.020000</td>\n",
       "      <td>0.000000</td>\n",
       "      <td>0.010000</td>\n",
       "      <td>71.000000</td>\n",
       "    </tr>\n",
       "    <tr>\n",
       "      <th>75%</th>\n",
       "      <td>2010.000000</td>\n",
       "      <td>0.240000</td>\n",
       "      <td>0.110000</td>\n",
       "      <td>0.040000</td>\n",
       "      <td>0.030000</td>\n",
       "      <td>79.000000</td>\n",
       "    </tr>\n",
       "    <tr>\n",
       "      <th>max</th>\n",
       "      <td>2016.000000</td>\n",
       "      <td>41.360000</td>\n",
       "      <td>28.960000</td>\n",
       "      <td>10.220000</td>\n",
       "      <td>10.570000</td>\n",
       "      <td>98.000000</td>\n",
       "    </tr>\n",
       "  </tbody>\n",
       "</table>\n",
       "</div>"
      ],
      "text/plain": [
       "       Year_of_Release      NA_sales      EU_sales      JP_sales  \\\n",
       "count     16446.000000  16715.000000  16715.000000  16715.000000   \n",
       "mean       2006.484616      0.263377      0.145060      0.077617   \n",
       "std           5.877050      0.813604      0.503339      0.308853   \n",
       "min        1980.000000      0.000000      0.000000      0.000000   \n",
       "25%        2003.000000      0.000000      0.000000      0.000000   \n",
       "50%        2007.000000      0.080000      0.020000      0.000000   \n",
       "75%        2010.000000      0.240000      0.110000      0.040000   \n",
       "max        2016.000000     41.360000     28.960000     10.220000   \n",
       "\n",
       "        Other_sales  Critic_Score  \n",
       "count  16715.000000   8137.000000  \n",
       "mean       0.047342     68.967679  \n",
       "std        0.186731     13.938165  \n",
       "min        0.000000     13.000000  \n",
       "25%        0.000000     60.000000  \n",
       "50%        0.010000     71.000000  \n",
       "75%        0.030000     79.000000  \n",
       "max       10.570000     98.000000  "
      ]
     },
     "execution_count": 8,
     "metadata": {},
     "output_type": "execute_result"
    }
   ],
   "source": [
    "data.describe() #рассматриваем описание столбцов с количественными значениями"
   ]
  },
  {
   "cell_type": "markdown",
   "metadata": {},
   "source": [
    "### Вывод:\n",
    "\n",
    "Я имею на руках базу данных о продажах видеоигр с 1980 по 2016 годы на различных (а именно 31 штука) приставках и платформах.\n",
    "\n",
    "Всего записей - 16715. \n",
    "\n",
    "База данных несёт в себе информацию о названии игры, годе выпуска, платформе, жанре, продажам в различных регионах, рейтингах и отзывах критиков и покупателей. Данные представлены в различных форматах - количественных, качественных. Количественные возможно оценить функцией .describe()\n",
    "Эта информация `соответствует` заявленной в описании проекта.\n",
    "\n",
    "База открывается, значения и обозначения понятны, доступны к описанию.\n",
    "Следующим шагом будет предобработка данных и приведение базы к удобному виду для анализа.\n"
   ]
  },
  {
   "cell_type": "markdown",
   "metadata": {},
   "source": [
    "<div class=\"alert alert-warning\">\n",
    "<b>Комментарий 👉</b>\n",
    "\n",
    "Здесь явно напрашивается вывод по разделу. Что делали? Что сделали? Что запускали? Какие предварительные выводы можем сделать по данным? Что планируем делать дальше?\n",
    "\n",
    "Старайся каждый оканчивающийся (под)раздел заканчивать выводом. Пусть даже и коротким (1-2-3 предложения). Ведь каждый раздел/подраздел - это логическая часть, которая шаг за шагом приближает к финальному результату. Если некоторые эти раздельчики будут лишены вывода, то, например, у менеджера, который будет читать твой проект, но который при этом не искушен в понимании кода могут возникнуть вопросы: зачем мы эту часть делали? что в ней получили? почему эти действия важны нам? Ну и так далее ....</div>"
   ]
  },
  {
   "cell_type": "markdown",
   "metadata": {},
   "source": [
    "<div class=\"alert alert-block alert-info\">\n",
    "<b>🔁Комментарий студента:</b>\n",
    "Сделано!\n",
    "</div>"
   ]
  },
  {
   "cell_type": "markdown",
   "metadata": {},
   "source": [
    "<div class=\"alert alert-success\">\n",
    "<b>КОММЕНТАРИЙ V2</b>\n",
    "\n",
    "Хорошо. В любом случае (под)раздел, который заканчивается каким-то выводом (пусть и коротким) - он выигрывает у своего \"безмолвного\" аналога. Во втором случае у \"читателя\" твоего проекта может остаться чувство некоей \"недосказанности\", необработанности раздела/кода.\n",
    "</div>\n"
   ]
  },
  {
   "cell_type": "markdown",
   "metadata": {},
   "source": [
    "\n",
    "\n",
    "## Предобработка данных"
   ]
  },
  {
   "cell_type": "markdown",
   "metadata": {},
   "source": [
    "### Приведение названий столбцов в корректный вид"
   ]
  },
  {
   "cell_type": "code",
   "execution_count": 9,
   "metadata": {},
   "outputs": [],
   "source": [
    "#for i in data.columns:\n",
    "#    data = data.rename(columns = {i:i.lower()}) #привел названия столбцов к нижнему регистру\n",
    "\n",
    "data.columns=data.columns.str.lower()"
   ]
  },
  {
   "cell_type": "markdown",
   "metadata": {},
   "source": [
    "<div class=\"alert alert-warning\">\n",
    "<b>Комментарий 👉</b>\n",
    "\n",
    "Так можно, но проще (с точки зрения количества кода) сделать это через str.lower().\n",
    "</div>"
   ]
  },
  {
   "cell_type": "markdown",
   "metadata": {},
   "source": [
    "<div class=\"alert alert-block alert-info\">\n",
    "<b>🔁Комментарий студента:</b>\n",
    "Нашёл эту функцию позже. Исправил\n",
    "</div>"
   ]
  },
  {
   "cell_type": "markdown",
   "metadata": {},
   "source": [
    "<div class=\"alert alert-success\">\n",
    "<b>КОММЕНТАРИЙ V2</b>\n",
    "\n",
    "+\n",
    "</div>\n"
   ]
  },
  {
   "cell_type": "markdown",
   "metadata": {},
   "source": [
    "### Обработка дубликатов и пропусков"
   ]
  },
  {
   "cell_type": "code",
   "execution_count": 10,
   "metadata": {},
   "outputs": [
    {
     "data": {
      "text/plain": [
       "0"
      ]
     },
     "execution_count": 10,
     "metadata": {},
     "output_type": "execute_result"
    }
   ],
   "source": [
    "data.duplicated().sum() # явные дубликаты отсутствуют"
   ]
  },
  {
   "cell_type": "code",
   "execution_count": 11,
   "metadata": {},
   "outputs": [],
   "source": [
    "#subset"
   ]
  },
  {
   "cell_type": "code",
   "execution_count": 12,
   "metadata": {},
   "outputs": [
    {
     "data": {
      "text/plain": [
       "5"
      ]
     },
     "execution_count": 12,
     "metadata": {},
     "output_type": "execute_result"
    }
   ],
   "source": [
    "data.duplicated(subset=['name','platform']).sum()"
   ]
  },
  {
   "cell_type": "code",
   "execution_count": 13,
   "metadata": {
    "scrolled": true
   },
   "outputs": [
    {
     "data": {
      "text/html": [
       "<div>\n",
       "<style scoped>\n",
       "    .dataframe tbody tr th:only-of-type {\n",
       "        vertical-align: middle;\n",
       "    }\n",
       "\n",
       "    .dataframe tbody tr th {\n",
       "        vertical-align: top;\n",
       "    }\n",
       "\n",
       "    .dataframe thead th {\n",
       "        text-align: right;\n",
       "    }\n",
       "</style>\n",
       "<table border=\"1\" class=\"dataframe\">\n",
       "  <thead>\n",
       "    <tr style=\"text-align: right;\">\n",
       "      <th></th>\n",
       "      <th>name</th>\n",
       "      <th>platform</th>\n",
       "      <th>year_of_release</th>\n",
       "      <th>genre</th>\n",
       "      <th>na_sales</th>\n",
       "      <th>eu_sales</th>\n",
       "      <th>jp_sales</th>\n",
       "      <th>other_sales</th>\n",
       "      <th>critic_score</th>\n",
       "      <th>user_score</th>\n",
       "      <th>rating</th>\n",
       "    </tr>\n",
       "  </thead>\n",
       "  <tbody>\n",
       "    <tr>\n",
       "      <th>1591</th>\n",
       "      <td>Need for Speed: Most Wanted</td>\n",
       "      <td>X360</td>\n",
       "      <td>2005.0</td>\n",
       "      <td>Racing</td>\n",
       "      <td>1.0</td>\n",
       "      <td>0.13</td>\n",
       "      <td>0.02</td>\n",
       "      <td>0.10</td>\n",
       "      <td>83.0</td>\n",
       "      <td>8.5</td>\n",
       "      <td>T</td>\n",
       "    </tr>\n",
       "    <tr>\n",
       "      <th>4127</th>\n",
       "      <td>Sonic the Hedgehog</td>\n",
       "      <td>PS3</td>\n",
       "      <td>NaN</td>\n",
       "      <td>Platform</td>\n",
       "      <td>0.0</td>\n",
       "      <td>0.48</td>\n",
       "      <td>0.00</td>\n",
       "      <td>0.00</td>\n",
       "      <td>43.0</td>\n",
       "      <td>4.1</td>\n",
       "      <td>E10+</td>\n",
       "    </tr>\n",
       "    <tr>\n",
       "      <th>11715</th>\n",
       "      <td>Need for Speed: Most Wanted</td>\n",
       "      <td>PC</td>\n",
       "      <td>2012.0</td>\n",
       "      <td>Racing</td>\n",
       "      <td>0.0</td>\n",
       "      <td>0.06</td>\n",
       "      <td>0.00</td>\n",
       "      <td>0.02</td>\n",
       "      <td>82.0</td>\n",
       "      <td>8.5</td>\n",
       "      <td>T</td>\n",
       "    </tr>\n",
       "    <tr>\n",
       "      <th>14244</th>\n",
       "      <td>NaN</td>\n",
       "      <td>GEN</td>\n",
       "      <td>1993.0</td>\n",
       "      <td>NaN</td>\n",
       "      <td>0.0</td>\n",
       "      <td>0.00</td>\n",
       "      <td>0.03</td>\n",
       "      <td>0.00</td>\n",
       "      <td>NaN</td>\n",
       "      <td>NaN</td>\n",
       "      <td>NaN</td>\n",
       "    </tr>\n",
       "    <tr>\n",
       "      <th>16230</th>\n",
       "      <td>Madden NFL 13</td>\n",
       "      <td>PS3</td>\n",
       "      <td>2012.0</td>\n",
       "      <td>Sports</td>\n",
       "      <td>0.0</td>\n",
       "      <td>0.01</td>\n",
       "      <td>0.00</td>\n",
       "      <td>0.00</td>\n",
       "      <td>83.0</td>\n",
       "      <td>5.5</td>\n",
       "      <td>E</td>\n",
       "    </tr>\n",
       "  </tbody>\n",
       "</table>\n",
       "</div>"
      ],
      "text/plain": [
       "                              name platform  year_of_release     genre  \\\n",
       "1591   Need for Speed: Most Wanted     X360           2005.0    Racing   \n",
       "4127            Sonic the Hedgehog      PS3              NaN  Platform   \n",
       "11715  Need for Speed: Most Wanted       PC           2012.0    Racing   \n",
       "14244                          NaN      GEN           1993.0       NaN   \n",
       "16230                Madden NFL 13      PS3           2012.0    Sports   \n",
       "\n",
       "       na_sales  eu_sales  jp_sales  other_sales  critic_score user_score  \\\n",
       "1591        1.0      0.13      0.02         0.10          83.0        8.5   \n",
       "4127        0.0      0.48      0.00         0.00          43.0        4.1   \n",
       "11715       0.0      0.06      0.00         0.02          82.0        8.5   \n",
       "14244       0.0      0.00      0.03         0.00           NaN        NaN   \n",
       "16230       0.0      0.01      0.00         0.00          83.0        5.5   \n",
       "\n",
       "      rating  \n",
       "1591       T  \n",
       "4127    E10+  \n",
       "11715      T  \n",
       "14244    NaN  \n",
       "16230      E  "
      ]
     },
     "execution_count": 13,
     "metadata": {},
     "output_type": "execute_result"
    }
   ],
   "source": [
    "data.loc[data.duplicated(subset=['name','platform']), :]"
   ]
  },
  {
   "cell_type": "code",
   "execution_count": 14,
   "metadata": {},
   "outputs": [
    {
     "data": {
      "text/html": [
       "<div>\n",
       "<style scoped>\n",
       "    .dataframe tbody tr th:only-of-type {\n",
       "        vertical-align: middle;\n",
       "    }\n",
       "\n",
       "    .dataframe tbody tr th {\n",
       "        vertical-align: top;\n",
       "    }\n",
       "\n",
       "    .dataframe thead th {\n",
       "        text-align: right;\n",
       "    }\n",
       "</style>\n",
       "<table border=\"1\" class=\"dataframe\">\n",
       "  <thead>\n",
       "    <tr style=\"text-align: right;\">\n",
       "      <th></th>\n",
       "      <th>name</th>\n",
       "      <th>platform</th>\n",
       "      <th>year_of_release</th>\n",
       "      <th>genre</th>\n",
       "      <th>na_sales</th>\n",
       "      <th>eu_sales</th>\n",
       "      <th>jp_sales</th>\n",
       "      <th>other_sales</th>\n",
       "      <th>critic_score</th>\n",
       "      <th>user_score</th>\n",
       "      <th>rating</th>\n",
       "    </tr>\n",
       "  </thead>\n",
       "  <tbody>\n",
       "    <tr>\n",
       "      <th>507</th>\n",
       "      <td>Madden NFL 13</td>\n",
       "      <td>X360</td>\n",
       "      <td>2012.0</td>\n",
       "      <td>Sports</td>\n",
       "      <td>2.53</td>\n",
       "      <td>0.15</td>\n",
       "      <td>0.0</td>\n",
       "      <td>0.17</td>\n",
       "      <td>81.0</td>\n",
       "      <td>5.8</td>\n",
       "      <td>E</td>\n",
       "    </tr>\n",
       "    <tr>\n",
       "      <th>604</th>\n",
       "      <td>Madden NFL 13</td>\n",
       "      <td>PS3</td>\n",
       "      <td>2012.0</td>\n",
       "      <td>Sports</td>\n",
       "      <td>2.11</td>\n",
       "      <td>0.22</td>\n",
       "      <td>0.0</td>\n",
       "      <td>0.23</td>\n",
       "      <td>83.0</td>\n",
       "      <td>5.5</td>\n",
       "      <td>E</td>\n",
       "    </tr>\n",
       "    <tr>\n",
       "      <th>3986</th>\n",
       "      <td>Madden NFL 13</td>\n",
       "      <td>Wii</td>\n",
       "      <td>2012.0</td>\n",
       "      <td>Sports</td>\n",
       "      <td>0.47</td>\n",
       "      <td>0.00</td>\n",
       "      <td>0.0</td>\n",
       "      <td>0.03</td>\n",
       "      <td>NaN</td>\n",
       "      <td>7.3</td>\n",
       "      <td>E</td>\n",
       "    </tr>\n",
       "    <tr>\n",
       "      <th>5887</th>\n",
       "      <td>Madden NFL 13</td>\n",
       "      <td>PSV</td>\n",
       "      <td>2012.0</td>\n",
       "      <td>Sports</td>\n",
       "      <td>0.28</td>\n",
       "      <td>0.00</td>\n",
       "      <td>0.0</td>\n",
       "      <td>0.02</td>\n",
       "      <td>63.0</td>\n",
       "      <td>7.3</td>\n",
       "      <td>E</td>\n",
       "    </tr>\n",
       "    <tr>\n",
       "      <th>7066</th>\n",
       "      <td>Madden NFL 13</td>\n",
       "      <td>WiiU</td>\n",
       "      <td>2012.0</td>\n",
       "      <td>Sports</td>\n",
       "      <td>0.21</td>\n",
       "      <td>0.00</td>\n",
       "      <td>0.0</td>\n",
       "      <td>0.02</td>\n",
       "      <td>75.0</td>\n",
       "      <td>6.7</td>\n",
       "      <td>E</td>\n",
       "    </tr>\n",
       "    <tr>\n",
       "      <th>16230</th>\n",
       "      <td>Madden NFL 13</td>\n",
       "      <td>PS3</td>\n",
       "      <td>2012.0</td>\n",
       "      <td>Sports</td>\n",
       "      <td>0.00</td>\n",
       "      <td>0.01</td>\n",
       "      <td>0.0</td>\n",
       "      <td>0.00</td>\n",
       "      <td>83.0</td>\n",
       "      <td>5.5</td>\n",
       "      <td>E</td>\n",
       "    </tr>\n",
       "  </tbody>\n",
       "</table>\n",
       "</div>"
      ],
      "text/plain": [
       "                name platform  year_of_release   genre  na_sales  eu_sales  \\\n",
       "507    Madden NFL 13     X360           2012.0  Sports      2.53      0.15   \n",
       "604    Madden NFL 13      PS3           2012.0  Sports      2.11      0.22   \n",
       "3986   Madden NFL 13      Wii           2012.0  Sports      0.47      0.00   \n",
       "5887   Madden NFL 13      PSV           2012.0  Sports      0.28      0.00   \n",
       "7066   Madden NFL 13     WiiU           2012.0  Sports      0.21      0.00   \n",
       "16230  Madden NFL 13      PS3           2012.0  Sports      0.00      0.01   \n",
       "\n",
       "       jp_sales  other_sales  critic_score user_score rating  \n",
       "507         0.0         0.17          81.0        5.8      E  \n",
       "604         0.0         0.23          83.0        5.5      E  \n",
       "3986        0.0         0.03           NaN        7.3      E  \n",
       "5887        0.0         0.02          63.0        7.3      E  \n",
       "7066        0.0         0.02          75.0        6.7      E  \n",
       "16230       0.0         0.00          83.0        5.5      E  "
      ]
     },
     "execution_count": 14,
     "metadata": {},
     "output_type": "execute_result"
    }
   ],
   "source": [
    "data.loc[data['name'] == 'Madden NFL 13'] # копипасть для проверки 'Need for Speed: Most Wanted' 'Madden NFL 13' 'Sonic the Hedgehog'"
   ]
  },
  {
   "cell_type": "markdown",
   "metadata": {},
   "source": [
    "<div class=\"alert alert-warning\">\n",
    "<b>Предложение 👉</b>\n",
    "\n",
    "**df.duplicated().sum() == 0** не означает, что в данных нет дубликатов (записей). \n",
    "    \n",
    "В реальных рабочих датасетах скорее всего не будет полных дубликатов, но вот неявные наверняка будут встречаться, соответственно с ними надо будет уметь работать. Попробуй найти неявные дубликаты (нужно использовать параметр **subset**). Ну а в нашем учебном проекте пробуй найти дубликаты для пары \"Имя - Игровая консоль\".\n",
    "\n",
    "Как их планируешь и планируешь ли обрабатывать?</div>"
   ]
  },
  {
   "cell_type": "markdown",
   "metadata": {},
   "source": [
    "<div class=\"alert alert-block alert-info\">\n",
    "<b>🔁Комментарий студента:</b>    \n",
    "Нашёл неявные дубликаты по назанию и платформе. \n",
    "\n",
    "    \n",
    "Важным отличием является год выпуска, в некоторых случаях это перевыпуск игры. Эти оставляем.\n",
    "    \n",
    "В некоторых случаях - разные регионы сбыта, что тоже не входило в фильтр. Эти так же оставляем.\n",
    "    \n",
    "Всего 5 дубликатов - иголка в стоге сена, не повляют на дальнейшние действия.\n",
    "    \n",
    "Исправлено.\n",
    "\n",
    "</div>"
   ]
  },
  {
   "cell_type": "markdown",
   "metadata": {},
   "source": [
    "<div class=\"alert alert-success\">\n",
    "<b>КОММЕНТАРИЙ V2</b>\n",
    "\n",
    "Отлично, верно! После анализа явных и неявных дубликатов вполне может быть принято решение их не обрабатывать/не удалять/ещё что-то, но пропускать сам шаг поиска (неявных) дублей не стоит (это один из обязательных шагов в пайплайне EDA).\n",
    "</div>\n"
   ]
  },
  {
   "cell_type": "markdown",
   "metadata": {},
   "source": [
    "Смотрю на количество пропусков:"
   ]
  },
  {
   "cell_type": "code",
   "execution_count": 15,
   "metadata": {},
   "outputs": [
    {
     "data": {
      "text/plain": [
       "name                  2\n",
       "platform              0\n",
       "year_of_release     269\n",
       "genre                 2\n",
       "na_sales              0\n",
       "eu_sales              0\n",
       "jp_sales              0\n",
       "other_sales           0\n",
       "critic_score       8578\n",
       "user_score         6701\n",
       "rating             6766\n",
       "dtype: int64"
      ]
     },
     "execution_count": 15,
     "metadata": {},
     "output_type": "execute_result"
    }
   ],
   "source": [
    "data.isna().sum() #количество пропусков. "
   ]
  },
  {
   "cell_type": "markdown",
   "metadata": {},
   "source": [
    "А конкретно: 2 пропуска в названиях игр и жанре(скорее всего техническая ошибка, т.к. название игры - единственный уникальный идентификатор). Удаляю 2 пропуска.\n",
    "269 пропусков года выпуска - так же считаю технической ошибкой при составлении базы, т.к. пропуски здесь составляют всего 1.5 процента. Предлагаю функцию, которая способна частично заполнить эти пропуски. Далее по ситуации.\n",
    "\n",
    "Отзывы критиков и отзывы пользователей заполнены примерно на 2\\3. \n",
    "Рейтинг игр так же заполнен только на 2\\3. Требует внимания. "
   ]
  },
  {
   "cell_type": "code",
   "execution_count": 16,
   "metadata": {},
   "outputs": [
    {
     "data": {
      "text/plain": [
       "array([76., nan, 82., 80., 89., 58., 87., 91., 61., 97., 95., 77., 88.,\n",
       "       83., 94., 93., 85., 86., 98., 96., 90., 84., 73., 74., 78., 92.,\n",
       "       71., 72., 68., 62., 49., 67., 81., 66., 56., 79., 70., 59., 64.,\n",
       "       75., 60., 63., 69., 50., 25., 42., 44., 55., 48., 57., 29., 47.,\n",
       "       65., 54., 20., 53., 37., 38., 33., 52., 30., 32., 43., 45., 51.,\n",
       "       40., 46., 39., 34., 35., 41., 36., 28., 31., 27., 26., 19., 23.,\n",
       "       24., 21., 17., 22., 13.])"
      ]
     },
     "execution_count": 16,
     "metadata": {},
     "output_type": "execute_result"
    }
   ],
   "source": [
    "data['critic_score'].unique()"
   ]
  },
  {
   "cell_type": "markdown",
   "metadata": {},
   "source": [
    "В стобцах с оценками от критиков вижу адекватные оценки в диапазоне от 0 до 100 и пустые значения Nan. "
   ]
  },
  {
   "cell_type": "code",
   "execution_count": 17,
   "metadata": {
    "scrolled": false
   },
   "outputs": [
    {
     "data": {
      "text/plain": [
       "array(['8', nan, '8.3', '8.5', '6.6', '8.4', '8.6', '7.7', '6.3', '7.4',\n",
       "       '8.2', '9', '7.9', '8.1', '8.7', '7.1', '3.4', '5.3', '4.8', '3.2',\n",
       "       '8.9', '6.4', '7.8', '7.5', '2.6', '7.2', '9.2', '7', '7.3', '4.3',\n",
       "       '7.6', '5.7', '5', '9.1', '6.5', 'tbd', '8.8', '6.9', '9.4', '6.8',\n",
       "       '6.1', '6.7', '5.4', '4', '4.9', '4.5', '9.3', '6.2', '4.2', '6',\n",
       "       '3.7', '4.1', '5.8', '5.6', '5.5', '4.4', '4.6', '5.9', '3.9',\n",
       "       '3.1', '2.9', '5.2', '3.3', '4.7', '5.1', '3.5', '2.5', '1.9', '3',\n",
       "       '2.7', '2.2', '2', '9.5', '2.1', '3.6', '2.8', '1.8', '3.8', '0',\n",
       "       '1.6', '9.6', '2.4', '1.7', '1.1', '0.3', '1.5', '0.7', '1.2',\n",
       "       '2.3', '0.5', '1.3', '0.2', '0.6', '1.4', '0.9', '1', '9.7'],\n",
       "      dtype=object)"
      ]
     },
     "execution_count": 17,
     "metadata": {},
     "output_type": "execute_result"
    }
   ],
   "source": [
    "data['user_score'].unique()"
   ]
  },
  {
   "cell_type": "markdown",
   "metadata": {},
   "source": [
    "В стобцах с оценками от покупателей вижу значения от 0 до 10 баллов, пустые значения nan и выбивающееся значение `TBD`. Означает `'To Be Determined'` ('Будет определено'). "
   ]
  },
  {
   "cell_type": "code",
   "execution_count": 18,
   "metadata": {},
   "outputs": [
    {
     "data": {
      "text/plain": [
       "array(['E', nan, 'M', 'T', 'E10+', 'K-A', 'AO', 'EC', 'RP'], dtype=object)"
      ]
     },
     "execution_count": 18,
     "metadata": {},
     "output_type": "execute_result"
    }
   ],
   "source": [
    "data['rating'].unique()"
   ]
  },
  {
   "cell_type": "markdown",
   "metadata": {},
   "source": [
    "Вижу различные цифро-буквенные значения и пустые значения nan. \n",
    "Согласно Википедии эти аббревиатуры обозначают возрастной рейтинг. Пропуски качественные, заполнить средним или медианой невозможно. Без однозначного определения рейтинга игры нет возможности заполнить пропуск корректно. Однако, возможно, избавиться от пропуска создав \"новое\" качественное значение(заглушку) - \"not_defined\"."
   ]
  },
  {
   "cell_type": "markdown",
   "metadata": {},
   "source": [
    "**В итоге после знакомства с пропусками напрашивается вывод об огромных пропусках в столбцах оценок и рейтингов. В описании задачи указана аббревиатура ESRB - Entertainment Software Rating Board. Указано, что это Американская компания. Делаю вывод, что за основу столбцов рейтинга и обзоров была взята информация только по продажам в Северной Америке, и рейтинги из остальных регионов в эту базу данных не попали.**"
   ]
  },
  {
   "cell_type": "markdown",
   "metadata": {},
   "source": [
    "<div class=\"alert alert-danger\">\n",
    "<b>Необходимо исправить ❌</b>\n",
    "\n",
    "**Прежде чем производить какие-либо модификации данных (удалять пропуски / заполнять пропуски «заглушкой / оставлять пропуски «как есть») хотелось бы порассуждать на тему природы пропусков в наших данных**.\n",
    "\n",
    "Одна из задач этого проекта (согласно брифа): \n",
    "\n",
    "1. Объясните, почему заполнили пропуски определённым образом или почему не стали это делать, \n",
    "\n",
    "2. Опишите причины, которые могли привести к пропускам \n",
    "\n",
    "3. Обратите внимание на аббревиатуру 'tbd' в столбце с оценкой пользователей. Отдельно разберите это значение и опишите, как его обработать.\n",
    "\n",
    "4. Также, скажи пожалуйста, какова на твой взгляд причина того, что в столбце с оценками экспертов, с оценками пользователей и с рейтингами так много пропусков? Как ты считаешь, может ли быть какая-то связь с тем, что в столбце с рейтингами >40% пропусков и тем кто эти рейтинги выставляет?</div>"
   ]
  },
  {
   "cell_type": "markdown",
   "metadata": {},
   "source": [
    "<div class=\"alert alert-block alert-info\">\n",
    "<b>🔁Комментарий студента:</b>    \n",
    "Спасибо за наводку в пункте 4.\n",
    "Исправлено.\n",
    "</div>"
   ]
  },
  {
   "cell_type": "markdown",
   "metadata": {},
   "source": [
    "<div class=\"alert alert-success\">\n",
    "<b>КОММЕНТАРИЙ V2</b>\n",
    "\n",
    "Да, хорошо, ряд предположений, касаемо \"природы пропусков\" высказан корректно - вижу рассуждения на тему пропусков в соответствующих столбцах.\n",
    "</div>\n"
   ]
  },
  {
   "cell_type": "code",
   "execution_count": 19,
   "metadata": {},
   "outputs": [],
   "source": [
    "data.dropna(subset=['name'], inplace=True) # удаляем 2 строки с неизвестными названиями игр"
   ]
  },
  {
   "cell_type": "markdown",
   "metadata": {},
   "source": [
    "В названиях некоторых игр указан год, например (6628 \"Just Dance 2015\"). \n",
    "Предлагаю функцию, которая ищет год выпуска в названии и копирует его в новый столбец 'new_year'\n",
    "В случае если в 'year_of_release' пустое значение, но в названии указан год - заменим пропуск годом из названия."
   ]
  },
  {
   "cell_type": "code",
   "execution_count": 20,
   "metadata": {},
   "outputs": [],
   "source": [
    "def find_year(name):     #функция поиска года выпуска в названии\n",
    "    try: \n",
    "        for i in range(1980, 2018):\n",
    "            if str(i) in name: return(i)\n",
    "    except: pass\n"
   ]
  },
  {
   "cell_type": "code",
   "execution_count": 21,
   "metadata": {},
   "outputs": [],
   "source": [
    "data['new_year'] = data['name'].apply(find_year) #ее применение и создание нового столбца"
   ]
  },
  {
   "cell_type": "code",
   "execution_count": 22,
   "metadata": {
    "scrolled": false
   },
   "outputs": [
    {
     "name": "stderr",
     "output_type": "stream",
     "text": [
      "/tmp/ipykernel_124/3681953143.py:2: SettingWithCopyWarning: \n",
      "A value is trying to be set on a copy of a slice from a DataFrame\n",
      "\n",
      "See the caveats in the documentation: https://pandas.pydata.org/pandas-docs/stable/user_guide/indexing.html#returning-a-view-versus-a-copy\n",
      "  data['year_of_release'][i] = data.loc[data['name'] == data['name'][i], 'new_year'].max()\n"
     ]
    }
   ],
   "source": [
    "for i in data[data['year_of_release'].isna() == True].index:  \n",
    "    data['year_of_release'][i] = data.loc[data['name'] == data['name'][i], 'new_year'].max()\n",
    "# попытка узнать год выпуска из названия игры. К сожалению, есть ошибки, и удалось заполнить всего 17 пропусков из 269\n",
    "#data[data['new_year']==2002]\n",
    "# но попытка достойная)"
   ]
  },
  {
   "cell_type": "markdown",
   "metadata": {},
   "source": [
    "С помощью функции удалось восстановить только 17 пропусков. Остальные предлагаю удалить."
   ]
  },
  {
   "cell_type": "code",
   "execution_count": 23,
   "metadata": {},
   "outputs": [],
   "source": [
    "data.dropna(subset=['year_of_release'], inplace=True) # после использования функции удаляем строки с неизвестным годом выпуска"
   ]
  },
  {
   "cell_type": "code",
   "execution_count": 24,
   "metadata": {
    "scrolled": true
   },
   "outputs": [],
   "source": [
    "del data['new_year'] # удаляем временный столбец"
   ]
  },
  {
   "cell_type": "markdown",
   "metadata": {},
   "source": [
    "<div class=\"alert alert-warning\">\n",
    "<b>Комментарий 👉</b>\n",
    "\n",
    "Я бы после анализа удалил эти записи. Их всего 269 (из 16+ тысяч), меньше 2%. \"Погоды\" они нам не сделают (число этих строк объективно невелико).\n",
    "\n",
    "Написание такого кода всё равно требует времени на написание и отладку.\n",
    "\n",
    "p.s. ну и тем более, все 269 пропусков заполнить не удалось.</div>"
   ]
  },
  {
   "cell_type": "markdown",
   "metadata": {},
   "source": [
    "<div class=\"alert alert-block alert-info\">\n",
    "<b>🔁Комментарий студента:</b>    \n",
    "Исправлено.\n",
    "</div>"
   ]
  },
  {
   "cell_type": "markdown",
   "metadata": {},
   "source": [
    "<div class=\"alert alert-warning\">\n",
    "<b>Комментарий 👉</b>\n",
    "    \n",
    "(Немного рассуждений): да, всего 2 записи (из 16 тысяч) с пропусками в жанрах и названиях (плюс в этих же записях нет ни оценок пользователей, ни оценок критиков, ни рейтингов) и 269 записей (менее 2% из 16+ тысяч) с пропусками в годах выпуска. Казалось бы, надо удалять даже не раздумывая … но единого сценария нет на самом деле. С одной стороны - да, говорят, что \"данных много не бывает\", удалять записи из-за пропусков, когда датасет измеряется всего лишь сотнями-тысячами записей ой как не хочется.\n",
    "\n",
    "С другой стороны, если запись не спасти, если в ней несколько полей не заполнено или не заполнены ключевые поля, и ты чувствуешь, что заполнение их медианами/средними приведёт к смещению статистик - надо удалять. Да, можно поставить \"заглушку\", но тогда надо отдавать отчёт, что во всем последующем коде про эту \"заглушку\" помнить придётся. Т.е. перед построением всех графиков, гистограмм заглушку надо будет удалить. Перед расчетом корреляций - заглушку надо будет удалить. Перед проверкой гипотез заглушку надо будет удалить.\n",
    "\n",
    "Я бы так определил способ решения такой задачи: если записи с пропусками в ключевых для моего анализа полях составляют 1-3-5-до 10% строк, то я бы их из оригинального датафрейма вырезал (но сохранил бы в некий df, к которому при необходимости мог бы обратиться).\n",
    "\n",
    "А вообще, в таких случаях, когда нужно решить - заполнять пропуски или удалять строки с ними из df - всегда ищи эксперта в предметной области и советуйся с ним. Как правило это человек из бизнеса, который значит суть бизнес-процесса и вот именно он даст тебе точный и аргументированный совет - что в данной, конкретной задаче делать с \"битыми\" полями в строках датафрейма.\n",
    "</div>"
   ]
  },
  {
   "cell_type": "markdown",
   "metadata": {},
   "source": [
    "<div class=\"alert alert-block alert-info\">\n",
    "<b>🔁Комментарий студента:</b>    \n",
    "Исправлено. Создан дополнительный столбец с заглушкой.\n",
    "</div>"
   ]
  },
  {
   "cell_type": "markdown",
   "metadata": {},
   "source": [
    "<div class=\"alert alert-success\">\n",
    "<b>КОММЕНТАРИЙ V2</b>\n",
    "\n",
    "По результатам проверки примерно 800 проектов этого типа за крайние 12 месяцев у меня родилось небольшое эссе на тему \"удаления vs. спасения\" данных, как раз на основе тех ситуаций и вопросов, которые мне коллеги задавали, которые мы обсуждали, уточняли и исправляли ... \n",
    "\n",
    "Желание уменьшить количество пропусков в данных (если такое желание конечно возникает ... но в рабочих проектах, \"в жизни\" оно как правило возникает) - можно только приветствовать. Приветствовать по 3-м минимум причинам:\n",
    "\n",
    "1. это тренировка\n",
    "    \n",
    "2. это попытка сохранить данные (\"данных много не бывает\")\n",
    "    \n",
    "3. самое главное на мой взгляд - развитие аналитического мышления, желания \"проникать\" в секреты, которые скрывают данные. Когда вначале рождается гипотеза, потом эта гипотеза проверяется на данных (может ли такое быть? подтверждается?) и в финале уже гипотеза облекается в код.\n",
    "\n",
    "Однако заполнение пропусков в данных не такая простая задача, как кажется ... простого ответа на вопросы: заполнять? удалить? чем заполнять? подходящего под все сценарии, нет ни в одной умной книжке ...\n",
    "\n",
    "Самый идеальный случай - когда у тебя под рукой есть эксперт в предметной области. Если такой есть - советуйся с ним. Как правило это человек из бизнеса, который знает суть бизнес-процесса и вот именно он даст тебе точный и аргументированный совет - что в данной, конкретной задаче делать с \"битыми\" полями в строках датафрейма. Ты скажешь ему какой процент пропусков в данных, а он тебе ответит что делать: можно/нельзя удалить и/или даст рекомендации по заполнению. Вообще, как правило такой человек \"на любой работе\" есть. Для примера, финансовый директор думаю всегда даст рекомендации по финансовым данным, прочие профильные спецы - по своей сфере компетенций. Наверное только в зарождающемся стартапе может не быть каких-то компетенций, но тут уже можно и через фриланс (и т.п.) попробовать найти спеца и просить совета.\n",
    "\n",
    "Теперь, что делать, если такого человека нет. Я бы ответил так: **ПОПЫТАТЬСЯ** вникнуть в бизнес-проблему самому. Наверное это сложно, если предметная область ну совсем незнакома. Но в общем случае, если бизнес совсем незнаком, то заполнение пропусков в данных наверное, не получиться. В таком случае попробуй ориентироваться на такое правило: если записи с пропусками в ключевых для твоего анализа столбцах составляют 1-3-5-ну может до 10% строк, то попробуй эти записи из оригинального датафрейма вырезать (но сохрани бы в некий df, к которому ты при необходимости можешь всегда обратиться).\n",
    "\n",
    "В жизни, МНЕ КАЖЕТСЯ, как правило по всему датафрейму заполнять медианой/средним - ну вообще не вариант. Почему? Я бы ответил так - потому, что реальные датафреймы имеют миллионы строк и горизонт в несколько (десятков) лет, и если в 90-2000-е года всё было как-то более -менее стабильно/прогнозируемо, то в нынешней реальности события раскручиваются гораздо быстрее и не прогнозируемо. Пример: ты аналитик в автобизнесе. У тебя есть данные с пропусками в цене для машин в 2005-2007 года. Можно заполнить их средними основываясь на данных 2020-2021?\n",
    "\n",
    "Может быть и такой вариант, что без заполнения некоторых столбцов некоторые записи по сути **НЕ** имеют смысла, но если их (записи с пропусками удалить), то и данных-то не останется. Ну тогда я бы такой совет дал - всё же заполнять медианой (она к скачкам выбросов более устойчива), но не по всему глобальному датафрейму, а выбрать простые группы (например, группы по интервалу лет - чтобы сгладить турбулентность нынешних лет) или выбрать более сложные группы (например, группы по интервалу лет и одновременно марке автопроизводителя (это я про вымышленный пример с автобизнесом)).\n",
    "\n",
    "Теперь предположим, что мы выбрали какую-то стратегию заполнения \"пропусков\", не суть какую (оставить NaN или заполнить \"заглушкой\"). И в том и в другом случае придётся помнить этот выбор. Ты спросишь почему? Отвечу - потому, что инструменты, применяемые тобой в Питон/Пандас в каких-то случаях могут спокойно пропускать твой выбор, а в каких-то случаях тебе придется этот твой выбор обрабатывать.\n",
    "\n",
    "Пример 1: мы заполнили пропуски \"заглушкой\". В этом случае: 1. расчет корреляций значение \"заглушку\" будет \"ловить\" (надо отфильтровать!), 2. расчет гипотез также будет \"сбивать\" правильный вывод (надо отфильтровать!) 3. графики, которые ты будешь строить - будут \"заглушку\" отображать на осях (нужно фильтровать), 4. в группировках также по-видимому \"заглушку\" надо будет убирать.\n",
    "\n",
    "Пример 2: мы оставили пропуски как NaN. В этом случае: 1. метод .corr NaN'ы пропускает (отфильтровать не надо), 2. в расчет гипотез всё равно пропуски отфильтровать 3. графики, которые ты будешь строить могут отображать, а могут не отображать, 4. в группировках NaN'ы по sum() видны не будут, а по count() будут.\n",
    "\n",
    "Ну и напоследок совсем уже жёсткий пример: додумывать \"от себя\", бездумно проставлять в пропуски медианные/средние значения - это НЕ верно. Давай же опять \"про жизнь\". Я писал выше, что в медицине работаю, да? Предположим мне принесли данные из онкологического диспансера. Задача: построить модель, которая по некоторым маркерным анализам будет прогнозировать наличие онкологии. **По-простому, ответить, что стоит за строчкой в данных: жизнь или смерть.** Уууууух … аж мороз по коже продирает, правда? \n",
    "\n",
    "Итак, 1.000.000 записей и 70 столбцов. Данные за 25 лет. 70 столбцов - это поля, с результатами конкретных и очень специфичных анализов. В \"начале\" данных, 15-20 лет назад, есть пропуски (много), но и в принципе, в данных есть пропуски. Как думаешь - имею я моральное право перед людьми, которые фактически доверяют мне в виде данных свою жизнь огульно подойти к заполнению пропусков?\n",
    "</div>\n"
   ]
  },
  {
   "cell_type": "markdown",
   "metadata": {},
   "source": [
    "### Смена типа данных"
   ]
  },
  {
   "cell_type": "code",
   "execution_count": 25,
   "metadata": {},
   "outputs": [],
   "source": [
    "data['year_of_release'] = data['year_of_release'].astype('Int64') #из float в int\n"
   ]
  },
  {
   "cell_type": "markdown",
   "metadata": {},
   "source": [
    "\"tbd\" согласно википедии расшифровывается как \"To Be Determined\" и переводится \"Будет определено\".\n",
    "Считаю данный текстовый термин лишним, предлагаю заменить на `nan`. Это позволит изменить тип столбца на `float`"
   ]
  },
  {
   "cell_type": "markdown",
   "metadata": {},
   "source": [
    "<div class=\"alert alert-success\">\n",
    "<b>ОТЛИЧНО! 👍</b>\n",
    "\n",
    "То, что ты tbd меняешь на NaN - это правильно. По сути это и есть пропуски (строки с играми, для которых оценка не проставлена, пропущена по каким-то причинам).</div>"
   ]
  },
  {
   "cell_type": "code",
   "execution_count": 26,
   "metadata": {},
   "outputs": [],
   "source": [
    "data['user_score'] = data['user_score'].replace('tbd', np.nan, regex=True)\n",
    "data['user_score'] = data['user_score'].astype(float) #меняем тип из object в float"
   ]
  },
  {
   "cell_type": "markdown",
   "metadata": {},
   "source": [
    "Заполнять 8576 пропусков(это половина) оценки критиков одним числом вижу бессмысленным - получается огромный пик."
   ]
  },
  {
   "cell_type": "markdown",
   "metadata": {},
   "source": [
    "<div class=\"alert alert-success\">\n",
    "<b>ОТЛИЧНО! 👍</b>\n",
    "\n",
    "То, что ты в 'critic_score' и 'user_score' (после обращения tbd в NaN) оставляешь NaN'ы без обработки - значительно упростит тебе жизнь дальше. В этом проекте - это верное решение.</div>"
   ]
  },
  {
   "cell_type": "code",
   "execution_count": 27,
   "metadata": {},
   "outputs": [],
   "source": [
    "#data['critic_score'] = data['critic_score'].fillna(data['critic_score'].median())"
   ]
  },
  {
   "cell_type": "markdown",
   "metadata": {},
   "source": [
    "В наборе данных попадается аббревиатура ESRB (`Entertainment Software Rating Board`) — это ассоциация, определяющая возрастной рейтинг компьютерных игр. \n",
    "Из википедии узнаем, что рейтинг \"K-A\" заменен на \"E10+\". Однако, это всего 3 строчки. "
   ]
  },
  {
   "cell_type": "code",
   "execution_count": 28,
   "metadata": {},
   "outputs": [],
   "source": [
    "data.loc[(data['rating']=='K-A'), 'rating'] = 'E10+'"
   ]
  },
  {
   "cell_type": "markdown",
   "metadata": {},
   "source": [
    "<div class=\"alert alert-warning\">\n",
    "<b>Комментарий 👉</b>\n",
    "\n",
    "Один из ключевых моментов этого проекта: ты пропуски в 'rating' оставляешь как NaN, без заполнения «заглушкой». Это ОК здесь. Но дальше, когда мы будем строить график для игр в соответствии с их рейтингами - надо будет вспомнить этот момент ... Если не вспомнишь и не обработаешь эти \"пропуски\", то из анализа игры без рейтинга исчезнут. Ну и соответственно мы сделаем неправильные выводы.\n",
    "\n",
    "Отметь этот момент - возможно нам придется вернуться сюда.</div>"
   ]
  },
  {
   "cell_type": "code",
   "execution_count": 29,
   "metadata": {},
   "outputs": [],
   "source": [
    "data['new_rating'] = data['rating'].fillna(value = 'not_defined')"
   ]
  },
  {
   "cell_type": "markdown",
   "metadata": {},
   "source": [
    "<div class=\"alert alert-block alert-info\">\n",
    "<b>🔁Комментарий студента:</b>    \n",
    "    \n",
    "В итоге так и поступил. Создана новая строчка new_rating, в ней пропуски заменены на текст-заглушку \"not_defined\".\n",
    "А старая строка \"rating\" не пострадала. Для анализа годятся обе.\n",
    "    \n",
    "Чуть-чуть нарушил структуру - обработал пропуски в пункте \"смена типа данных\". Но в целом всё работает.\n",
    "    \n",
    "Исправлено!\n",
    "</div>"
   ]
  },
  {
   "cell_type": "markdown",
   "metadata": {},
   "source": [
    "<div class=\"alert alert-success\">\n",
    "<b>КОММЕНТАРИЙ V2</b>\n",
    "\n",
    "Да, теперь игры без рейтинга из нашего анализа не очевидно выпадут, отлично!\n",
    "</div>\n"
   ]
  },
  {
   "cell_type": "markdown",
   "metadata": {},
   "source": [
    "### Создание столбца с количеством продаж по всему миру"
   ]
  },
  {
   "cell_type": "code",
   "execution_count": 30,
   "metadata": {},
   "outputs": [],
   "source": [
    "#data['world_sales'] = data['na_sales'] + data['eu_sales'] + data['jp_sales'] + data['other_sales']\n",
    "data['world_sales'] = data[['na_sales','eu_sales','jp_sales', 'other_sales']].sum(axis='columns')"
   ]
  },
  {
   "cell_type": "markdown",
   "metadata": {},
   "source": [
    "<div class=\"alert alert-warning\">\n",
    "<b>Комментарий 👉</b>\n",
    "\n",
    "Ещё такой вариант суммирования есть (просто как альтернатива … **псевдокод**): **data[['na_sales','eu_sales','jp_sales', 'other_sales']].sum(axis='columns')** и \"присвоить\" этот результат новому столбцу в **data**.</div>"
   ]
  },
  {
   "cell_type": "markdown",
   "metadata": {},
   "source": [
    "<div class=\"alert alert-block alert-info\">\n",
    "<b>🔁Комментарий студента:</b>    \n",
    "Оценил, оба варианта работают одинаково, возьму твой.\n",
    "</div>"
   ]
  },
  {
   "cell_type": "code",
   "execution_count": 31,
   "metadata": {
    "scrolled": false
   },
   "outputs": [
    {
     "data": {
      "text/html": [
       "<div>\n",
       "<style scoped>\n",
       "    .dataframe tbody tr th:only-of-type {\n",
       "        vertical-align: middle;\n",
       "    }\n",
       "\n",
       "    .dataframe tbody tr th {\n",
       "        vertical-align: top;\n",
       "    }\n",
       "\n",
       "    .dataframe thead th {\n",
       "        text-align: right;\n",
       "    }\n",
       "</style>\n",
       "<table border=\"1\" class=\"dataframe\">\n",
       "  <thead>\n",
       "    <tr style=\"text-align: right;\">\n",
       "      <th></th>\n",
       "      <th>name</th>\n",
       "      <th>platform</th>\n",
       "      <th>year_of_release</th>\n",
       "      <th>genre</th>\n",
       "      <th>na_sales</th>\n",
       "      <th>eu_sales</th>\n",
       "      <th>jp_sales</th>\n",
       "      <th>other_sales</th>\n",
       "      <th>critic_score</th>\n",
       "      <th>user_score</th>\n",
       "      <th>rating</th>\n",
       "      <th>new_rating</th>\n",
       "      <th>world_sales</th>\n",
       "    </tr>\n",
       "  </thead>\n",
       "  <tbody>\n",
       "    <tr>\n",
       "      <th>3966</th>\n",
       "      <td>R.U.S.E.</td>\n",
       "      <td>PS3</td>\n",
       "      <td>2010</td>\n",
       "      <td>Strategy</td>\n",
       "      <td>0.18</td>\n",
       "      <td>0.22</td>\n",
       "      <td>0.02</td>\n",
       "      <td>0.08</td>\n",
       "      <td>76.0</td>\n",
       "      <td>7.3</td>\n",
       "      <td>T</td>\n",
       "      <td>T</td>\n",
       "      <td>0.50</td>\n",
       "    </tr>\n",
       "    <tr>\n",
       "      <th>11066</th>\n",
       "      <td>Spectral Force Genesis</td>\n",
       "      <td>DS</td>\n",
       "      <td>2008</td>\n",
       "      <td>Role-Playing</td>\n",
       "      <td>0.08</td>\n",
       "      <td>0.00</td>\n",
       "      <td>0.01</td>\n",
       "      <td>0.01</td>\n",
       "      <td>46.0</td>\n",
       "      <td>7.0</td>\n",
       "      <td>T</td>\n",
       "      <td>T</td>\n",
       "      <td>0.10</td>\n",
       "    </tr>\n",
       "    <tr>\n",
       "      <th>12252</th>\n",
       "      <td>Flower, Sun, and Rain</td>\n",
       "      <td>DS</td>\n",
       "      <td>2008</td>\n",
       "      <td>Adventure</td>\n",
       "      <td>0.06</td>\n",
       "      <td>0.00</td>\n",
       "      <td>0.00</td>\n",
       "      <td>0.00</td>\n",
       "      <td>54.0</td>\n",
       "      <td>7.1</td>\n",
       "      <td>T</td>\n",
       "      <td>T</td>\n",
       "      <td>0.06</td>\n",
       "    </tr>\n",
       "    <tr>\n",
       "      <th>10384</th>\n",
       "      <td>FlatOut: Ultimate Carnage</td>\n",
       "      <td>X360</td>\n",
       "      <td>2007</td>\n",
       "      <td>Racing</td>\n",
       "      <td>0.07</td>\n",
       "      <td>0.02</td>\n",
       "      <td>0.00</td>\n",
       "      <td>0.01</td>\n",
       "      <td>80.0</td>\n",
       "      <td>8.8</td>\n",
       "      <td>T</td>\n",
       "      <td>T</td>\n",
       "      <td>0.10</td>\n",
       "    </tr>\n",
       "    <tr>\n",
       "      <th>1097</th>\n",
       "      <td>Until Dawn</td>\n",
       "      <td>PS4</td>\n",
       "      <td>2015</td>\n",
       "      <td>Adventure</td>\n",
       "      <td>0.45</td>\n",
       "      <td>0.90</td>\n",
       "      <td>0.05</td>\n",
       "      <td>0.26</td>\n",
       "      <td>79.0</td>\n",
       "      <td>8.2</td>\n",
       "      <td>M</td>\n",
       "      <td>M</td>\n",
       "      <td>1.66</td>\n",
       "    </tr>\n",
       "    <tr>\n",
       "      <th>810</th>\n",
       "      <td>Need for Speed: Most Wanted 5-1-0</td>\n",
       "      <td>PSP</td>\n",
       "      <td>2005</td>\n",
       "      <td>Racing</td>\n",
       "      <td>1.77</td>\n",
       "      <td>0.12</td>\n",
       "      <td>0.02</td>\n",
       "      <td>0.17</td>\n",
       "      <td>72.0</td>\n",
       "      <td>7.8</td>\n",
       "      <td>E10+</td>\n",
       "      <td>E10+</td>\n",
       "      <td>2.08</td>\n",
       "    </tr>\n",
       "    <tr>\n",
       "      <th>5198</th>\n",
       "      <td>NFL GameDay 2001</td>\n",
       "      <td>PS2</td>\n",
       "      <td>2000</td>\n",
       "      <td>Sports</td>\n",
       "      <td>0.18</td>\n",
       "      <td>0.14</td>\n",
       "      <td>0.00</td>\n",
       "      <td>0.05</td>\n",
       "      <td>51.0</td>\n",
       "      <td>NaN</td>\n",
       "      <td>E</td>\n",
       "      <td>E</td>\n",
       "      <td>0.37</td>\n",
       "    </tr>\n",
       "    <tr>\n",
       "      <th>10622</th>\n",
       "      <td>Vanishing Point</td>\n",
       "      <td>PS</td>\n",
       "      <td>2001</td>\n",
       "      <td>Racing</td>\n",
       "      <td>0.06</td>\n",
       "      <td>0.04</td>\n",
       "      <td>0.00</td>\n",
       "      <td>0.01</td>\n",
       "      <td>68.0</td>\n",
       "      <td>NaN</td>\n",
       "      <td>E</td>\n",
       "      <td>E</td>\n",
       "      <td>0.11</td>\n",
       "    </tr>\n",
       "    <tr>\n",
       "      <th>8444</th>\n",
       "      <td>Shawn Johnson Gymnastics</td>\n",
       "      <td>Wii</td>\n",
       "      <td>2010</td>\n",
       "      <td>Sports</td>\n",
       "      <td>0.16</td>\n",
       "      <td>0.00</td>\n",
       "      <td>0.00</td>\n",
       "      <td>0.01</td>\n",
       "      <td>NaN</td>\n",
       "      <td>NaN</td>\n",
       "      <td>E</td>\n",
       "      <td>E</td>\n",
       "      <td>0.17</td>\n",
       "    </tr>\n",
       "    <tr>\n",
       "      <th>6519</th>\n",
       "      <td>Imagine: Fashion Party</td>\n",
       "      <td>Wii</td>\n",
       "      <td>2009</td>\n",
       "      <td>Simulation</td>\n",
       "      <td>0.24</td>\n",
       "      <td>0.00</td>\n",
       "      <td>0.00</td>\n",
       "      <td>0.02</td>\n",
       "      <td>NaN</td>\n",
       "      <td>NaN</td>\n",
       "      <td>E</td>\n",
       "      <td>E</td>\n",
       "      <td>0.26</td>\n",
       "    </tr>\n",
       "    <tr>\n",
       "      <th>3524</th>\n",
       "      <td>FIFA World Cup Germany 2006</td>\n",
       "      <td>PS2</td>\n",
       "      <td>2006</td>\n",
       "      <td>Sports</td>\n",
       "      <td>0.47</td>\n",
       "      <td>0.02</td>\n",
       "      <td>0.00</td>\n",
       "      <td>0.08</td>\n",
       "      <td>77.0</td>\n",
       "      <td>8.1</td>\n",
       "      <td>E</td>\n",
       "      <td>E</td>\n",
       "      <td>0.57</td>\n",
       "    </tr>\n",
       "    <tr>\n",
       "      <th>14915</th>\n",
       "      <td>Divinity II: Flames of Vengeance</td>\n",
       "      <td>PC</td>\n",
       "      <td>2010</td>\n",
       "      <td>Role-Playing</td>\n",
       "      <td>0.00</td>\n",
       "      <td>0.02</td>\n",
       "      <td>0.00</td>\n",
       "      <td>0.01</td>\n",
       "      <td>72.0</td>\n",
       "      <td>8.3</td>\n",
       "      <td>M</td>\n",
       "      <td>M</td>\n",
       "      <td>0.03</td>\n",
       "    </tr>\n",
       "    <tr>\n",
       "      <th>12333</th>\n",
       "      <td>Mario vs. Donkey Kong: Tipping Stars</td>\n",
       "      <td>3DS</td>\n",
       "      <td>2015</td>\n",
       "      <td>Puzzle</td>\n",
       "      <td>0.00</td>\n",
       "      <td>0.00</td>\n",
       "      <td>0.06</td>\n",
       "      <td>0.00</td>\n",
       "      <td>70.0</td>\n",
       "      <td>7.5</td>\n",
       "      <td>E</td>\n",
       "      <td>E</td>\n",
       "      <td>0.06</td>\n",
       "    </tr>\n",
       "    <tr>\n",
       "      <th>10401</th>\n",
       "      <td>Dragon Ball Z Super Gokuden: Kakusei-Hen</td>\n",
       "      <td>SNES</td>\n",
       "      <td>1995</td>\n",
       "      <td>Role-Playing</td>\n",
       "      <td>0.00</td>\n",
       "      <td>0.00</td>\n",
       "      <td>0.11</td>\n",
       "      <td>0.00</td>\n",
       "      <td>NaN</td>\n",
       "      <td>NaN</td>\n",
       "      <td>NaN</td>\n",
       "      <td>not_defined</td>\n",
       "      <td>0.11</td>\n",
       "    </tr>\n",
       "    <tr>\n",
       "      <th>5575</th>\n",
       "      <td>Bust-A-Move '99</td>\n",
       "      <td>PS</td>\n",
       "      <td>1997</td>\n",
       "      <td>Puzzle</td>\n",
       "      <td>0.18</td>\n",
       "      <td>0.12</td>\n",
       "      <td>0.00</td>\n",
       "      <td>0.02</td>\n",
       "      <td>NaN</td>\n",
       "      <td>NaN</td>\n",
       "      <td>NaN</td>\n",
       "      <td>not_defined</td>\n",
       "      <td>0.32</td>\n",
       "    </tr>\n",
       "  </tbody>\n",
       "</table>\n",
       "</div>"
      ],
      "text/plain": [
       "                                           name platform  year_of_release  \\\n",
       "3966                                   R.U.S.E.      PS3             2010   \n",
       "11066                    Spectral Force Genesis       DS             2008   \n",
       "12252                     Flower, Sun, and Rain       DS             2008   \n",
       "10384                 FlatOut: Ultimate Carnage     X360             2007   \n",
       "1097                                 Until Dawn      PS4             2015   \n",
       "810           Need for Speed: Most Wanted 5-1-0      PSP             2005   \n",
       "5198                           NFL GameDay 2001      PS2             2000   \n",
       "10622                           Vanishing Point       PS             2001   \n",
       "8444                   Shawn Johnson Gymnastics      Wii             2010   \n",
       "6519                     Imagine: Fashion Party      Wii             2009   \n",
       "3524                FIFA World Cup Germany 2006      PS2             2006   \n",
       "14915          Divinity II: Flames of Vengeance       PC             2010   \n",
       "12333      Mario vs. Donkey Kong: Tipping Stars      3DS             2015   \n",
       "10401  Dragon Ball Z Super Gokuden: Kakusei-Hen     SNES             1995   \n",
       "5575                            Bust-A-Move '99       PS             1997   \n",
       "\n",
       "              genre  na_sales  eu_sales  jp_sales  other_sales  critic_score  \\\n",
       "3966       Strategy      0.18      0.22      0.02         0.08          76.0   \n",
       "11066  Role-Playing      0.08      0.00      0.01         0.01          46.0   \n",
       "12252     Adventure      0.06      0.00      0.00         0.00          54.0   \n",
       "10384        Racing      0.07      0.02      0.00         0.01          80.0   \n",
       "1097      Adventure      0.45      0.90      0.05         0.26          79.0   \n",
       "810          Racing      1.77      0.12      0.02         0.17          72.0   \n",
       "5198         Sports      0.18      0.14      0.00         0.05          51.0   \n",
       "10622        Racing      0.06      0.04      0.00         0.01          68.0   \n",
       "8444         Sports      0.16      0.00      0.00         0.01           NaN   \n",
       "6519     Simulation      0.24      0.00      0.00         0.02           NaN   \n",
       "3524         Sports      0.47      0.02      0.00         0.08          77.0   \n",
       "14915  Role-Playing      0.00      0.02      0.00         0.01          72.0   \n",
       "12333        Puzzle      0.00      0.00      0.06         0.00          70.0   \n",
       "10401  Role-Playing      0.00      0.00      0.11         0.00           NaN   \n",
       "5575         Puzzle      0.18      0.12      0.00         0.02           NaN   \n",
       "\n",
       "       user_score rating   new_rating  world_sales  \n",
       "3966          7.3      T            T         0.50  \n",
       "11066         7.0      T            T         0.10  \n",
       "12252         7.1      T            T         0.06  \n",
       "10384         8.8      T            T         0.10  \n",
       "1097          8.2      M            M         1.66  \n",
       "810           7.8   E10+         E10+         2.08  \n",
       "5198          NaN      E            E         0.37  \n",
       "10622         NaN      E            E         0.11  \n",
       "8444          NaN      E            E         0.17  \n",
       "6519          NaN      E            E         0.26  \n",
       "3524          8.1      E            E         0.57  \n",
       "14915         8.3      M            M         0.03  \n",
       "12333         7.5      E            E         0.06  \n",
       "10401         NaN    NaN  not_defined         0.11  \n",
       "5575          NaN    NaN  not_defined         0.32  "
      ]
     },
     "execution_count": 31,
     "metadata": {},
     "output_type": "execute_result"
    }
   ],
   "source": [
    "data.sample(15) #случайные 15 строк"
   ]
  },
  {
   "cell_type": "markdown",
   "metadata": {},
   "source": [
    "### **Вывод: проведены заполнения пропусков, смена типа данных `'year_of_release'` и `'user_score'`. Добавлен столбец `'world_sales'`**"
   ]
  },
  {
   "cell_type": "markdown",
   "metadata": {},
   "source": [
    "<div class=\"alert alert-success\">\n",
    "<b>ОТЛИЧНО! 👍</b>\n",
    "\n",
    "Данные загружены, отлично.\n",
    "\n",
    "Хорошо, что применяешь метод .head()/.sample() таким образом в память не будет загружен весь датасет, объем которого может быть огромным.\n",
    "\n",
    "Методы .info, .describe, .value_counts(), .unique() как правило часто встречаются и обязательны к применению в задачах по исследованию данных, ведь с их помощью можно получить первые инсайты. \n",
    "\n",
    "Итак, мы провели предварительный анализ данных, проверили данные на наличие пропусков и затем обработали их (аргументированно заполнили / удалили / оставили как есть). Теперь можно приступать собственно к анализу данных и ответам на вопросы проекта.</div>"
   ]
  },
  {
   "cell_type": "markdown",
   "metadata": {},
   "source": [
    "\n",
    "## Проведение исследовательского анализа данных"
   ]
  },
  {
   "cell_type": "markdown",
   "metadata": {},
   "source": [
    "### Оценка количества игр, выпущеных по годам."
   ]
  },
  {
   "cell_type": "code",
   "execution_count": 32,
   "metadata": {},
   "outputs": [],
   "source": [
    "#games_in_year = data.pivot_table(index='year_of_release', values='name', aggfunc='count')\n",
    "#games_in_year.plot(figsize=(15, 10)).set_title('Производство игр по годам');\n",
    "#plt.ylabel(\"Количество игр\");\n",
    "#plt.xlabel(\"Год\");"
   ]
  },
  {
   "cell_type": "markdown",
   "metadata": {},
   "source": [
    "Только в данном случае будем считать одну и ту же игру, выпущенную на разные платформы - дубликатом и избавимся от него. Оставим только 1 экземпляр."
   ]
  },
  {
   "cell_type": "code",
   "execution_count": 33,
   "metadata": {
    "scrolled": false
   },
   "outputs": [
    {
     "data": {
      "text/html": [
       "<div>\n",
       "<style scoped>\n",
       "    .dataframe tbody tr th:only-of-type {\n",
       "        vertical-align: middle;\n",
       "    }\n",
       "\n",
       "    .dataframe tbody tr th {\n",
       "        vertical-align: top;\n",
       "    }\n",
       "\n",
       "    .dataframe thead th {\n",
       "        text-align: right;\n",
       "    }\n",
       "</style>\n",
       "<table border=\"1\" class=\"dataframe\">\n",
       "  <thead>\n",
       "    <tr style=\"text-align: right;\">\n",
       "      <th></th>\n",
       "      <th>name</th>\n",
       "      <th>platform</th>\n",
       "      <th>year_of_release</th>\n",
       "      <th>genre</th>\n",
       "      <th>na_sales</th>\n",
       "      <th>eu_sales</th>\n",
       "      <th>jp_sales</th>\n",
       "      <th>other_sales</th>\n",
       "      <th>critic_score</th>\n",
       "      <th>user_score</th>\n",
       "      <th>rating</th>\n",
       "      <th>new_rating</th>\n",
       "      <th>world_sales</th>\n",
       "    </tr>\n",
       "  </thead>\n",
       "  <tbody>\n",
       "    <tr>\n",
       "      <th>0</th>\n",
       "      <td>Wii Sports</td>\n",
       "      <td>Wii</td>\n",
       "      <td>2006</td>\n",
       "      <td>Sports</td>\n",
       "      <td>41.36</td>\n",
       "      <td>28.96</td>\n",
       "      <td>3.77</td>\n",
       "      <td>8.45</td>\n",
       "      <td>76.0</td>\n",
       "      <td>8.0</td>\n",
       "      <td>E</td>\n",
       "      <td>E</td>\n",
       "      <td>82.54</td>\n",
       "    </tr>\n",
       "    <tr>\n",
       "      <th>1</th>\n",
       "      <td>Super Mario Bros.</td>\n",
       "      <td>NES</td>\n",
       "      <td>1985</td>\n",
       "      <td>Platform</td>\n",
       "      <td>29.08</td>\n",
       "      <td>3.58</td>\n",
       "      <td>6.81</td>\n",
       "      <td>0.77</td>\n",
       "      <td>NaN</td>\n",
       "      <td>NaN</td>\n",
       "      <td>NaN</td>\n",
       "      <td>not_defined</td>\n",
       "      <td>40.24</td>\n",
       "    </tr>\n",
       "    <tr>\n",
       "      <th>2</th>\n",
       "      <td>Mario Kart Wii</td>\n",
       "      <td>Wii</td>\n",
       "      <td>2008</td>\n",
       "      <td>Racing</td>\n",
       "      <td>15.68</td>\n",
       "      <td>12.76</td>\n",
       "      <td>3.79</td>\n",
       "      <td>3.29</td>\n",
       "      <td>82.0</td>\n",
       "      <td>8.3</td>\n",
       "      <td>E</td>\n",
       "      <td>E</td>\n",
       "      <td>35.52</td>\n",
       "    </tr>\n",
       "    <tr>\n",
       "      <th>3</th>\n",
       "      <td>Wii Sports Resort</td>\n",
       "      <td>Wii</td>\n",
       "      <td>2009</td>\n",
       "      <td>Sports</td>\n",
       "      <td>15.61</td>\n",
       "      <td>10.93</td>\n",
       "      <td>3.28</td>\n",
       "      <td>2.95</td>\n",
       "      <td>80.0</td>\n",
       "      <td>8.0</td>\n",
       "      <td>E</td>\n",
       "      <td>E</td>\n",
       "      <td>32.77</td>\n",
       "    </tr>\n",
       "    <tr>\n",
       "      <th>4</th>\n",
       "      <td>Pokemon Red/Pokemon Blue</td>\n",
       "      <td>GB</td>\n",
       "      <td>1996</td>\n",
       "      <td>Role-Playing</td>\n",
       "      <td>11.27</td>\n",
       "      <td>8.89</td>\n",
       "      <td>10.22</td>\n",
       "      <td>1.00</td>\n",
       "      <td>NaN</td>\n",
       "      <td>NaN</td>\n",
       "      <td>NaN</td>\n",
       "      <td>not_defined</td>\n",
       "      <td>31.38</td>\n",
       "    </tr>\n",
       "    <tr>\n",
       "      <th>...</th>\n",
       "      <td>...</td>\n",
       "      <td>...</td>\n",
       "      <td>...</td>\n",
       "      <td>...</td>\n",
       "      <td>...</td>\n",
       "      <td>...</td>\n",
       "      <td>...</td>\n",
       "      <td>...</td>\n",
       "      <td>...</td>\n",
       "      <td>...</td>\n",
       "      <td>...</td>\n",
       "      <td>...</td>\n",
       "      <td>...</td>\n",
       "    </tr>\n",
       "    <tr>\n",
       "      <th>16710</th>\n",
       "      <td>Samurai Warriors: Sanada Maru</td>\n",
       "      <td>PS3</td>\n",
       "      <td>2016</td>\n",
       "      <td>Action</td>\n",
       "      <td>0.00</td>\n",
       "      <td>0.00</td>\n",
       "      <td>0.01</td>\n",
       "      <td>0.00</td>\n",
       "      <td>NaN</td>\n",
       "      <td>NaN</td>\n",
       "      <td>NaN</td>\n",
       "      <td>not_defined</td>\n",
       "      <td>0.01</td>\n",
       "    </tr>\n",
       "    <tr>\n",
       "      <th>16711</th>\n",
       "      <td>LMA Manager 2007</td>\n",
       "      <td>X360</td>\n",
       "      <td>2006</td>\n",
       "      <td>Sports</td>\n",
       "      <td>0.00</td>\n",
       "      <td>0.01</td>\n",
       "      <td>0.00</td>\n",
       "      <td>0.00</td>\n",
       "      <td>NaN</td>\n",
       "      <td>NaN</td>\n",
       "      <td>NaN</td>\n",
       "      <td>not_defined</td>\n",
       "      <td>0.01</td>\n",
       "    </tr>\n",
       "    <tr>\n",
       "      <th>16712</th>\n",
       "      <td>Haitaka no Psychedelica</td>\n",
       "      <td>PSV</td>\n",
       "      <td>2016</td>\n",
       "      <td>Adventure</td>\n",
       "      <td>0.00</td>\n",
       "      <td>0.00</td>\n",
       "      <td>0.01</td>\n",
       "      <td>0.00</td>\n",
       "      <td>NaN</td>\n",
       "      <td>NaN</td>\n",
       "      <td>NaN</td>\n",
       "      <td>not_defined</td>\n",
       "      <td>0.01</td>\n",
       "    </tr>\n",
       "    <tr>\n",
       "      <th>16713</th>\n",
       "      <td>Spirits &amp; Spells</td>\n",
       "      <td>GBA</td>\n",
       "      <td>2003</td>\n",
       "      <td>Platform</td>\n",
       "      <td>0.01</td>\n",
       "      <td>0.00</td>\n",
       "      <td>0.00</td>\n",
       "      <td>0.00</td>\n",
       "      <td>NaN</td>\n",
       "      <td>NaN</td>\n",
       "      <td>NaN</td>\n",
       "      <td>not_defined</td>\n",
       "      <td>0.01</td>\n",
       "    </tr>\n",
       "    <tr>\n",
       "      <th>16714</th>\n",
       "      <td>Winning Post 8 2016</td>\n",
       "      <td>PSV</td>\n",
       "      <td>2016</td>\n",
       "      <td>Simulation</td>\n",
       "      <td>0.00</td>\n",
       "      <td>0.00</td>\n",
       "      <td>0.01</td>\n",
       "      <td>0.00</td>\n",
       "      <td>NaN</td>\n",
       "      <td>NaN</td>\n",
       "      <td>NaN</td>\n",
       "      <td>not_defined</td>\n",
       "      <td>0.01</td>\n",
       "    </tr>\n",
       "  </tbody>\n",
       "</table>\n",
       "<p>12206 rows × 13 columns</p>\n",
       "</div>"
      ],
      "text/plain": [
       "                                name platform  year_of_release         genre  \\\n",
       "0                         Wii Sports      Wii             2006        Sports   \n",
       "1                  Super Mario Bros.      NES             1985      Platform   \n",
       "2                     Mario Kart Wii      Wii             2008        Racing   \n",
       "3                  Wii Sports Resort      Wii             2009        Sports   \n",
       "4           Pokemon Red/Pokemon Blue       GB             1996  Role-Playing   \n",
       "...                              ...      ...              ...           ...   \n",
       "16710  Samurai Warriors: Sanada Maru      PS3             2016        Action   \n",
       "16711               LMA Manager 2007     X360             2006        Sports   \n",
       "16712        Haitaka no Psychedelica      PSV             2016     Adventure   \n",
       "16713               Spirits & Spells      GBA             2003      Platform   \n",
       "16714            Winning Post 8 2016      PSV             2016    Simulation   \n",
       "\n",
       "       na_sales  eu_sales  jp_sales  other_sales  critic_score  user_score  \\\n",
       "0         41.36     28.96      3.77         8.45          76.0         8.0   \n",
       "1         29.08      3.58      6.81         0.77           NaN         NaN   \n",
       "2         15.68     12.76      3.79         3.29          82.0         8.3   \n",
       "3         15.61     10.93      3.28         2.95          80.0         8.0   \n",
       "4         11.27      8.89     10.22         1.00           NaN         NaN   \n",
       "...         ...       ...       ...          ...           ...         ...   \n",
       "16710      0.00      0.00      0.01         0.00           NaN         NaN   \n",
       "16711      0.00      0.01      0.00         0.00           NaN         NaN   \n",
       "16712      0.00      0.00      0.01         0.00           NaN         NaN   \n",
       "16713      0.01      0.00      0.00         0.00           NaN         NaN   \n",
       "16714      0.00      0.00      0.01         0.00           NaN         NaN   \n",
       "\n",
       "      rating   new_rating  world_sales  \n",
       "0          E            E        82.54  \n",
       "1        NaN  not_defined        40.24  \n",
       "2          E            E        35.52  \n",
       "3          E            E        32.77  \n",
       "4        NaN  not_defined        31.38  \n",
       "...      ...          ...          ...  \n",
       "16710    NaN  not_defined         0.01  \n",
       "16711    NaN  not_defined         0.01  \n",
       "16712    NaN  not_defined         0.01  \n",
       "16713    NaN  not_defined         0.01  \n",
       "16714    NaN  not_defined         0.01  \n",
       "\n",
       "[12206 rows x 13 columns]"
      ]
     },
     "execution_count": 33,
     "metadata": {},
     "output_type": "execute_result"
    }
   ],
   "source": [
    "data_temp = data.drop_duplicates(subset=['name','year_of_release'], keep = 'last')\n",
    "data_temp"
   ]
  },
  {
   "cell_type": "code",
   "execution_count": 34,
   "metadata": {},
   "outputs": [
    {
     "data": {
      "image/png": "[encoded data removed]",
      "text/plain": [
       "<Figure size 1080x720 with 1 Axes>"
      ]
     },
     "metadata": {
      "needs_background": "light"
     },
     "output_type": "display_data"
    }
   ],
   "source": [
    "games_in_year = data_temp.pivot_table(index='year_of_release', values='name', aggfunc='count')\n",
    "games_in_year.plot(grid = True, figsize=(15, 10)).set_title('Производство игр по годам');\n",
    "plt.ylabel(\"Количество игр\");\n",
    "plt.xlabel(\"Год\");"
   ]
  },
  {
   "cell_type": "markdown",
   "metadata": {},
   "source": [
    "<div class=\"alert alert-warning\">\n",
    "<b>Комментарий 👉</b>\n",
    "\n",
    "Агрегация по count() покажет нам число игр, выпущенных на всех платформах, в разрезе лет. Т.е. если одна и та же игра (name) вышла в некоем году на одной платформе, агрегат == 1. Если на 2-х платформах, агрегат == 2, ну и так далее. У меня вопрос к тебе – что в твоем случае, в написанном тобой коде мы считаем выпуском игры (в этом, некоем году)?\n",
    "\n",
    "Возможно, чтобы получить истинное количество «игр по годам» нам следует поискать дубликаты (используя subset по (Годам - Названиям игр) и затем исключить из полного датафрейма все дубли за исключением одной, «первой», строки? Как ты считаешь?</div>"
   ]
  },
  {
   "cell_type": "markdown",
   "metadata": {},
   "source": [
    "<div class=\"alert alert-block alert-info\">\n",
    "<b>🔁Комментарий студента:</b>\n",
    "Думаю......................\n",
    "4287 одинаковых игр но для разных платформ. Наверное, только в этом месте можно дропнуть дубликаты по-твоему, оценить сколько _уникальных_ игр выходило по годам, но дальнейший анализ по платформам производить по стандартному датафрейму. \n",
    "    \n",
    "    \n",
    "Пик игр снизился с 1400 до 1000, но сам график остался такой же формы.     \n",
    "Исправлено. \n",
    "</div>"
   ]
  },
  {
   "cell_type": "markdown",
   "metadata": {},
   "source": [
    "<div class=\"alert alert-success\">\n",
    "<b>КОММЕНТАРИЙ V2</b>\n",
    "\n",
    "В этом вопросе не было подвоха. И верными могут быть оба варианта – в зависимости от угла зрения на эту задачу. Этот жёлтый комментарий не про то, чтобы что-то сразу делать с данными, а \"про подумать\", как и почему мы будем работать с играми, которые в **определенном году** выходят сразу на нескольких платформах. Будем мы их считать разными, уникальными играми. Или мы их будем считать, как одну игру, которая вышла в этом текущем году? Так что, то, что вопрос обдуман, объяснен и реализован - молодец!\n",
    "</div>\n"
   ]
  },
  {
   "cell_type": "markdown",
   "metadata": {},
   "source": [
    "На графике рост производства видеоигр наблюдается с 1991 года и достигает своего пика в 2008 году. \n",
    "После 2008 начинается спад, который можно описать усложнением производства, ставкой на качество, длительным изготовлением новых видеоигр. "
   ]
  },
  {
   "cell_type": "markdown",
   "metadata": {},
   "source": [
    "<div class=\"alert alert-success\">\n",
    "<b>ОТЛИЧНО! 👍</b>\n",
    "\n",
    "Просто супер: график подписан, оси подписаны. Не часто на самом деле такой скрупулёзный подход к оформлению встречается. Молодец! Также, здорово, что есть объяснение поведения данного графика. Пытаться понять полученный результат - важная часть работы аналитика.</div>"
   ]
  },
  {
   "cell_type": "markdown",
   "metadata": {},
   "source": [
    "### **Какие платформы самые популярные** за весь наблюдаемый период?"
   ]
  },
  {
   "cell_type": "code",
   "execution_count": 35,
   "metadata": {},
   "outputs": [
    {
     "data": {
      "image/png": "[encoded data removed]",
      "text/plain": [
       "<Figure size 1080x720 with 1 Axes>"
      ]
     },
     "metadata": {
      "needs_background": "light"
     },
     "output_type": "display_data"
    }
   ],
   "source": [
    "games_for_platforms = data.pivot_table(index = 'platform', values = 'world_sales', aggfunc = 'sum')#.sort_values(by='name', ascending=False)\n",
    "games_for_platforms = games_for_platforms.sort_values(by=['world_sales'], ascending=False)\n",
    "#games_for_platforms.plot()\n",
    "plt.figure(figsize=(15,10))\n",
    "sns.barplot(x=games_for_platforms.index, y=games_for_platforms['world_sales']);\n",
    "plt.title(\"Количество продаж по всем платформам\");\n",
    "plt.xlabel(\"Платформа\");\n",
    "plt.ylabel(\"Продажи\");"
   ]
  },
  {
   "cell_type": "markdown",
   "metadata": {},
   "source": [
    "С большим отрывом `PS2`, а всего в топ платформ входит `6 названий`. "
   ]
  },
  {
   "cell_type": "code",
   "execution_count": 168,
   "metadata": {
    "scrolled": true
   },
   "outputs": [
    {
     "data": {
      "text/html": [
       "<div>\n",
       "<style scoped>\n",
       "    .dataframe tbody tr th:only-of-type {\n",
       "        vertical-align: middle;\n",
       "    }\n",
       "\n",
       "    .dataframe tbody tr th {\n",
       "        vertical-align: top;\n",
       "    }\n",
       "\n",
       "    .dataframe thead th {\n",
       "        text-align: right;\n",
       "    }\n",
       "</style>\n",
       "<table border=\"1\" class=\"dataframe\">\n",
       "  <thead>\n",
       "    <tr style=\"text-align: right;\">\n",
       "      <th></th>\n",
       "      <th>world_sales</th>\n",
       "    </tr>\n",
       "    <tr>\n",
       "      <th>platform</th>\n",
       "      <th></th>\n",
       "    </tr>\n",
       "  </thead>\n",
       "  <tbody>\n",
       "    <tr>\n",
       "      <th>PS2</th>\n",
       "      <td>1247.28</td>\n",
       "    </tr>\n",
       "    <tr>\n",
       "      <th>X360</th>\n",
       "      <td>961.30</td>\n",
       "    </tr>\n",
       "    <tr>\n",
       "      <th>PS3</th>\n",
       "      <td>931.34</td>\n",
       "    </tr>\n",
       "    <tr>\n",
       "      <th>Wii</th>\n",
       "      <td>891.18</td>\n",
       "    </tr>\n",
       "    <tr>\n",
       "      <th>DS</th>\n",
       "      <td>802.79</td>\n",
       "    </tr>\n",
       "    <tr>\n",
       "      <th>PS</th>\n",
       "      <td>727.58</td>\n",
       "    </tr>\n",
       "  </tbody>\n",
       "</table>\n",
       "</div>"
      ],
      "text/plain": [
       "          world_sales\n",
       "platform             \n",
       "PS2           1247.28\n",
       "X360           961.30\n",
       "PS3            931.34\n",
       "Wii            891.18\n",
       "DS             802.79\n",
       "PS             727.58"
      ]
     },
     "execution_count": 168,
     "metadata": {},
     "output_type": "execute_result"
    }
   ],
   "source": [
    "top6_pl = games_for_platforms.head(6)\n",
    "top6_list = [\"PS2\", 'X360', 'PS3', 'Wii', 'DS', 'PS']\n",
    "top6_pl"
   ]
  },
  {
   "cell_type": "markdown",
   "metadata": {},
   "source": [
    "Вывожу 6 графиков про самые популярные платформы, количество продаж и годы их существования."
   ]
  },
  {
   "cell_type": "code",
   "execution_count": 185,
   "metadata": {
    "scrolled": false
   },
   "outputs": [
    {
     "data": {
      "image/png": "[encoded data removed]",
      "text/plain": [
       "<Figure size 1440x1008 with 6 Axes>"
      ]
     },
     "metadata": {
      "needs_background": "light"
     },
     "output_type": "display_data"
    }
   ],
   "source": [
    "#привожу все графики в 1 окне\n",
    "pos = 0\n",
    "\n",
    "plt.figure(figsize=[20, 14])\n",
    "plt.subplots_adjust(wspace=0.3, hspace=0.3)\n",
    "plt.suptitle('Количество игр проданных на каждую платформу ежегодно.', fontsize=15)\n",
    "\n",
    "for name_of_platform in top_pl:\n",
    "    pos += 1\n",
    "    pvt = data.query('platform == @name_of_platform and year_of_release> 1990').pivot_table(index='year_of_release', values='world_sales', aggfunc='sum')\n",
    "    plt.subplot(3, 3, pos)\n",
    "    plt.title(f'ПЛАТФОРМФA {name_of_platform.upper()}.', fontsize=10)\n",
    "    plt.plot(pvt, 'o-', label='Количество игр', alpha=1)\n",
    "    plt.ylabel('Количество игр')\n",
    "    plt.xlabel('Год выпуска')\n",
    "    plt.grid(True)\n",
    "    plt.legend()\n",
    "plt.show();"
   ]
  },
  {
   "cell_type": "code",
   "execution_count": 178,
   "metadata": {
    "scrolled": true
   },
   "outputs": [],
   "source": [
    "#pl1 = data.query('platform == \"PS2\"').pivot_table(index='year_of_release', values='world_sales', aggfunc='sum')\n",
    "#plt.plot(pl1, 'o-');\n",
    "#plt.xlabel('Год');\n",
    "#plt.ylabel('Количество продаж');\n",
    "#plt.title('График ежегодных продаж игр для PS2');"
   ]
  },
  {
   "cell_type": "markdown",
   "metadata": {},
   "source": [
    "<div class=\"alert alert-warning\">\n",
    "<b>Комментарий 👉</b>\n",
    "\n",
    "Здесь конечно, по сути, надо бы список с топ-6 платформами автоматизировано формировать. Ты только представь, что тебе нужно не 6, а скажем 150 значений указать, или в коде, в разных местах иметь разный топ-Х. Сделаешь?\n",
    "\n",
    "Ниже пример как (**псевдокод!**):\n",
    "\n",
    "tmp = data.pivot_table(index='platform', values='total_sales', aggfunc= 'sum').sort_values('total_sales', ascending=False)\n",
    "tmp.index[:6].tolist()\n",
    "\n",
    "p.s. ну и построение графиков по top-n напрашивается сделать в цикле (а не дублировать фактически одинаковый код несколько раз).</div>"
   ]
  },
  {
   "cell_type": "code",
   "execution_count": 179,
   "metadata": {},
   "outputs": [],
   "source": [
    "#pl2 = data.query('platform == \"X360\"').pivot_table(index='year_of_release', values='world_sales', aggfunc='sum')\n",
    "#plt.plot(pl2, 'o-');\n",
    "#plt.xlabel('Год');\n",
    "#plt.ylabel('Количество продаж');\n",
    "#plt.title('График ежегодных продаж игр для X360');"
   ]
  },
  {
   "cell_type": "code",
   "execution_count": 180,
   "metadata": {},
   "outputs": [],
   "source": [
    "#pl3 = data.query('platform == \"PS3\"').pivot_table(index='year_of_release', values='world_sales', aggfunc='sum')\n",
    "#plt.plot(pl3, 'o-');\n",
    "#plt.xlabel('Год');\n",
    "#plt.ylabel('Количество продаж');\n",
    "#plt.title('График ежегодных продаж игр для PS3');"
   ]
  },
  {
   "cell_type": "code",
   "execution_count": 181,
   "metadata": {},
   "outputs": [],
   "source": [
    "#pl4 = data.query('platform == \"Wii\"').pivot_table(index='year_of_release', values='world_sales', aggfunc='sum')\n",
    "#plt.plot(pl4, 'o-');\n",
    "#plt.xlabel('Год');\n",
    "#plt.ylabel('Количество продаж');\n",
    "#plt.title('График ежегодных продаж игр для Wii');"
   ]
  },
  {
   "cell_type": "code",
   "execution_count": 182,
   "metadata": {},
   "outputs": [],
   "source": [
    "#pl5 = data.query('platform == \"DS\" and year_of_release > 2004').pivot_table(index='year_of_release', values='world_sales', aggfunc='sum')\n",
    "#plt.plot(pl5, 'o-');\n",
    "#plt.xlabel('Год');\n",
    "#plt.ylabel('Количество продаж');\n",
    "#plt.title('График ежегодных продаж игр для DS');"
   ]
  },
  {
   "cell_type": "markdown",
   "metadata": {},
   "source": [
    "<div class=\"alert alert-warning\">\n",
    "<b>Комментарий 👉</b>\n",
    "\n",
    "А что за артефакт у платформы DS в 1985 году? В каком году DS \"свет увидела\"?\n",
    "</div>"
   ]
  },
  {
   "cell_type": "markdown",
   "metadata": {},
   "source": [
    "<div class=\"alert alert-block alert-info\">\n",
    "<b>🔁Комментарий студента:</b>\n",
    "Спасибо за указание. DS вышла в 2004 году, убрал аномалию.\n",
    "</div>"
   ]
  },
  {
   "cell_type": "markdown",
   "metadata": {},
   "source": [
    "<div class=\"alert alert-success\">\n",
    "<b>КОММЕНТАРИЙ V2</b>\n",
    "\n",
    "Да, верно, это пример учебного бага в наших учебных данных. \"В жизни\" много \"такого\" будет ....\n",
    "</div>\n"
   ]
  },
  {
   "cell_type": "code",
   "execution_count": 183,
   "metadata": {
    "scrolled": true
   },
   "outputs": [],
   "source": [
    "#pl6 = data.query('platform == \"PS\"').pivot_table(index='year_of_release', values='world_sales', aggfunc='sum')\n",
    "#plt.plot(pl6, 'o-');\n",
    "#plt.xlabel('Год');\n",
    "#plt.ylabel('Количество продаж');\n",
    "#plt.title('График ежегодных продаж игр для PS');"
   ]
  },
  {
   "cell_type": "markdown",
   "metadata": {},
   "source": [
    "Судя по графикам, *актуальность* игровой приставки составляет `10-11 лет`, *пик продаж* попадает на срок `4-5` лет после выпуска приставки. "
   ]
  },
  {
   "cell_type": "markdown",
   "metadata": {},
   "source": [
    "<div class=\"alert alert-success\">\n",
    "<b>ОТЛИЧНО! 👍</b>\n",
    "\n",
    "Подтверждаю «около 10 лет», как корректный интервал, описывающий средний срок жизни игровой платформы.\n",
    "</div>"
   ]
  },
  {
   "cell_type": "markdown",
   "metadata": {},
   "source": [
    "### Выбор актуального периода"
   ]
  },
  {
   "cell_type": "markdown",
   "metadata": {},
   "source": [
    "Учитывая, что пик продаж приходит на `5ый год`, то для анализа 2017 возьмем актуальный период, начинающийся с `2012`."
   ]
  },
  {
   "cell_type": "markdown",
   "metadata": {},
   "source": [
    "<div class=\"alert alert-success\">\n",
    "<b>ОТЛИЧНО! 👍</b>\n",
    "\n",
    "Правильный выбор диапазона, но уже вот на самой грани!\n",
    "\n",
    "Это на самом деле один из подводных камней этого проекта! \n",
    "\n",
    "Коллеги могут выбирать для анализа очень большой интервал данных, но для целей прогнозирования продаж на следующий год даже в традиционных бизнесах редко берут данные более чем за 2-4 года. И в такой динамично меняющейся индустрии, как компьютерные игры также не стоит брать слишком большой временной интервал - иначе обязательно захватишь уже отжившие тренды.</div>"
   ]
  },
  {
   "cell_type": "markdown",
   "metadata": {},
   "source": [
    "<div class=\"alert alert-block alert-info\">\n",
    "<b>🔁Комментарий студента:</b>\n",
    "👍\n",
    "</div>"
   ]
  },
  {
   "cell_type": "code",
   "execution_count": 80,
   "metadata": {},
   "outputs": [],
   "source": [
    "data_act = data.query('year_of_release > 2011')"
   ]
  },
  {
   "cell_type": "markdown",
   "metadata": {},
   "source": [
    "<div class=\"alert alert-success\">\n",
    "<b>ОТЛИЧНО! 👍</b>\n",
    "\n",
    "Очень хорошо, что результат запроса/’среза’ ты присваиваешь новому датафрейму. Таким образом оригинальный датафрейм ты оставляешь нетронутым, не перезаписываешь (вдруг нам опять понадобятся данные из него чуть ниже). Это верное решение. Best practice. Молодец!</div>"
   ]
  },
  {
   "cell_type": "code",
   "execution_count": 45,
   "metadata": {},
   "outputs": [
    {
     "data": {
      "text/plain": [
       "array(['PS3', 'X360', 'PS4', '3DS', 'DS', 'XOne', 'WiiU', 'Wii', 'PC',\n",
       "       'PSV', 'PSP'], dtype=object)"
      ]
     },
     "execution_count": 45,
     "metadata": {},
     "output_type": "execute_result"
    }
   ],
   "source": [
    "data_act['platform'].unique()"
   ]
  },
  {
   "cell_type": "markdown",
   "metadata": {},
   "source": [
    "На актуальный период на рынке остались `11 платформ`. Рассмотрим внимательнее."
   ]
  },
  {
   "cell_type": "code",
   "execution_count": 117,
   "metadata": {
    "scrolled": false
   },
   "outputs": [
    {
     "data": {
      "image/png": "[encoded data removed]",
      "text/plain": [
       "<Figure size 720x288 with 1 Axes>"
      ]
     },
     "metadata": {
      "needs_background": "light"
     },
     "output_type": "display_data"
    }
   ],
   "source": [
    "data_act.groupby('platform')['world_sales'].sum().sort_values(ascending=False).plot(figsize=(10,4),kind=\"bar\");\n",
    "plt.xlabel('Платформа');\n",
    "plt.ylabel('Количество продаж');\n",
    "plt.title('Распределение продаж по платформам');"
   ]
  },
  {
   "cell_type": "markdown",
   "metadata": {},
   "source": [
    "Из графика очевидно выглядывают `5 топовых` приставок и 6 отстающих. "
   ]
  },
  {
   "cell_type": "markdown",
   "metadata": {},
   "source": [
    "### Построение ящика с усами  по глобальным продажам игр в разбивке по платформам"
   ]
  },
  {
   "cell_type": "code",
   "execution_count": 149,
   "metadata": {},
   "outputs": [
    {
     "data": {
      "text/plain": [
       "<Figure size 1440x1080 with 0 Axes>"
      ]
     },
     "metadata": {},
     "output_type": "display_data"
    },
    {
     "data": {
      "image/png": "[encoded data removed]",
      "text/plain": [
       "<Figure size 1080x720 with 1 Axes>"
      ]
     },
     "metadata": {
      "needs_background": "light"
     },
     "output_type": "display_data"
    },
    {
     "data": {
      "image/png": "[encoded data removed]",
      "text/plain": [
       "<Figure size 1080x720 with 1 Axes>"
      ]
     },
     "metadata": {
      "needs_background": "light"
     },
     "output_type": "display_data"
    }
   ],
   "source": [
    "#рисую боксплоты в 1 окне\n",
    "pos = 0;\n",
    "plt.figure(figsize=[20,15]);\n",
    "plt.subplots_adjust(wspace=0.1, hspace=1);\n",
    "\n",
    "plt.figure(figsize=(15,10));\n",
    "plt.ylim(0,3);\n",
    "sns.boxplot(x='platform',y='world_sales',data=data_act);\n",
    "plt.xlabel('Платформа');\n",
    "plt.ylabel('Количество продаж');\n",
    "plt.title('Распределение продаж по платформам');\n",
    "\n",
    "plt.figure(figsize=(15,10));\n",
    "plt.ylim(0,0.9);\n",
    "sns.boxplot(x='platform',y='world_sales',data=data_act);\n",
    "plt.xlabel('Платформа');\n",
    "plt.ylabel('Количество продаж');\n",
    "plt.title('Распределение продаж по платформам');"
   ]
  },
  {
   "cell_type": "code",
   "execution_count": 145,
   "metadata": {
    "scrolled": false
   },
   "outputs": [],
   "source": [
    "#plt.figure(figsize=(15,10))\n",
    "#plt.ylim(0,3)\n",
    "#sns.boxplot(x='platform',y='world_sales',data=data_act);\n",
    "#plt.xlabel('Платформа');\n",
    "#plt.ylabel('Количество продаж');\n",
    "#plt.title('Распределение продаж по платформам');"
   ]
  },
  {
   "cell_type": "code",
   "execution_count": 146,
   "metadata": {
    "scrolled": false
   },
   "outputs": [],
   "source": [
    "#plt.figure(figsize=(15,10))\n",
    "#plt.ylim(0,0.9)\n",
    "#sns.boxplot(x='platform',y='world_sales',data=data_act);\n",
    "#plt.xlabel('Платформа');\n",
    "#plt.ylabel('Количество продаж');\n",
    "#plt.title('Распределение продаж по платформам');"
   ]
  },
  {
   "cell_type": "markdown",
   "metadata": {},
   "source": [
    "<div class=\"alert alert-danger\">\n",
    "<b>Необходимо исправить ❌</b>\n",
    "\n",
    "К сожалению, на этом графике **уверенно** сравнивать квартили (медиану, 25ый и 75ый) у части платформ не получается (у PS4 или у WiiU медиана больше? насколько?). Велика вероятность ошибки. Для более обоснованных выводов на основе **только графика** (иначе зачем такой **неговорящий график нужен**) нужно сделать дополнительный график, где будет отображена только нижняя часть boxplot-ов. Этого можно добиться, например, задав параметр ylim\n",
    "\n",
    "То есть, я бы предложил после этого графика ещё один построить, в котором бы сами \"ящики\" были лучше видны. На том, что выше выбросы их фактически \"забили\". Попробуй использовать в параметре ylim, значение, которое ещё больше ограничит значение по OY \"сверху\" (например, ylim(0, 0.85). \n",
    "    \n",
    "Или ещё вариант, вместо этого, слишком мелкого, сделай 2 отдельных, на 2-х больших канвасах: на первом графике -  все боксплоты, БЕЗ ylim. В этом случае некоторые \"ящики\" будут видны плохо, но зато хорошо будут видны как у всех \"ящиков\" выглядят выбросы.\n",
    "\n",
    "На втором: все боксплоты, но с ylim == значению (по OY), которое будет является ближайшим к самому большому из 1,5 межквартильных размахов боксплота. В этом случае все \"ящики\" растянутся почти на весь график, а выбросы будут срезаны.\n",
    "\n",
    "Ну а в твоем случае, из-за того, что на графике не разобрать квартили - для точного сравнения \"ящиков\" мы вынуждены будем использовать describe().</div>"
   ]
  },
  {
   "cell_type": "markdown",
   "metadata": {},
   "source": [
    "<div class=\"alert alert-block alert-info\">\n",
    "<b>🔁Комментарий студента:</b>\n",
    "Добавил второй ящик с усами. 3ds выглядит не так убедительно, как на .plot() ранее. \n",
    "Тут, честно, плохо ориентируюсь. Межквартильный размах больше всего у 5 приставок, но Wii отживает своё, исходя из прошлых графиков. В любом случае, своим решением оставляю 4 приставки для анализа.\n",
    "</div>"
   ]
  },
  {
   "cell_type": "markdown",
   "metadata": {},
   "source": [
    "<div class=\"alert alert-success\">\n",
    "<b>КОММЕНТАРИЙ V2</b>\n",
    "\n",
    "Да, теперь значительно лучше! Теперь «ящики» платформ можно визуально сравнивать между собой прямо на графике.\n",
    "</div>\n"
   ]
  },
  {
   "cell_type": "markdown",
   "metadata": {},
   "source": [
    "Для дальнейшего анализа предалагаю взять только 4 самых популярных. "
   ]
  },
  {
   "cell_type": "code",
   "execution_count": 50,
   "metadata": {},
   "outputs": [],
   "source": [
    "list_top4 = ['PS4', 'PS3','X360','XOne']"
   ]
  },
  {
   "cell_type": "markdown",
   "metadata": {},
   "source": [
    "### Рассмотрим как влияют на продажи внутри одной популярной платформы отзывы пользователей и критиков"
   ]
  },
  {
   "cell_type": "code",
   "execution_count": 51,
   "metadata": {},
   "outputs": [],
   "source": [
    "data_ps4 = data_act.loc[(data_act['platform']=='PS4') & (data_act['user_score'] !=0)]"
   ]
  },
  {
   "cell_type": "markdown",
   "metadata": {},
   "source": [
    "<div class=\"alert alert-danger\">\n",
    "<b>Необходимо исправить ❌</b>\n",
    "\n",
    "Стоп! А почему мы опять переключились на \"полные\" данные? Здесь я вижу, что ты продолжаешь использовать «полный» датафрейм, вместо актуального (того, который поможет построить нам прогноз на 2017 год). Поэтому ещё раз хочу здесь обсудить с тобой очень важный момент этого проекта. По условиям проекта нам вот что сделать надо (я прямо из брифа цитаты приведу):\n",
    "\n",
    "- Возьмите данные за соответствующий актуальный период. Актуальный период определите самостоятельно в результате исследования предыдущих вопросов. Основной фактор — эти данные помогут построить прогноз на 2017 год.\n",
    "\n",
    "- Не учитывайте в работе данные за предыдущие годы.\n",
    "\n",
    "Т.е. после того как ты определишь тот интервал данных, который тебе поможет сделать прогноз на 2017 год, тебе надо будет взять и \"отрезать\" от полного датафрейма кусок актуальных данных. И с этого момента (после \"отрезания\") и заканчивая финальным выводом, для анализа необходимо использовать **только** \"обрезанный\" датафрейм.\n",
    "\n",
    "В итоге - вот порядок: явно определи интервал \"с которого\" ... \"отрежь\" ненужное (оставив актуальное) и сохрани в новый датафрейм. Используй для анализа только его!\n",
    "\n",
    "---\n",
    "Итак, после определения актуального периода, с того самого места и до финального вывода по проекту мы должны использовать только «обрезанный» датафрейм, который содержит актуальные тренды и которым поможет построить прогноз на 2017 год. \n",
    "\n",
    "А сейчас фактически что произошло: из-за слишком «длинного» горизонта анализа в наши выводы попадут \"цифры\" из полного датафрейма, \"цифры\", которые «испортят» финальный вывод и будут некорректны в контексте 2017 год.\n",
    "\n",
    "**p.s. я больше не повторяю этот комментарий, но отсюда и ниже – внимательно, до самого конца «тетрадки» проверь - используешь ли ты \"верные\" данные (и соответственно в разделе проверки гипотез и в финальном выводе - верные ли факты по данным ты озвучиваешь).**\n",
    "\n",
    "Итак: надо поправить проблему с горизонтом анализа и после перестроения графиков и цифр актуализировать выводы.</div>"
   ]
  },
  {
   "cell_type": "markdown",
   "metadata": {},
   "source": [
    "<div class=\"alert alert-block alert-info\">\n",
    "<b>🔁Комментарий студента:</b>\n",
    "    Вот тут я и поплыл. Отличное замечание, я половину работы провёл не по тем данным =(\n",
    "    \n",
    "Исправлено!\n",
    "</div>"
   ]
  },
  {
   "cell_type": "markdown",
   "metadata": {},
   "source": [
    "<div class=\"alert alert-success\">\n",
    "<b>КОММЕНТАРИЙ V2</b>\n",
    "\n",
    "Отлично, вижу корректное определение актуального периода.\n",
    "</div>\n"
   ]
  },
  {
   "cell_type": "markdown",
   "metadata": {},
   "source": [
    "<div class=\"alert alert-success\">\n",
    "<b>ОТЛИЧНО! 👍</b>\n",
    "\n",
    "Ввиду же того, что \"пропуски\" в столбцах с соответствующими оценками мы \"заглушками\" заполнять не стали (а NaN – значения метод .corr() не учитывает (ссылка на документацию: https://pandas.pydata.org/pandas-docs/stable/reference/api/pandas.DataFrame.corr.html?highlight=corr#pandas.DataFrame.corr)), то и перед передачей данных в метод .corr() отфильтровывать их не требуется.</div>"
   ]
  },
  {
   "cell_type": "code",
   "execution_count": 113,
   "metadata": {},
   "outputs": [
    {
     "data": {
      "image/png": "[encoded data removed]",
      "text/plain": [
       "<Figure size 576x360 with 1 Axes>"
      ]
     },
     "metadata": {
      "needs_background": "light"
     },
     "output_type": "display_data"
    }
   ],
   "source": [
    "data_act[data_act['platform']=='PS4'].plot(x='user_score', y='world_sales', kind='scatter', alpha=0.5, figsize=(8,5), grid=True);\n",
    "plt.xlabel('Отзывы покупателей');\n",
    "plt.ylabel('Количество продаж');\n",
    "plt.title('Распределение по отзывам покупателей и количеству продаж на игры PS4');"
   ]
  },
  {
   "cell_type": "code",
   "execution_count": 150,
   "metadata": {},
   "outputs": [
    {
     "data": {
      "image/png": "[encoded data removed]",
      "text/plain": [
       "<Figure size 576x360 with 1 Axes>"
      ]
     },
     "metadata": {
      "needs_background": "light"
     },
     "output_type": "display_data"
    }
   ],
   "source": [
    "data_act[data_act['platform']=='PS4'].plot(x='critic_score', y='world_sales', kind='scatter', alpha=0.5, figsize=(8,5), grid=True);\n",
    "plt.xlabel('Отзывы критиков');\n",
    "plt.ylabel('Количество продаж');\n",
    "plt.title('Распределение по отзывам критиков и количеству продаж на игры PS4');"
   ]
  },
  {
   "cell_type": "code",
   "execution_count": 151,
   "metadata": {
    "scrolled": true
   },
   "outputs": [
    {
     "name": "stdout",
     "output_type": "stream",
     "text": [
      "\n",
      "Коэффицент корреляции для отзывов критиков - 0.41\n",
      "\n",
      "Коэффицент корреляции для отзывов пользователей - -0.03\n"
     ]
    }
   ],
   "source": [
    "cor_critic = data_ps4['world_sales'].corr(data_ps4['critic_score'].astype('float32'))\n",
    "cor_user = data_ps4['world_sales'].corr(data_ps4['user_score'])\n",
    "print(f'\\nКоэффицент корреляции для отзывов критиков - {cor_critic:.2f}')\n",
    "print(f'\\nКоэффицент корреляции для отзывов пользователей - {cor_user:.2f}')"
   ]
  },
  {
   "cell_type": "markdown",
   "metadata": {},
   "source": [
    "Проверим корреляции других приставок "
   ]
  },
  {
   "cell_type": "code",
   "execution_count": 58,
   "metadata": {},
   "outputs": [],
   "source": [
    "list_top3 = ['PS3','X360','XOne']"
   ]
  },
  {
   "cell_type": "code",
   "execution_count": 59,
   "metadata": {},
   "outputs": [
    {
     "data": {
      "image/png": "[encoded data removed]",
      "text/plain": [
       "<Figure size 1440x1080 with 6 Axes>"
      ]
     },
     "metadata": {
      "needs_background": "light"
     },
     "output_type": "display_data"
    }
   ],
   "source": [
    "pos = 0\n",
    "plt.figure(figsize=[20,15])\n",
    "plt.subplots_adjust(wspace=0.1, hspace=1)\n",
    "\n",
    "for name_of_platform in list_top3:\n",
    "    pos += 1\n",
    "    data_3_console = data_act[(data_act['platform'] == name_of_platform)]\n",
    "    \n",
    "    plt.subplot(5, 2, pos)\n",
    "    cor_with_user_score = data_3_console['world_sales'].corr(data_3_console['user_score'])\n",
    "    plt.title(f'Отзывы пользователей: {name_of_platform.upper()},\\n\\nКорреляция: {cor_with_user_score:.2f}.', fontsize=13)\n",
    "    sns.scatterplot(x='user_score', y='world_sales', data=data_3_console)\n",
    "    plt.xlabel('Отзыв пользователей')\n",
    "    plt.ylabel('Продажи')\n",
    "    plt.grid(True)\n",
    "    \n",
    "    pos += 1\n",
    "    plt.subplot(5, 2, pos)\n",
    "    cor_with_critic_score = data_3_console['world_sales'].corr(data_3_console['critic_score'].astype('float32'))\n",
    "    plt.title(f'Отзывы критиков: {name_of_platform.upper()},\\n\\nКорреляция: {cor_with_critic_score:.2f}.', fontsize=13)\n",
    "    sns.scatterplot(x='critic_score', y='world_sales', data=data_3_console)\n",
    "    plt.xlabel('Отзыв критиков')\n",
    "    plt.ylabel('Продажи')\n",
    "    plt.grid(True);\n",
    "    \n"
   ]
  },
  {
   "cell_type": "markdown",
   "metadata": {},
   "source": [
    "**По результатам отмечается средняя положительная линейная связь между оценкой критиков и глобальными продажами. Оценки пользователей корреляции с продажами не имеют**\n"
   ]
  },
  {
   "cell_type": "markdown",
   "metadata": {},
   "source": [
    "<div class=\"alert alert-danger\">\n",
    "<b>Необходимо исправить ❌</b>\n",
    "\n",
    "Дьявол кроется в формулировках: **Однако мнения критиков влияют на продажу игры гораздо эффективнее, чем отзывы игроков** - говорить так в общем случае неверно.\n",
    "\n",
    "---\n",
    "Формулировать, что коэффициент  корреляции (Пирсона) между 2 переменными (в нашем случае между total_sales и critic_score / user_score) есть показатель того, что **на количество продаж влияет оценка ** - неверно. Корреляция не подразумевает наличие причинно-следственной связи между переменными.\n",
    "    \n",
    "Коэффициент свидетельствует **о наличии или отсутствии линейной связи** между переменными, и **измеряет выраженность** этой связи. Другими словами, коэффициент корреляции - это инструмент, с помощью которого можно проверить гипотезу о **линейной** зависимости и измерить степень этой зависимости.\n",
    "    \n",
    "Например, в нашем случае, связь между продажами и оценками экспертов для всех платформ является **прямой, слабой** степени выраженности (во всех случаях коэффициент около 0,3-0,4).\n",
    "\n",
    "Я бы твою фразу переписал бы так (**ПРИМЕР**): \"Оценки критиков демонстрируют прямую, средне-слабую корреляцию с \"цифрами\" продаж. Оценки пользователей корреляции с продажами не имеют\".\n",
    "\n",
    "Понимаешь, нет влияния оценок на продажи. Коэффициент корреляции Пирсона не про это. Он про линейную зависимость 2-х переменных. И ещё, это коэффициент **НЕ ОБЪЯСНЯЕТ** зависимость, он **НЕ ГОВОРИТ** почему наблюдается такой эффект, но просто констатирует факт, что корреляция наблюдается (например, \"мы видим, что те игры, которым наши эксперты дают высокие оценки - продаются лучше\". А вот почему они продаются лучше - можно только предполагать ... разные причины могут быть). Вот смешная статейка на эту тему: https://ktonanovenkogo.ru/voprosy-i-otvety/korrelyaciya-chto-ehto-takoe-prostymi-slovami.html </div>"
   ]
  },
  {
   "cell_type": "markdown",
   "metadata": {},
   "source": [
    "<div class=\"alert alert-block alert-info\">\n",
    "<b>🔁Комментарий студента:</b>\n",
    "Исправлено!\n",
    "</div>"
   ]
  },
  {
   "cell_type": "markdown",
   "metadata": {},
   "source": [
    "<div class=\"alert alert-success\">\n",
    "<b>КОММЕНТАРИЙ V2</b>\n",
    "\n",
    "Да, теперь всё верно!!!\n",
    "\n",
    "---\n",
    "Но ещё раз, в связи с частыми ошибками в формулировках, **на будущее**: объяснять корреляцию/зависимость **причинной связью** нельзя.\n",
    "    \n",
    "Пример: на улице начали появляться мухи и одновременно стали увеличиваться продажи мороженного. Есть такая зависимость? Да, конечно есть! \n",
    "    \n",
    "Но, правда, что мороженного стали есть больше потому, что мухи \"полетели\"? Причина в мухах? Нет, конечно же нет. Причина в том, что поднимается температура воздуха (третья переменная), начинается лето.\n",
    "</div>\n"
   ]
  },
  {
   "cell_type": "markdown",
   "metadata": {},
   "source": [
    "### Проверим распределение по жанрам игр"
   ]
  },
  {
   "cell_type": "code",
   "execution_count": 60,
   "metadata": {},
   "outputs": [],
   "source": [
    "d_genre = data_act.pivot_table(index='genre', values='world_sales', aggfunc='median').sort_values(by='world_sales', ascending=False).reset_index()"
   ]
  },
  {
   "cell_type": "code",
   "execution_count": 107,
   "metadata": {},
   "outputs": [
    {
     "data": {
      "image/png": "[encoded data removed]",
      "text/plain": [
       "<Figure size 1440x360 with 1 Axes>"
      ]
     },
     "metadata": {
      "needs_background": "light"
     },
     "output_type": "display_data"
    }
   ],
   "source": [
    "plt.figure(figsize=(20, 5))\n",
    "sns.barplot(data=d_genre, x='genre', y='world_sales');\n",
    "plt.xlabel('Жанр');\n",
    "plt.ylabel('Количество продаж');\n",
    "plt.title('График общих продаж игр по жанрам');"
   ]
  },
  {
   "cell_type": "markdown",
   "metadata": {},
   "source": [
    "<div class=\"alert alert-success\">\n",
    "<b>ОТЛИЧНО! 👍</b>\n",
    "\n",
    "Это одно из сложных мест в этом проекте: зачастую коллеги делают вывод о выгодности жанра по количеству проданных копий или по суммовым продажам (по этому параметру должны бы выиграть Action-игры), а не по среднему/медианному значению. \n",
    "Отлично что ты понимаешь, что общие продажи - это не очень корректная метрика для поиска наиболее прибыльного жанра. За высокими показателями общих продаж может скрываться множество мелких игр с низкими продажами. Или 2-3 звезды и куча провалов. Лучше найти жанр, где игры стабильно приносят высокий доход - для этого стоит рассмотреть средние (или медианные продажи или продажи, приведенные на одну игру – это хорошо обычно демонстрирует график «ящик с усами» (но можно и просто смотреть на цифры продаж или даже использовать столбиковую(?)/столбцовую(?) диаграмму)), что собственно ты и делаешь!</div>"
   ]
  },
  {
   "cell_type": "markdown",
   "metadata": {},
   "source": [
    "По всей видимости, `шутеры` занимают среди приставок 1е местро по жанрам. \n",
    "Далее идут `спортивные симуляторы`, `платформеры`, `ролевые` и `гонки`.\n",
    "Самые низкие продажи - *Приключения*, *Пазл*, *Стратегии*, *Симуляторы* и *Miscellaneous(Разное)*."
   ]
  },
  {
   "cell_type": "markdown",
   "metadata": {},
   "source": [
    "<div class=\"alert alert-danger\">\n",
    "<b>Необходимо исправить ❌</b>\n",
    "\n",
    "**По всей видимости, платформеры занимают среди приставок 1е местро по жанрам** - да?\n",
    "</div>"
   ]
  },
  {
   "cell_type": "markdown",
   "metadata": {},
   "source": [
    "<div class=\"alert alert-block alert-info\">\n",
    "<b>🔁Комментарий студента:</b>\n",
    "Исправлено! Видимо, сам себя запутал, когда перепутал срез с полным датафреймом.\n",
    "</div>"
   ]
  },
  {
   "cell_type": "markdown",
   "metadata": {},
   "source": [
    "<div class=\"alert alert-success\">\n",
    "<b>КОММЕНТАРИЙ V2</b>\n",
    "\n",
    "+\n",
    "</div>\n"
   ]
  },
  {
   "cell_type": "markdown",
   "metadata": {},
   "source": [
    "### Вывод. \n",
    "Количество игр на игровые приставки и компьютеры начало расти с большой скоростью с 90х годов до 2008 года. С 2008 года, после того как массово начали создавать мобильные приложения и мобильные игры, произошел резкий спад разработок игр на игровые платформы. Вероятно, глобальный экономический кризис так же дал остановку многобюджетным проектам.\n",
    "\n",
    "Самые популярные игровые платформы за весь период : Sony PlayStation 2, Xbox 360, Sony Playstation 3, Nintendo WII, Nintendo DS, Sony Playstation.\n",
    "\n",
    "Средняя жизнь игровой платформы составляет 10-11 лет. Пик продаж наступает примерно через 4-5 лет после выхода приставки.\n",
    "Лучше всего игры продаются на приставки Sony Playstation и Xbox.\n",
    "\n",
    "У всех платформ наблюдается положительная линейная связь между продажами и оценками критиков.\n",
    "\n",
    "Проведенный анализ указвыает на самые популярные жанры среди видеоигр - специфичный для игровых приставок \"Шутеры\" занимает первое место. На втором месте \"Спортивные симуляторы\" и экслюзивные для приставок \"Платформеры\".\n",
    "\n",
    "Хуже всего продаются игры в жанре \"Приключения\", \"Пазл\" и \"Стратегии\"."
   ]
  },
  {
   "cell_type": "markdown",
   "metadata": {},
   "source": [
    "## Составьте портрет пользователя каждого региона Определите для пользователя каждого региона (NA, EU, JP):\n",
    "Посчитаем приставки и жанры, после этого посмотрим на возраст с помощью рейтинга."
   ]
  },
  {
   "cell_type": "markdown",
   "metadata": {},
   "source": [
    "### Северная Америка"
   ]
  },
  {
   "cell_type": "code",
   "execution_count": 152,
   "metadata": {},
   "outputs": [],
   "source": [
    "na_user = data_act.pivot_table(index='platform',values=['na_sales','world_sales'],aggfunc=('sum'))"
   ]
  },
  {
   "cell_type": "code",
   "execution_count": 153,
   "metadata": {
    "scrolled": false
   },
   "outputs": [
    {
     "data": {
      "text/html": [
       "<div>\n",
       "<style scoped>\n",
       "    .dataframe tbody tr th:only-of-type {\n",
       "        vertical-align: middle;\n",
       "    }\n",
       "\n",
       "    .dataframe tbody tr th {\n",
       "        vertical-align: top;\n",
       "    }\n",
       "\n",
       "    .dataframe thead th {\n",
       "        text-align: right;\n",
       "    }\n",
       "</style>\n",
       "<table border=\"1\" class=\"dataframe\">\n",
       "  <thead>\n",
       "    <tr style=\"text-align: right;\">\n",
       "      <th></th>\n",
       "      <th>na_sales</th>\n",
       "      <th>world_sales</th>\n",
       "    </tr>\n",
       "    <tr>\n",
       "      <th>platform</th>\n",
       "      <th></th>\n",
       "      <th></th>\n",
       "    </tr>\n",
       "  </thead>\n",
       "  <tbody>\n",
       "    <tr>\n",
       "      <th>X360</th>\n",
       "      <td>140.05</td>\n",
       "      <td>236.54</td>\n",
       "    </tr>\n",
       "    <tr>\n",
       "      <th>PS4</th>\n",
       "      <td>108.74</td>\n",
       "      <td>314.14</td>\n",
       "    </tr>\n",
       "    <tr>\n",
       "      <th>PS3</th>\n",
       "      <td>103.38</td>\n",
       "      <td>288.79</td>\n",
       "    </tr>\n",
       "    <tr>\n",
       "      <th>XOne</th>\n",
       "      <td>93.12</td>\n",
       "      <td>159.32</td>\n",
       "    </tr>\n",
       "    <tr>\n",
       "      <th>3DS</th>\n",
       "      <td>55.31</td>\n",
       "      <td>194.61</td>\n",
       "    </tr>\n",
       "    <tr>\n",
       "      <th>WiiU</th>\n",
       "      <td>38.10</td>\n",
       "      <td>82.19</td>\n",
       "    </tr>\n",
       "    <tr>\n",
       "      <th>PC</th>\n",
       "      <td>19.18</td>\n",
       "      <td>63.00</td>\n",
       "    </tr>\n",
       "    <tr>\n",
       "      <th>Wii</th>\n",
       "      <td>17.45</td>\n",
       "      <td>35.37</td>\n",
       "    </tr>\n",
       "    <tr>\n",
       "      <th>PSV</th>\n",
       "      <td>10.98</td>\n",
       "      <td>49.18</td>\n",
       "    </tr>\n",
       "    <tr>\n",
       "      <th>DS</th>\n",
       "      <td>4.59</td>\n",
       "      <td>12.55</td>\n",
       "    </tr>\n",
       "    <tr>\n",
       "      <th>PSP</th>\n",
       "      <td>0.13</td>\n",
       "      <td>11.19</td>\n",
       "    </tr>\n",
       "  </tbody>\n",
       "</table>\n",
       "</div>"
      ],
      "text/plain": [
       "          na_sales  world_sales\n",
       "platform                       \n",
       "X360        140.05       236.54\n",
       "PS4         108.74       314.14\n",
       "PS3         103.38       288.79\n",
       "XOne         93.12       159.32\n",
       "3DS          55.31       194.61\n",
       "WiiU         38.10        82.19\n",
       "PC           19.18        63.00\n",
       "Wii          17.45        35.37\n",
       "PSV          10.98        49.18\n",
       "DS            4.59        12.55\n",
       "PSP           0.13        11.19"
      ]
     },
     "execution_count": 153,
     "metadata": {},
     "output_type": "execute_result"
    }
   ],
   "source": [
    "na_user.sort_values('na_sales', ascending = False)"
   ]
  },
  {
   "cell_type": "code",
   "execution_count": 154,
   "metadata": {},
   "outputs": [
    {
     "data": {
      "text/plain": [
       "genre\n",
       "Action          177.90\n",
       "Shooter         144.77\n",
       "Sports           81.53\n",
       "Role-Playing     64.00\n",
       "Misc             38.19\n",
       "Platform         25.38\n",
       "Fighting         19.79\n",
       "Racing           17.22\n",
       "Adventure         8.92\n",
       "Simulation        7.97\n",
       "Strategy          4.23\n",
       "Puzzle            1.13\n",
       "Name: na_sales, dtype: float64"
      ]
     },
     "execution_count": 154,
     "metadata": {},
     "output_type": "execute_result"
    }
   ],
   "source": [
    "na_genre = data_act.groupby('genre')['na_sales'].sum().sort_values(ascending=False)\n",
    "na_genre"
   ]
  },
  {
   "cell_type": "markdown",
   "metadata": {},
   "source": [
    "### Европа"
   ]
  },
  {
   "cell_type": "code",
   "execution_count": 155,
   "metadata": {},
   "outputs": [],
   "source": [
    "eu_user = data_act.pivot_table(index='platform',values=['eu_sales','world_sales'],aggfunc=('sum'))"
   ]
  },
  {
   "cell_type": "code",
   "execution_count": 156,
   "metadata": {
    "scrolled": false
   },
   "outputs": [
    {
     "data": {
      "text/html": [
       "<div>\n",
       "<style scoped>\n",
       "    .dataframe tbody tr th:only-of-type {\n",
       "        vertical-align: middle;\n",
       "    }\n",
       "\n",
       "    .dataframe tbody tr th {\n",
       "        vertical-align: top;\n",
       "    }\n",
       "\n",
       "    .dataframe thead th {\n",
       "        text-align: right;\n",
       "    }\n",
       "</style>\n",
       "<table border=\"1\" class=\"dataframe\">\n",
       "  <thead>\n",
       "    <tr style=\"text-align: right;\">\n",
       "      <th></th>\n",
       "      <th>eu_sales</th>\n",
       "      <th>world_sales</th>\n",
       "    </tr>\n",
       "    <tr>\n",
       "      <th>platform</th>\n",
       "      <th></th>\n",
       "      <th></th>\n",
       "    </tr>\n",
       "  </thead>\n",
       "  <tbody>\n",
       "    <tr>\n",
       "      <th>PS4</th>\n",
       "      <td>141.09</td>\n",
       "      <td>314.14</td>\n",
       "    </tr>\n",
       "    <tr>\n",
       "      <th>PS3</th>\n",
       "      <td>106.86</td>\n",
       "      <td>288.79</td>\n",
       "    </tr>\n",
       "    <tr>\n",
       "      <th>X360</th>\n",
       "      <td>74.52</td>\n",
       "      <td>236.54</td>\n",
       "    </tr>\n",
       "    <tr>\n",
       "      <th>XOne</th>\n",
       "      <td>51.59</td>\n",
       "      <td>159.32</td>\n",
       "    </tr>\n",
       "    <tr>\n",
       "      <th>3DS</th>\n",
       "      <td>42.64</td>\n",
       "      <td>194.61</td>\n",
       "    </tr>\n",
       "    <tr>\n",
       "      <th>PC</th>\n",
       "      <td>38.01</td>\n",
       "      <td>63.00</td>\n",
       "    </tr>\n",
       "    <tr>\n",
       "      <th>WiiU</th>\n",
       "      <td>25.13</td>\n",
       "      <td>82.19</td>\n",
       "    </tr>\n",
       "    <tr>\n",
       "      <th>Wii</th>\n",
       "      <td>11.92</td>\n",
       "      <td>35.37</td>\n",
       "    </tr>\n",
       "    <tr>\n",
       "      <th>PSV</th>\n",
       "      <td>11.36</td>\n",
       "      <td>49.18</td>\n",
       "    </tr>\n",
       "    <tr>\n",
       "      <th>DS</th>\n",
       "      <td>3.53</td>\n",
       "      <td>12.55</td>\n",
       "    </tr>\n",
       "    <tr>\n",
       "      <th>PSP</th>\n",
       "      <td>0.42</td>\n",
       "      <td>11.19</td>\n",
       "    </tr>\n",
       "  </tbody>\n",
       "</table>\n",
       "</div>"
      ],
      "text/plain": [
       "          eu_sales  world_sales\n",
       "platform                       \n",
       "PS4         141.09       314.14\n",
       "PS3         106.86       288.79\n",
       "X360         74.52       236.54\n",
       "XOne         51.59       159.32\n",
       "3DS          42.64       194.61\n",
       "PC           38.01        63.00\n",
       "WiiU         25.13        82.19\n",
       "Wii          11.92        35.37\n",
       "PSV          11.36        49.18\n",
       "DS            3.53        12.55\n",
       "PSP           0.42        11.19"
      ]
     },
     "execution_count": 156,
     "metadata": {},
     "output_type": "execute_result"
    }
   ],
   "source": [
    "eu_user.sort_values('eu_sales', ascending = False)"
   ]
  },
  {
   "cell_type": "code",
   "execution_count": 157,
   "metadata": {},
   "outputs": [
    {
     "data": {
      "text/plain": [
       "genre\n",
       "Action          159.59\n",
       "Shooter         113.47\n",
       "Sports           69.09\n",
       "Role-Playing     48.53\n",
       "Racing           27.29\n",
       "Misc             26.32\n",
       "Platform         21.41\n",
       "Simulation       14.55\n",
       "Fighting         10.79\n",
       "Adventure         9.46\n",
       "Strategy          5.17\n",
       "Puzzle            1.40\n",
       "Name: eu_sales, dtype: float64"
      ]
     },
     "execution_count": 157,
     "metadata": {},
     "output_type": "execute_result"
    }
   ],
   "source": [
    "eu_genre = data_act.groupby('genre')['eu_sales'].sum().sort_values(ascending=False)\n",
    "eu_genre"
   ]
  },
  {
   "cell_type": "markdown",
   "metadata": {},
   "source": [
    "### Япония"
   ]
  },
  {
   "cell_type": "code",
   "execution_count": 158,
   "metadata": {},
   "outputs": [],
   "source": [
    "jp_user = data_act.pivot_table(index='platform',values=['jp_sales','world_sales'],aggfunc=('sum'))"
   ]
  },
  {
   "cell_type": "code",
   "execution_count": 159,
   "metadata": {},
   "outputs": [
    {
     "data": {
      "text/html": [
       "<div>\n",
       "<style scoped>\n",
       "    .dataframe tbody tr th:only-of-type {\n",
       "        vertical-align: middle;\n",
       "    }\n",
       "\n",
       "    .dataframe tbody tr th {\n",
       "        vertical-align: top;\n",
       "    }\n",
       "\n",
       "    .dataframe thead th {\n",
       "        text-align: right;\n",
       "    }\n",
       "</style>\n",
       "<table border=\"1\" class=\"dataframe\">\n",
       "  <thead>\n",
       "    <tr style=\"text-align: right;\">\n",
       "      <th></th>\n",
       "      <th>jp_sales</th>\n",
       "      <th>world_sales</th>\n",
       "    </tr>\n",
       "    <tr>\n",
       "      <th>platform</th>\n",
       "      <th></th>\n",
       "      <th></th>\n",
       "    </tr>\n",
       "  </thead>\n",
       "  <tbody>\n",
       "    <tr>\n",
       "      <th>3DS</th>\n",
       "      <td>87.79</td>\n",
       "      <td>194.61</td>\n",
       "    </tr>\n",
       "    <tr>\n",
       "      <th>PS3</th>\n",
       "      <td>35.29</td>\n",
       "      <td>288.79</td>\n",
       "    </tr>\n",
       "    <tr>\n",
       "      <th>PSV</th>\n",
       "      <td>21.04</td>\n",
       "      <td>49.18</td>\n",
       "    </tr>\n",
       "    <tr>\n",
       "      <th>PS4</th>\n",
       "      <td>15.96</td>\n",
       "      <td>314.14</td>\n",
       "    </tr>\n",
       "    <tr>\n",
       "      <th>WiiU</th>\n",
       "      <td>13.01</td>\n",
       "      <td>82.19</td>\n",
       "    </tr>\n",
       "    <tr>\n",
       "      <th>PSP</th>\n",
       "      <td>10.47</td>\n",
       "      <td>11.19</td>\n",
       "    </tr>\n",
       "    <tr>\n",
       "      <th>DS</th>\n",
       "      <td>3.72</td>\n",
       "      <td>12.55</td>\n",
       "    </tr>\n",
       "    <tr>\n",
       "      <th>Wii</th>\n",
       "      <td>3.39</td>\n",
       "      <td>35.37</td>\n",
       "    </tr>\n",
       "    <tr>\n",
       "      <th>X360</th>\n",
       "      <td>1.57</td>\n",
       "      <td>236.54</td>\n",
       "    </tr>\n",
       "    <tr>\n",
       "      <th>XOne</th>\n",
       "      <td>0.34</td>\n",
       "      <td>159.32</td>\n",
       "    </tr>\n",
       "    <tr>\n",
       "      <th>PC</th>\n",
       "      <td>0.00</td>\n",
       "      <td>63.00</td>\n",
       "    </tr>\n",
       "  </tbody>\n",
       "</table>\n",
       "</div>"
      ],
      "text/plain": [
       "          jp_sales  world_sales\n",
       "platform                       \n",
       "3DS          87.79       194.61\n",
       "PS3          35.29       288.79\n",
       "PSV          21.04        49.18\n",
       "PS4          15.96       314.14\n",
       "WiiU         13.01        82.19\n",
       "PSP          10.47        11.19\n",
       "DS            3.72        12.55\n",
       "Wii           3.39        35.37\n",
       "X360          1.57       236.54\n",
       "XOne          0.34       159.32\n",
       "PC            0.00        63.00"
      ]
     },
     "execution_count": 159,
     "metadata": {},
     "output_type": "execute_result"
    }
   ],
   "source": [
    "jp_user.sort_values('jp_sales', ascending = False)"
   ]
  },
  {
   "cell_type": "code",
   "execution_count": 160,
   "metadata": {
    "scrolled": false
   },
   "outputs": [
    {
     "data": {
      "text/plain": [
       "genre\n",
       "Role-Playing    65.44\n",
       "Action          52.80\n",
       "Misc            12.86\n",
       "Simulation      10.41\n",
       "Fighting         9.44\n",
       "Shooter          9.23\n",
       "Platform         8.63\n",
       "Adventure        8.24\n",
       "Sports           8.01\n",
       "Strategy         2.88\n",
       "Racing           2.50\n",
       "Puzzle           2.14\n",
       "Name: jp_sales, dtype: float64"
      ]
     },
     "execution_count": 160,
     "metadata": {},
     "output_type": "execute_result"
    }
   ],
   "source": [
    "jp_genre = data_act.groupby('genre')['jp_sales'].sum().sort_values(ascending=False)\n",
    "jp_genre"
   ]
  },
  {
   "cell_type": "markdown",
   "metadata": {},
   "source": [
    "### ESRB по регионам"
   ]
  },
  {
   "cell_type": "code",
   "execution_count": 186,
   "metadata": {
    "scrolled": true
   },
   "outputs": [],
   "source": [
    "na_rating = data_act.groupby('new_rating')['na_sales'].sum().sort_values(ascending=False).reset_index()\n",
    "#na_rating\n",
    "eu_rating = data_act.groupby('new_rating')['eu_sales'].sum().sort_values(ascending=False).reset_index();\n",
    "#eu_rating\n",
    "jp_rating = data_act.groupby('new_rating')['jp_sales'].sum().sort_values(ascending=False).reset_index()\n",
    "#jp_rating"
   ]
  },
  {
   "cell_type": "markdown",
   "metadata": {},
   "source": [
    "<div class=\"alert alert-danger\">\n",
    "<b>Необходимо исправить ❌</b>\n",
    "\n",
    "Здесь мы потеряли игры без рейтинга (в самом начале тетрадки у меня был комментарий про то, что мы не должны забыть обработать NaN в 'rating'). Если выполнить (**псевдокод!**): **df_actual['rating'].value_counts(dropna=False)**, то получим, что кроме игр с явными рейтингами (которые ты ниже и анализируешь) есть ещё около тысячи игр без рейтинга. Но продажи именно таких игр могут указать на ключевое различие в регионах. \n",
    "Исправь пожалуйста эту ошибку и посмотри - не поменялись ли твои выводы.</div>"
   ]
  },
  {
   "cell_type": "markdown",
   "metadata": {},
   "source": [
    "<div class=\"alert alert-block alert-info\">\n",
    "<b>🔁Комментарий студента:</b>\n",
    "Исправлено! анализируем по столбцу 'new_rating' и он, действительно, кардинально меняет картину.\n",
    "</div>"
   ]
  },
  {
   "cell_type": "markdown",
   "metadata": {},
   "source": [
    "<div class=\"alert alert-success\">\n",
    "<b>КОММЕНТАРИЙ V2</b>\n",
    "\n",
    "+\n",
    "</div>\n"
   ]
  },
  {
   "cell_type": "code",
   "execution_count": 187,
   "metadata": {},
   "outputs": [
    {
     "data": {
      "text/plain": [
       "<Figure size 1440x1080 with 0 Axes>"
      ]
     },
     "metadata": {},
     "output_type": "display_data"
    },
    {
     "data": {
      "image/png": "[encoded data removed]",
      "text/plain": [
       "<Figure size 1440x360 with 1 Axes>"
      ]
     },
     "metadata": {
      "needs_background": "light"
     },
     "output_type": "display_data"
    },
    {
     "data": {
      "image/png": "[encoded data removed]",
      "text/plain": [
       "<Figure size 1440x360 with 1 Axes>"
      ]
     },
     "metadata": {
      "needs_background": "light"
     },
     "output_type": "display_data"
    },
    {
     "data": {
      "image/png": "[encoded data removed]",
      "text/plain": [
       "<Figure size 1440x360 with 1 Axes>"
      ]
     },
     "metadata": {
      "needs_background": "light"
     },
     "output_type": "display_data"
    }
   ],
   "source": [
    "#привожу все боксплоты в 1 окно\n",
    "\n",
    "pos = 0\n",
    "plt.figure(figsize=[20,15])\n",
    "plt.subplots_adjust(wspace=0.1, hspace=1)\n",
    "\n",
    "plt.figure(figsize=(20, 5))\n",
    "sns.barplot(data=na_rating, x='new_rating', y = 'na_sales');\n",
    "plt.xlabel('Рейтинг');\n",
    "plt.ylabel('Количество продаж');\n",
    "plt.title('График продаж игр по рейтингу в Северной Америке');\n",
    "\n",
    "plt.figure(figsize=(20, 5))\n",
    "sns.barplot(data=eu_rating, x='new_rating', y = 'eu_sales');\n",
    "plt.xlabel('Рейтинг');\n",
    "plt.ylabel('Количество продаж');\n",
    "plt.title('График продаж игр по рейтингу в Европе');\n",
    "\n",
    "plt.figure(figsize=(20, 5))\n",
    "sns.barplot(data=jp_rating, x='new_rating', y = 'jp_sales');\n",
    "plt.xlabel('Рейтинг');\n",
    "plt.ylabel('Количество продаж');\n",
    "plt.title('График продаж игр по рейтингу в Японии');"
   ]
  },
  {
   "cell_type": "code",
   "execution_count": 138,
   "metadata": {
    "scrolled": false
   },
   "outputs": [],
   "source": [
    "#plt.figure(figsize=(20, 5))\n",
    "#sns.barplot(data=na_rating, x='new_rating', y = 'na_sales');\n",
    "#na_rating.plot(x = 'new_rating', y = 'na_sales', kind = 'bar', figsize=(20,8), grid=True);\n",
    "#plt.xlabel('Рейтинг');\n",
    "#plt.ylabel('Количество продаж');\n",
    "#plt.title('График продаж игр по рейтингу в Северной Америке');"
   ]
  },
  {
   "cell_type": "code",
   "execution_count": 139,
   "metadata": {},
   "outputs": [],
   "source": [
    "#eu_rating = data_act.groupby('new_rating')['eu_sales'].sum().sort_values(ascending=False).reset_index();\n",
    "#eu_rating"
   ]
  },
  {
   "cell_type": "code",
   "execution_count": 140,
   "metadata": {},
   "outputs": [],
   "source": [
    "#plt.figure(figsize=(20, 5))\n",
    "#sns.barplot(data=eu_rating, x='new_rating', y = 'eu_sales');\n",
    "#eu_rating.plot(x = 'new_rating', y = 'eu_sales', kind = 'bar', figsize=(20,8), grid=True);\n",
    "#plt.xlabel('Рейтинг');\n",
    "#plt.ylabel('Количество продаж');\n",
    "#plt.title('График продаж игр по рейтингу в Европе');"
   ]
  },
  {
   "cell_type": "code",
   "execution_count": 141,
   "metadata": {},
   "outputs": [],
   "source": [
    "#jp_rating = data_act.groupby('new_rating')['jp_sales'].sum().sort_values(ascending=False).reset_index()\n",
    "#jp_rating"
   ]
  },
  {
   "cell_type": "code",
   "execution_count": 142,
   "metadata": {},
   "outputs": [],
   "source": [
    "#plt.figure(figsize=(20, 5))\n",
    "#sns.barplot(data=jp_rating, x='new_rating', y = 'jp_sales');\n",
    "#jp_rating.plot(x = 'new_rating', y = 'jp_sales', kind = 'bar', figsize=(20,8), grid=True);\n",
    "#plt.xlabel('Рейтинг');\n",
    "#plt.ylabel('Количество продаж');\n",
    "#plt.title('График продаж игр по рейтингу в Японии');"
   ]
  },
  {
   "cell_type": "markdown",
   "metadata": {},
   "source": [
    "### Вывод: исследованы типичные пользователи по приставкам, жанрам, рейтингу в каждом регионе.\n",
    "\n",
    "В результате типичный покупатель в Северной Америке выбирает Xbox 360, жанр - Action, а рейтинг игр в большинстве - M.\n",
    "\n",
    "В Европе - PS4, жанр - Action, рейтинг - M.\n",
    "\n",
    "В Японии - 3DS, жанры - Role-playing, рейтинг - not_defined.\n",
    "\n",
    "<div class=\"alert alert-warning\">\n",
    "<b>Комментарий 👉</b>\n",
    "\n",
    "(После исправления красного комментария выше) А чем на твой взгляд можно объяснить то, что в Японии лидерами продаж (в количестве копий) являются игры без рейтинга ESRB?</div>"
   ]
  },
  {
   "cell_type": "markdown",
   "metadata": {},
   "source": [
    "<div class=\"alert alert-block alert-info\">\n",
    "<b>🔁Комментарий студента:</b>\n",
    "Исправлено! 2 мысли: 1)американская ESRB не накладывает свой рейтинг на популярные японские игры(принципиально, или японские игры вообще не попадают в Америку) . \n",
    "2) Этим занимается японский аналог ESRB(что логичнее), но от него у меня нет отчётов.\n",
    "</div>"
   ]
  },
  {
   "cell_type": "markdown",
   "metadata": {},
   "source": [
    "<div class=\"alert alert-success\">\n",
    "<b>КОММЕНТАРИЙ V2</b>\n",
    "\n",
    "Да, верно! Рейтинг ESRB - это американский рейтинг, а в Японии есть своё рейтинговое агентство (CERO). Получается, что Япония страна со своим менталитетом. И твой анализ показывает, что Японцы в игры-то играют не такие, как весь прочий мир и жанры игр там популярны совсем другие, нежели в остальном мире, да и на рейтинги (не своего агентства) не очень-то внимание обращают.\n",
    "</div>\n"
   ]
  },
  {
   "cell_type": "markdown",
   "metadata": {},
   "source": [
    "## Проверим гипотезы. \n",
    "### Средние пользовательские рейтинги платформ Xbox One и PC одинаковые\n"
   ]
  },
  {
   "cell_type": "markdown",
   "metadata": {},
   "source": [
    "Сформулируем *гипотезы*:\n",
    "\n",
    "    Нулевая гипотеза H₀: Средние пользовательские рейтинги платформ Xbox One и PC одинаковые;\n",
    "\n",
    "    Альтернативная гипотеза H₁: Средние пользовательские рейтинги платформ Xbox One и PC различаются.\n",
    "\n"
   ]
  },
  {
   "cell_type": "code",
   "execution_count": 103,
   "metadata": {},
   "outputs": [],
   "source": [
    "alpha = .05"
   ]
  },
  {
   "cell_type": "code",
   "execution_count": 104,
   "metadata": {},
   "outputs": [
    {
     "name": "stdout",
     "output_type": "stream",
     "text": [
      "p-значение: 0.5926118514134859\n",
      "Не получилось отвергнуть нулевую гипотезу\n"
     ]
    }
   ],
   "source": [
    "data_xone = data_act[(data_act['platform'] == 'XOne') & (data_act['user_score'] > 0)] #Нулевые отзывы мешают расчётам, исключим их.\n",
    "data_pc = data_act[(data_act['platform'] == 'PC') & (data_act['user_score'] > 0)]\n",
    "user_xone = data_xone['user_score']\n",
    "user_pc = data_pc['user_score']\n",
    "\n",
    "results = st.ttest_ind(user_xone, user_pc, equal_var=False)\n",
    "\n",
    "print('p-значение:', results.pvalue)\n",
    "\n",
    "if results.pvalue < alpha:\n",
    "    print(\"Отвергаем нулевую гипотезу\")\n",
    "else:\n",
    "    print(\"Не получилось отвергнуть нулевую гипотезу\")"
   ]
  },
  {
   "cell_type": "markdown",
   "metadata": {},
   "source": [
    "<div class=\"alert alert-success\">\n",
    "<b>ОТЛИЧНО! 👍</b>\n",
    "\n",
    "Очень хорошо, что ты не забываешь отфильтровать «заглушки» / NaN значения.\n",
    "\n",
    "Также верно и то, что мы используем здесь двусторонний тест.\n",
    "</div>"
   ]
  },
  {
   "cell_type": "markdown",
   "metadata": {},
   "source": [
    "Следовательно, нет оснований полагать, что рейтинги платформ Xbox One и PC различаются.\n",
    "\n",
    "Считаем, что средние пользовательские **рейтинги** платформ Xbox One и PC **одинаковые**."
   ]
  },
  {
   "cell_type": "markdown",
   "metadata": {},
   "source": [
    "### Средние пользовательские рейтинги жанров Action (англ. «действие», экшен-игры) и Sports (англ. «спортивные соревнования») разные."
   ]
  },
  {
   "cell_type": "markdown",
   "metadata": {},
   "source": [
    "Сформулируем *гипотезы*:\n",
    "\n",
    "    Нулевая гипотеза H₀: Средние пользовательские рейтинги жанров Action и Sports одинаковые;\n",
    "\n",
    "    Альтернативная гипотеза H₁: Средние пользовательские рейтинги жанров Action и Sports различаются."
   ]
  },
  {
   "cell_type": "code",
   "execution_count": 105,
   "metadata": {},
   "outputs": [
    {
     "name": "stdout",
     "output_type": "stream",
     "text": [
      "p-значение:  3.551295319559386e-20\n",
      "Отвергаем нулевую гипотезу\n"
     ]
    }
   ],
   "source": [
    "genre_action = data_act[(data_act['genre'] == 'Action') & (data_act['user_score'] > 0)]\n",
    "genre_sports = data_act[(data_act['genre'] == 'Sports') & (data_act['user_score'] > 0)]\n",
    "user_action = genre_action['user_score']\n",
    "user_sports = genre_sports['user_score']\n",
    "\n",
    "alpha = .05 \n",
    "\n",
    "results = st.ttest_ind(user_action, user_sports, equal_var=False)\n",
    "\n",
    "print('p-значение: ', results.pvalue)\n",
    "if results.pvalue < alpha:\n",
    "    print(\"Отвергаем нулевую гипотезу\")\n",
    "else:\n",
    "    print(\"Не получилось отвергнуть нулевую гипотезу\") "
   ]
  },
  {
   "cell_type": "markdown",
   "metadata": {},
   "source": [
    "Вероятность получить одинаковые отзывы крайне мала, следовательно принимаем альтернативную гипотезу и заявляем, что **рейтинги** жанров Action и Sports **различаются**."
   ]
  },
  {
   "cell_type": "markdown",
   "metadata": {},
   "source": [
    "### Вывод: проведена проверка гипотез.\n",
    "\n",
    "В результате первого эксперимента принимаем, что средние пользовательские **рейтинги** платформ Xbox One и PC **одинаковые**.\n",
    "\n",
    "Во втором эксперименте принимаем, что **рейтинги** жанров Action и Sports **различаются**."
   ]
  },
  {
   "cell_type": "markdown",
   "metadata": {},
   "source": [
    "<div class=\"alert alert-danger\">\n",
    "<b>Необходимо исправить ❌</b>\n",
    "\n",
    "Нельзя сделать вывод, что тест \"подтвердил\" одну из гипотез (в статистике гипотезы подтвердить невозможно) или \"подтвердил\" равенство/неравенство (можно говорить только о статистически (не)значимом различии). Например так: «У нас нет оснований утверждать, что средние пользовательские рейтинги платформ Xbox One и PC значимо различаются».\n",
    "\n",
    "И ещё на эту же тему: никакие экспериментально полученные данные никогда не подтвердят какую-либо гипотезу. Это наше фундаментальное ограничение. Данные могут лишь не противоречить ей или, наоборот, показывать крайне маловероятные результаты (при условии, что гипотеза верна). Но и в том, и в другом случае нет оснований утверждать, что выдвинутая гипотеза доказана. Допустим, данные гипотезе не противоречат, тогда мы её не отвергаем. Если же мы приходим к выводу, что получить такие данные в рамках этой гипотезы вряд ли возможно, у нас появляется основание отбросить эту гипотезу. Статья на эту тему: https://allatambov.github.io/psms/pdf/hypo-test.pdf\n",
    "</div>"
   ]
  },
  {
   "cell_type": "markdown",
   "metadata": {},
   "source": [
    "<div class=\"alert alert-block alert-info\">\n",
    "<b>🔁Комментарий студента:</b>\n",
    "Исправлено! После исправления датафрейма на срез данные перевернулись с ног на голову....\n",
    "</div>"
   ]
  },
  {
   "cell_type": "markdown",
   "metadata": {},
   "source": [
    "<div class=\"alert alert-success\">\n",
    "<b>КОММЕНТАРИЙ V2</b>\n",
    "\n",
    "Да, верно теперь!\n",
    "</div>\n"
   ]
  },
  {
   "cell_type": "markdown",
   "metadata": {},
   "source": [
    "## Вывод: "
   ]
  },
  {
   "cell_type": "markdown",
   "metadata": {},
   "source": [
    "В результате работы над проектом была проведена подготовка и предобработка данных, полученных из открытых источников:\n",
    "Заполнены пробелы, изменены типы данных, созданы новые столбцы для дальнейшего анализа.\n",
    "\n",
    "В результате анализа обнаружен рост в производстве видеоигр с 1990 по 2008 год. На данный момент многие легендарные игровые платформы закончили своё существование, т.к. **средняя продолжительность** их жизни составляет **10-11 лет**. \n",
    "**Пик продаж** происходит на **4-5 год** жизни приставки.\n",
    "\n",
    "Очевидна положительная закономерность между продажами и отзывами критиков. Чем лучше отзывы - тем больше продаж.\n",
    "Отзывы пользователей на продажи практически не влияют.\n",
    "\n",
    "Несмотря на снижение в производстве игр, существует конкуренция между актуальными игровыми приставками(конкретно Playstation и XBox) в зависимости от региона, возраста покупателя и предпочитаемого жанра:\n",
    "\n",
    "    Для `Америки` предпочтительнее продажа:`XBOX 360` и игр к ней в жанры Action для лиц не младше 17 лет.\n",
    "    В качестве альтернативы использовать PS4, Shooter и игры с рейтингом E.  \n",
    "    \n",
    "    Для `Европы` предпочтительнее продажа `PS4` и таких же игр.\n",
    "    В качестве альтернативы использовать PS3, Shooter и игры с рейтингом E.\n",
    "    \n",
    "    Для `Японии` актуальнее продажа `Nintendo 3DS` и игр к ней в жанре Role-Playing. Нет возможности определить популярный рейтинг исходя из исходных данных. \n",
    "    В качестве альтернативы использовать PS3, Action и игры с рейтингом E.\n",
    "    \n",
    "Проведена проверка гипотез о рейтингах 2 платформ - Xbox One и PC и о рейтингах 2 жанров - Action и Sports.\n",
    "\n",
    "    В результате первой нулевая гипотеза об одинаковости рейтингов платформ XBox и PC подтвердилась.\n",
    "\n",
    "    В результате второй принята альтернативная гипотеза о рейтингах жанров Action и Sports - они имеют различные рейтинги.\n",
    "\n"
   ]
  },
  {
   "cell_type": "markdown",
   "metadata": {},
   "source": [
    "<div class=\"alert alert-success\">\n",
    "<b>ОТЛИЧНО! 👍</b>\n",
    "\n",
    "Спасибо за **рекомендации аналитика**, которые должны помочь менеджменту компании «Стримчик» в определении потенциально выигрышных в 2017 году продуктов и проектов.\n",
    "</div>"
   ]
  },
  {
   "cell_type": "markdown",
   "metadata": {},
   "source": [
    "<div class=\"alert alert-danger\">\n",
    "<b>Необходимо исправить ❌</b>\n",
    "\n",
    "Давай представим вполне себе реалистичный сценарий: после выполнения анализа ты готовишь презентацию для топ-менеджмента компании и получаешь приглашение на совет директоров для рассказа и представления своих выводов. Ты ровно эти выводы с собой понесешь? Достаточно ли они детальны, описывают ли они все аспекты (задачи из брифа), которые мы должны были обнаружить, интерпретировать и описать?</div>"
   ]
  },
  {
   "cell_type": "markdown",
   "metadata": {},
   "source": [
    "<div class=\"alert alert-block alert-info\">\n",
    "<b>🔁Комментарий студента:</b>\n",
    "Определили перспективную приставку, жанр и возраст нашего покупателя в каждом регионе. \n",
    "Предложена альтернатива по каждому из параметров.\n",
    "    \n",
    "Исправлено!\n",
    "</div>"
   ]
  },
  {
   "cell_type": "markdown",
   "metadata": {},
   "source": [
    "<div class=\"alert alert-danger\">\n",
    "<b>Необходимо исправить ❌</b>\n",
    "\n",
    "После исправления красных комментариев надо будет ещё раз пересмотреть выводы в этом финальном разделе, я уверен, что некоторые акценты сместятся и твой вывод поменяется.\n",
    "</div>"
   ]
  },
  {
   "cell_type": "markdown",
   "metadata": {},
   "source": [
    "<div class=\"alert alert-block alert-info\">\n",
    "<b>🔁Комментарий студента:</b>\n",
    "Выводы пересмотрены.\n",
    "\n",
    "Исправлено!\n",
    "</div>\n"
   ]
  },
  {
   "cell_type": "markdown",
   "metadata": {},
   "source": [
    "<div class=\"alert alert-success\">\n",
    "<b>КОММЕНТАРИЙ V2</b>\n",
    "\n",
    "Спасибо за качественный, детальный, структурированный финальный вывод! Отдельное спасибо – за **рекомендации аналитика**, которые должны помочь менеджменту компании «Стримчик» в определении потенциально выигрышных в 2017 году продуктов и проектов.\n",
    "</div>\n"
   ]
  },
  {
   "cell_type": "markdown",
   "metadata": {},
   "source": [
    "# Результат ревью:\n",
    "\n",
    "Я отмечаю адекватный уровень твоей программистской подготовки. Ты используешь продвинутые концепции языка Python и библиотеки pandas. Это показывает твой уровень владения инструментами.\n",
    "\n",
    "Ты умело применяешь графические библиотеки (matplotlib / seaborn), выбираешь для визуализации ровно те типы графиков, которые нужны. Очень хорошо, что оси на графиках (в большинстве графиков!) подписаны и сами они имеют понятные названия.\n",
    "\n",
    "С комментированием никаких проблем нет. Твоих объяснений достаточно для понимания твоими коллегами хода мыслей. Ссылки из брифа проекта в нужных местах также помогают следовать за развитием событий и дают полную информацию касаемо того, что будет происходить в том или ином разделе проекта.\n",
    "\n",
    "Мне было просто проверять твой проект, потому что он чётко структурирован, с использованием оглавления. \n",
    "\n",
    "Зелёным цветом я отметил и прокомментировал удачные и элегантные решения, на которые ты можешь опираться в будущих проектах.\n",
    "\n",
    "Жёлтым цветом я выделил то, что в следующий раз можно сделать по-другому. Ты можешь учесть эти комментарии при выполнении будущих заданий или доработать проект сейчас.\n",
    "\n",
    "Однако есть принципиальные моменты, которые не позволяют мне принять твой проект в его нынешнем состоянии:\n",
    "\n",
    "<div class=\"alert alert-danger\">\n",
    "<b>Необходимо исправить ❌</b> \n",
    "\n",
    "1. Одна из задач этого проекта (согласно брифа): 1. Объясните, почему заполнили пропуски определённым образом или почему не стали это делать, 2. Опишите причины, которые могли привести к пропускам 3. Обратите внимание на аббревиатуру 'tbd' в столбце с оценкой пользователей. Отдельно разберите это значение и опишите, как его обработать. Нужен твой комментарий, касающийся природы пропусков в столбце с рейтингами, а именно, может ли быть какая-то связь с тем, что в столбце с рейтингами >40% пропусков и тем, что эти оценки (рейтинги) выставляет **именно Американское рейтинговое агентство**?\n",
    "\n",
    "2. После того, как мы определили интервал, на котором будем строить аналитику, в разных местах \"тетрадки\" мы обращаемся то к \"обрезанному\" датафреймы (что правильно), то к оригинальному, полному датафрейму (что неверно). Таким образом в некоторых разделах этого анализа мы делаем корректные выводы и предложения для нашего бизнеса, а в некоторых всё же привносим в аналитику старые, потерявшие актуальность тренды.\n",
    "\n",
    "3. В разделе построения «ящика с усами» по глобальным продажам игр в разбивке по платформам необходимо построить график так, чтобы квартили соответствующих «ящиков» позволяли визуально сравнивать платформы между собой. **Все боксплоты** нужно построить на одном графике.\n",
    " \n",
    "4. Формулировать, что коэффициент (линейной) корреляции (Пирсона) между 2 переменными (в нашем случае между \"продажами\" и \"оценками\") есть показатель **влияния оценок на количество продаж** - неверно.\n",
    "\n",
    "5. Мы \"потеряли\" игры без рейтинга. Кроме игр с явными рейтингами (которые ты анализируешь) есть ещё около тысячи игр без рейтинга. Но продажи именно таких игр могут указать на ключевое различие в регионах.\n",
    "\n",
    "6. Нельзя сделать вывод, что что наш тест \"подтвердил\" одну из гипотез (в статистике гипотезы подтвердить невозможно) или \"подтвердил\" равенство/неравенство (можно говорить только о статистически (не)значимом различии).</div>\n",
    "\n",
    "Эти 6 моментов требуют твоего внимания. Комментарии по ним помечены красным цветом. \n",
    "\n",
    "Подводя итог: хорошая работа на самом-то деле, молодец! Есть несколько моментов к исправлению, но уверен, что они не вызовут у тебя сложностей. После доработки обязательно проверь комментарии и выводы. Их нужно будет скорректировать. Жду доработанную версию проекта на повторное ревью."
   ]
  },
  {
   "cell_type": "markdown",
   "metadata": {},
   "source": [
    "<div class=\"alert alert-block alert-info\">\n",
    "<b>🔁Комментарий студента:</b>\n",
    "\n",
    "Исправил всё, до чего дотянулся =) Спасибо за обратную связь)\n",
    "</div>\n"
   ]
  },
  {
   "cell_type": "markdown",
   "metadata": {},
   "source": [
    "<div class=\"alert alert-success\">\n",
    "<b>КОММЕНТАРИЙ V2</b>\n",
    "\n",
    "Молодец Денис, всё получилось! ПРОЕКТ ПРИНЯТ!</div>\n"
   ]
  }
 ],
 "metadata": {
  "ExecuteTimeLog": [
   {
    "duration": 441,
    "start_time": "2023-03-27T08:01:53.166Z"
   },
   {
    "duration": 89,
    "start_time": "2023-03-27T08:01:53.609Z"
   },
   {
    "duration": 8,
    "start_time": "2023-03-27T08:01:53.955Z"
   },
   {
    "duration": 129,
    "start_time": "2023-03-27T08:02:05.600Z"
   },
   {
    "duration": 27,
    "start_time": "2023-03-27T08:02:06.403Z"
   },
   {
    "duration": 19,
    "start_time": "2023-03-27T08:02:16.554Z"
   },
   {
    "duration": 8,
    "start_time": "2023-03-27T11:40:16.172Z"
   },
   {
    "duration": 7,
    "start_time": "2023-03-27T11:40:31.616Z"
   },
   {
    "duration": 7,
    "start_time": "2023-03-27T11:45:40.775Z"
   },
   {
    "duration": 5,
    "start_time": "2023-03-27T11:45:56.666Z"
   },
   {
    "duration": 16,
    "start_time": "2023-03-27T11:46:01.839Z"
   },
   {
    "duration": 8,
    "start_time": "2023-03-27T11:51:28.889Z"
   },
   {
    "duration": 13,
    "start_time": "2023-03-27T11:51:38.399Z"
   },
   {
    "duration": 14,
    "start_time": "2023-03-27T11:51:41.573Z"
   },
   {
    "duration": 13,
    "start_time": "2023-03-27T11:55:16.904Z"
   },
   {
    "duration": 7,
    "start_time": "2023-03-27T11:55:29.260Z"
   },
   {
    "duration": 9,
    "start_time": "2023-03-27T11:55:45.191Z"
   },
   {
    "duration": 7,
    "start_time": "2023-03-27T11:55:58.379Z"
   },
   {
    "duration": 9,
    "start_time": "2023-03-27T11:56:23.212Z"
   },
   {
    "duration": 6,
    "start_time": "2023-03-27T11:56:36.676Z"
   },
   {
    "duration": 14,
    "start_time": "2023-03-27T11:56:52.962Z"
   },
   {
    "duration": 5,
    "start_time": "2023-03-27T11:57:03.362Z"
   },
   {
    "duration": 3,
    "start_time": "2023-03-27T11:58:44.375Z"
   },
   {
    "duration": 8,
    "start_time": "2023-03-27T11:58:49.373Z"
   },
   {
    "duration": 8,
    "start_time": "2023-03-27T11:59:01.388Z"
   },
   {
    "duration": 6,
    "start_time": "2023-03-27T11:59:06.409Z"
   },
   {
    "duration": 12,
    "start_time": "2023-03-27T12:02:52.718Z"
   },
   {
    "duration": 14,
    "start_time": "2023-03-27T12:03:31.283Z"
   },
   {
    "duration": 8,
    "start_time": "2023-03-27T12:03:53.586Z"
   },
   {
    "duration": 8,
    "start_time": "2023-03-27T12:04:21.989Z"
   },
   {
    "duration": 13,
    "start_time": "2023-03-27T12:04:25.447Z"
   },
   {
    "duration": 15,
    "start_time": "2023-03-27T12:04:30.358Z"
   },
   {
    "duration": 6,
    "start_time": "2023-03-27T12:04:57.489Z"
   },
   {
    "duration": 8,
    "start_time": "2023-03-27T12:05:38.442Z"
   },
   {
    "duration": 5,
    "start_time": "2023-03-27T12:09:54.865Z"
   },
   {
    "duration": 6,
    "start_time": "2023-03-27T12:10:02.423Z"
   },
   {
    "duration": 20,
    "start_time": "2023-03-27T12:19:22.663Z"
   },
   {
    "duration": 6,
    "start_time": "2023-03-27T12:19:40.476Z"
   },
   {
    "duration": 10,
    "start_time": "2023-03-27T12:19:50.979Z"
   },
   {
    "duration": 10,
    "start_time": "2023-03-27T12:19:59.250Z"
   },
   {
    "duration": 6,
    "start_time": "2023-03-27T12:22:02.363Z"
   },
   {
    "duration": 2433,
    "start_time": "2023-03-27T12:22:33.970Z"
   },
   {
    "duration": 7,
    "start_time": "2023-03-27T12:22:40.064Z"
   },
   {
    "duration": 15,
    "start_time": "2023-03-27T12:22:56.964Z"
   },
   {
    "duration": 15,
    "start_time": "2023-03-27T12:23:10.968Z"
   },
   {
    "duration": 15,
    "start_time": "2023-03-27T12:23:26.873Z"
   },
   {
    "duration": 9,
    "start_time": "2023-03-27T12:25:56.780Z"
   },
   {
    "duration": 14,
    "start_time": "2023-03-27T12:26:04.725Z"
   },
   {
    "duration": 7,
    "start_time": "2023-03-27T12:27:50.130Z"
   },
   {
    "duration": 7,
    "start_time": "2023-03-27T12:27:55.630Z"
   },
   {
    "duration": 6,
    "start_time": "2023-03-27T12:28:07.462Z"
   },
   {
    "duration": 5,
    "start_time": "2023-03-27T12:28:13.625Z"
   },
   {
    "duration": 5,
    "start_time": "2023-03-27T12:28:22.554Z"
   },
   {
    "duration": 6,
    "start_time": "2023-03-27T12:28:40.313Z"
   },
   {
    "duration": 13,
    "start_time": "2023-03-27T12:29:01.757Z"
   },
   {
    "duration": 6,
    "start_time": "2023-03-27T12:29:10.354Z"
   },
   {
    "duration": 7,
    "start_time": "2023-03-27T12:29:14.084Z"
   },
   {
    "duration": 7,
    "start_time": "2023-03-27T12:29:18.768Z"
   },
   {
    "duration": 7,
    "start_time": "2023-03-27T12:29:22.881Z"
   },
   {
    "duration": 5,
    "start_time": "2023-03-27T12:29:43.736Z"
   },
   {
    "duration": 7,
    "start_time": "2023-03-27T12:29:51.187Z"
   },
   {
    "duration": 6,
    "start_time": "2023-03-27T12:29:56.354Z"
   },
   {
    "duration": 8,
    "start_time": "2023-03-27T12:30:11.819Z"
   },
   {
    "duration": 9,
    "start_time": "2023-03-27T12:30:26.758Z"
   },
   {
    "duration": 8,
    "start_time": "2023-03-27T12:30:35.780Z"
   },
   {
    "duration": 8,
    "start_time": "2023-03-27T12:33:10.187Z"
   },
   {
    "duration": 8,
    "start_time": "2023-03-27T12:33:11.610Z"
   },
   {
    "duration": 2,
    "start_time": "2023-03-27T12:33:21.165Z"
   },
   {
    "duration": 67,
    "start_time": "2023-03-27T12:33:21.643Z"
   },
   {
    "duration": 16,
    "start_time": "2023-03-27T12:33:22.108Z"
   },
   {
    "duration": 14,
    "start_time": "2023-03-27T12:33:22.758Z"
   },
   {
    "duration": 14,
    "start_time": "2023-03-27T12:33:25.697Z"
   },
   {
    "duration": 8,
    "start_time": "2023-03-27T12:33:26.209Z"
   },
   {
    "duration": 7,
    "start_time": "2023-03-27T12:33:34.356Z"
   },
   {
    "duration": 9,
    "start_time": "2023-03-27T12:33:36.387Z"
   },
   {
    "duration": 584,
    "start_time": "2023-03-27T12:39:15.223Z"
   },
   {
    "duration": 202,
    "start_time": "2023-03-27T12:39:41.836Z"
   },
   {
    "duration": 267,
    "start_time": "2023-03-27T12:39:53.726Z"
   },
   {
    "duration": 236,
    "start_time": "2023-03-27T12:40:19.851Z"
   },
   {
    "duration": 9,
    "start_time": "2023-03-27T12:40:27.391Z"
   },
   {
    "duration": 195,
    "start_time": "2023-03-27T12:40:29.229Z"
   },
   {
    "duration": 3,
    "start_time": "2023-03-27T12:40:42.304Z"
   },
   {
    "duration": 56,
    "start_time": "2023-03-27T12:40:42.706Z"
   },
   {
    "duration": 17,
    "start_time": "2023-03-27T12:40:43.050Z"
   },
   {
    "duration": 23,
    "start_time": "2023-03-27T12:40:43.575Z"
   },
   {
    "duration": 12,
    "start_time": "2023-03-27T12:40:46.511Z"
   },
   {
    "duration": 13,
    "start_time": "2023-03-27T12:40:46.950Z"
   },
   {
    "duration": 10,
    "start_time": "2023-03-27T12:40:53.805Z"
   },
   {
    "duration": 9,
    "start_time": "2023-03-27T12:40:56.459Z"
   },
   {
    "duration": 187,
    "start_time": "2023-03-27T12:40:59.391Z"
   },
   {
    "duration": 7,
    "start_time": "2023-03-27T14:51:31.829Z"
   },
   {
    "duration": 1270,
    "start_time": "2023-03-27T14:51:49.421Z"
   },
   {
    "duration": 10,
    "start_time": "2023-03-27T14:52:27.069Z"
   },
   {
    "duration": 15,
    "start_time": "2023-03-27T14:52:53.479Z"
   },
   {
    "duration": 7,
    "start_time": "2023-03-27T14:53:15.721Z"
   },
   {
    "duration": 110,
    "start_time": "2023-03-27T14:54:10.355Z"
   },
   {
    "duration": 7,
    "start_time": "2023-03-27T14:54:25.610Z"
   },
   {
    "duration": 32,
    "start_time": "2023-03-27T14:54:51.543Z"
   },
   {
    "duration": 6,
    "start_time": "2023-03-27T14:55:48.207Z"
   },
   {
    "duration": 10,
    "start_time": "2023-03-27T15:10:29.261Z"
   },
   {
    "duration": 9,
    "start_time": "2023-03-27T15:10:55.589Z"
   },
   {
    "duration": 7,
    "start_time": "2023-03-27T15:11:03.400Z"
   },
   {
    "duration": 5,
    "start_time": "2023-03-27T15:11:13.091Z"
   },
   {
    "duration": 344,
    "start_time": "2023-03-29T19:55:42.837Z"
   },
   {
    "duration": 90,
    "start_time": "2023-03-29T19:55:43.299Z"
   },
   {
    "duration": 23,
    "start_time": "2023-03-29T19:55:43.770Z"
   },
   {
    "duration": 15,
    "start_time": "2023-03-29T19:55:44.732Z"
   },
   {
    "duration": 12,
    "start_time": "2023-03-29T19:55:47.647Z"
   },
   {
    "duration": 8,
    "start_time": "2023-03-29T19:55:48.152Z"
   },
   {
    "duration": 9,
    "start_time": "2023-03-29T19:55:51.058Z"
   },
   {
    "duration": 8,
    "start_time": "2023-03-29T19:55:51.765Z"
   },
   {
    "duration": 5,
    "start_time": "2023-03-29T19:55:52.723Z"
   },
   {
    "duration": 8,
    "start_time": "2023-03-29T19:56:03.064Z"
   },
   {
    "duration": 494,
    "start_time": "2023-03-29T19:56:24.151Z"
   },
   {
    "duration": 3,
    "start_time": "2023-03-29T19:56:28.833Z"
   },
   {
    "duration": 48,
    "start_time": "2023-03-29T19:56:29.323Z"
   },
   {
    "duration": 16,
    "start_time": "2023-03-29T19:56:29.812Z"
   },
   {
    "duration": 15,
    "start_time": "2023-03-29T19:56:30.376Z"
   },
   {
    "duration": 12,
    "start_time": "2023-03-29T19:56:32.535Z"
   },
   {
    "duration": 8,
    "start_time": "2023-03-29T19:56:32.999Z"
   },
   {
    "duration": 7,
    "start_time": "2023-03-29T19:56:33.492Z"
   },
   {
    "duration": 9,
    "start_time": "2023-03-29T19:56:35.095Z"
   },
   {
    "duration": 122,
    "start_time": "2023-03-29T19:56:38.105Z"
   },
   {
    "duration": 4,
    "start_time": "2023-03-29T19:56:44.632Z"
   },
   {
    "duration": 105,
    "start_time": "2023-03-29T19:56:46.477Z"
   },
   {
    "duration": 76,
    "start_time": "2023-03-29T20:03:25.915Z"
   },
   {
    "duration": 2,
    "start_time": "2023-03-29T20:04:20.928Z"
   },
   {
    "duration": 45,
    "start_time": "2023-03-29T20:04:21.361Z"
   },
   {
    "duration": 14,
    "start_time": "2023-03-29T20:04:21.805Z"
   },
   {
    "duration": 12,
    "start_time": "2023-03-29T20:04:22.517Z"
   },
   {
    "duration": 7,
    "start_time": "2023-03-29T20:12:13.433Z"
   },
   {
    "duration": 14,
    "start_time": "2023-03-29T20:12:19.712Z"
   },
   {
    "duration": 1318,
    "start_time": "2023-03-29T20:12:45.787Z"
   },
   {
    "duration": 3,
    "start_time": "2023-03-29T20:20:58.040Z"
   },
   {
    "duration": 1104,
    "start_time": "2023-03-29T20:21:42.756Z"
   },
   {
    "duration": 1091,
    "start_time": "2023-03-29T20:21:53.786Z"
   },
   {
    "duration": 3,
    "start_time": "2023-03-29T20:21:59.702Z"
   },
   {
    "duration": 45,
    "start_time": "2023-03-29T20:22:00.169Z"
   },
   {
    "duration": 15,
    "start_time": "2023-03-29T20:22:00.747Z"
   },
   {
    "duration": 15,
    "start_time": "2023-03-29T20:22:02.281Z"
   },
   {
    "duration": 13,
    "start_time": "2023-03-29T20:22:05.824Z"
   },
   {
    "duration": 15,
    "start_time": "2023-03-29T20:22:07.406Z"
   },
   {
    "duration": 8,
    "start_time": "2023-03-29T20:22:07.921Z"
   },
   {
    "duration": 7,
    "start_time": "2023-03-29T20:22:10.070Z"
   },
   {
    "duration": 17,
    "start_time": "2023-03-29T20:22:11.588Z"
   },
   {
    "duration": 14,
    "start_time": "2023-03-29T20:22:28.514Z"
   },
   {
    "duration": 3,
    "start_time": "2023-03-29T20:22:39.928Z"
   },
   {
    "duration": 3,
    "start_time": "2023-03-29T20:22:46.824Z"
   },
   {
    "duration": 3,
    "start_time": "2023-03-29T20:27:47.008Z"
   },
   {
    "duration": 94,
    "start_time": "2023-03-29T20:27:47.583Z"
   },
   {
    "duration": 13,
    "start_time": "2023-03-29T20:28:00.379Z"
   },
   {
    "duration": 5,
    "start_time": "2023-03-29T20:28:28.178Z"
   },
   {
    "duration": 4,
    "start_time": "2023-03-29T20:28:58.300Z"
   },
   {
    "duration": 6,
    "start_time": "2023-03-29T20:30:01.107Z"
   },
   {
    "duration": 4,
    "start_time": "2023-03-29T20:30:04.770Z"
   },
   {
    "duration": 22,
    "start_time": "2023-03-29T20:30:36.519Z"
   },
   {
    "duration": 69,
    "start_time": "2023-03-29T20:31:20.312Z"
   },
   {
    "duration": 8,
    "start_time": "2023-03-29T20:32:47.629Z"
   },
   {
    "duration": 6,
    "start_time": "2023-03-29T20:33:03.248Z"
   },
   {
    "duration": 4,
    "start_time": "2023-03-29T20:33:16.239Z"
   },
   {
    "duration": 15,
    "start_time": "2023-03-29T20:33:58.271Z"
   },
   {
    "duration": 17,
    "start_time": "2023-03-29T20:41:02.529Z"
   },
   {
    "duration": 10,
    "start_time": "2023-03-29T20:41:39.409Z"
   },
   {
    "duration": 4,
    "start_time": "2023-03-29T20:41:43.107Z"
   },
   {
    "duration": 9,
    "start_time": "2023-03-29T20:41:52.782Z"
   },
   {
    "duration": 4,
    "start_time": "2023-03-29T20:42:04.847Z"
   },
   {
    "duration": 29582,
    "start_time": "2023-03-29T20:42:40.424Z"
   },
   {
    "duration": 25,
    "start_time": "2023-03-29T20:43:10.014Z"
   },
   {
    "duration": 4,
    "start_time": "2023-03-29T20:43:50.961Z"
   },
   {
    "duration": 4,
    "start_time": "2023-03-29T20:44:10.300Z"
   },
   {
    "duration": 4,
    "start_time": "2023-03-29T20:44:15.315Z"
   },
   {
    "duration": 10,
    "start_time": "2023-03-29T20:46:11.775Z"
   },
   {
    "duration": 91,
    "start_time": "2023-03-29T20:46:22.986Z"
   },
   {
    "duration": 4,
    "start_time": "2023-03-29T20:46:27.955Z"
   },
   {
    "duration": 5,
    "start_time": "2023-03-29T20:46:30.330Z"
   },
   {
    "duration": 1123,
    "start_time": "2023-03-29T20:46:36.847Z"
   },
   {
    "duration": 8,
    "start_time": "2023-03-29T20:46:46.202Z"
   },
   {
    "duration": 8,
    "start_time": "2023-03-29T20:46:59.531Z"
   },
   {
    "duration": 10,
    "start_time": "2023-03-29T20:47:02.246Z"
   },
   {
    "duration": 3,
    "start_time": "2023-03-29T20:47:19.384Z"
   },
   {
    "duration": 46,
    "start_time": "2023-03-29T20:47:19.870Z"
   },
   {
    "duration": 14,
    "start_time": "2023-03-29T20:47:20.361Z"
   },
   {
    "duration": 13,
    "start_time": "2023-03-29T20:47:21.565Z"
   },
   {
    "duration": 11,
    "start_time": "2023-03-29T20:47:23.753Z"
   },
   {
    "duration": 15,
    "start_time": "2023-03-29T20:47:24.632Z"
   },
   {
    "duration": 9,
    "start_time": "2023-03-29T20:47:26.498Z"
   },
   {
    "duration": 7,
    "start_time": "2023-03-29T20:47:30.102Z"
   },
   {
    "duration": 2,
    "start_time": "2023-03-29T20:49:54.189Z"
   },
   {
    "duration": 45,
    "start_time": "2023-03-29T20:49:54.626Z"
   },
   {
    "duration": 15,
    "start_time": "2023-03-29T20:49:55.045Z"
   },
   {
    "duration": 12,
    "start_time": "2023-03-29T20:49:55.976Z"
   },
   {
    "duration": 11,
    "start_time": "2023-03-29T20:49:56.448Z"
   },
   {
    "duration": 16,
    "start_time": "2023-03-29T20:49:59.671Z"
   },
   {
    "duration": 9,
    "start_time": "2023-03-29T20:50:00.515Z"
   },
   {
    "duration": 6,
    "start_time": "2023-03-29T20:50:02.904Z"
   },
   {
    "duration": 8,
    "start_time": "2023-03-29T20:50:04.366Z"
   },
   {
    "duration": 14,
    "start_time": "2023-03-29T20:50:38.361Z"
   },
   {
    "duration": 14,
    "start_time": "2023-03-29T20:56:28.071Z"
   },
   {
    "duration": 14,
    "start_time": "2023-03-29T20:56:34.549Z"
   },
   {
    "duration": 96,
    "start_time": "2023-03-29T20:56:58.114Z"
   },
   {
    "duration": 13,
    "start_time": "2023-03-29T20:57:02.569Z"
   },
   {
    "duration": 16,
    "start_time": "2023-03-29T20:57:09.090Z"
   },
   {
    "duration": 5,
    "start_time": "2023-03-29T20:57:15.666Z"
   },
   {
    "duration": 429,
    "start_time": "2023-03-29T20:57:28.169Z"
   },
   {
    "duration": 5,
    "start_time": "2023-03-29T20:57:39.515Z"
   },
   {
    "duration": 8,
    "start_time": "2023-03-29T20:57:54.519Z"
   },
   {
    "duration": 16,
    "start_time": "2023-03-29T20:58:36.923Z"
   },
   {
    "duration": 1137,
    "start_time": "2023-03-29T20:59:25.902Z"
   },
   {
    "duration": 21,
    "start_time": "2023-03-29T20:59:35.539Z"
   },
   {
    "duration": 19,
    "start_time": "2023-03-29T20:59:52.784Z"
   },
   {
    "duration": 389,
    "start_time": "2023-03-29T21:00:03.522Z"
   },
   {
    "duration": 8,
    "start_time": "2023-03-29T21:01:21.371Z"
   },
   {
    "duration": 6,
    "start_time": "2023-03-29T21:02:04.911Z"
   },
   {
    "duration": 6,
    "start_time": "2023-03-29T21:02:25.575Z"
   },
   {
    "duration": 21,
    "start_time": "2023-03-29T21:02:32.207Z"
   },
   {
    "duration": 22,
    "start_time": "2023-03-29T21:02:57.410Z"
   },
   {
    "duration": 20,
    "start_time": "2023-03-29T21:03:29.634Z"
   },
   {
    "duration": 20,
    "start_time": "2023-03-29T21:03:35.348Z"
   },
   {
    "duration": 21,
    "start_time": "2023-03-29T21:03:37.260Z"
   },
   {
    "duration": 20,
    "start_time": "2023-03-29T21:03:39.291Z"
   },
   {
    "duration": 7,
    "start_time": "2023-03-29T21:03:46.138Z"
   },
   {
    "duration": 81,
    "start_time": "2023-03-29T21:04:10.567Z"
   },
   {
    "duration": 8,
    "start_time": "2023-03-29T21:04:19.325Z"
   },
   {
    "duration": 21,
    "start_time": "2023-03-29T21:04:23.142Z"
   },
   {
    "duration": 5,
    "start_time": "2023-03-29T21:07:58.298Z"
   },
   {
    "duration": 17,
    "start_time": "2023-03-29T21:08:39.825Z"
   },
   {
    "duration": 31,
    "start_time": "2023-03-29T21:10:48.629Z"
   },
   {
    "duration": 21,
    "start_time": "2023-03-29T21:11:10.211Z"
   },
   {
    "duration": 4,
    "start_time": "2023-03-29T21:15:58.145Z"
   },
   {
    "duration": 18,
    "start_time": "2023-03-29T21:16:01.015Z"
   },
   {
    "duration": 16,
    "start_time": "2023-03-29T21:17:25.787Z"
   },
   {
    "duration": 17,
    "start_time": "2023-03-29T21:17:27.721Z"
   },
   {
    "duration": 167,
    "start_time": "2023-03-29T21:26:52.476Z"
   },
   {
    "duration": 5,
    "start_time": "2023-03-29T21:26:59.598Z"
   },
   {
    "duration": 111,
    "start_time": "2023-03-29T21:27:01.353Z"
   },
   {
    "duration": 7,
    "start_time": "2023-03-29T21:32:37.407Z"
   },
   {
    "duration": 14,
    "start_time": "2023-03-29T21:33:11.619Z"
   },
   {
    "duration": 4,
    "start_time": "2023-03-29T21:38:50.940Z"
   },
   {
    "duration": 6,
    "start_time": "2023-03-29T21:38:55.856Z"
   },
   {
    "duration": 3,
    "start_time": "2023-03-29T21:40:22.222Z"
   },
   {
    "duration": 16,
    "start_time": "2023-03-29T21:45:28.578Z"
   },
   {
    "duration": 13,
    "start_time": "2023-03-29T21:53:46.154Z"
   },
   {
    "duration": 18,
    "start_time": "2023-03-29T21:54:12.873Z"
   },
   {
    "duration": 17,
    "start_time": "2023-03-29T21:54:22.839Z"
   },
   {
    "duration": 13,
    "start_time": "2023-03-29T21:54:28.547Z"
   },
   {
    "duration": 46,
    "start_time": "2023-03-29T21:55:54.205Z"
   },
   {
    "duration": 15,
    "start_time": "2023-03-29T21:55:57.124Z"
   },
   {
    "duration": 14,
    "start_time": "2023-03-29T21:56:05.203Z"
   },
   {
    "duration": 1071,
    "start_time": "2023-03-29T21:57:06.999Z"
   },
   {
    "duration": 2,
    "start_time": "2023-03-29T21:57:14.866Z"
   },
   {
    "duration": 47,
    "start_time": "2023-03-29T21:57:15.301Z"
   },
   {
    "duration": 14,
    "start_time": "2023-03-29T21:57:15.772Z"
   },
   {
    "duration": 14,
    "start_time": "2023-03-29T21:57:16.392Z"
   },
   {
    "duration": 12,
    "start_time": "2023-03-29T21:57:18.699Z"
   },
   {
    "duration": 16,
    "start_time": "2023-03-29T21:57:19.386Z"
   },
   {
    "duration": 8,
    "start_time": "2023-03-29T21:57:19.970Z"
   },
   {
    "duration": 7,
    "start_time": "2023-03-29T21:57:21.411Z"
   },
   {
    "duration": 3,
    "start_time": "2023-03-29T21:57:23.167Z"
   },
   {
    "duration": 96,
    "start_time": "2023-03-29T21:57:24.377Z"
   },
   {
    "duration": 409,
    "start_time": "2023-03-29T21:57:24.772Z"
   },
   {
    "duration": 4,
    "start_time": "2023-03-29T21:57:26.899Z"
   },
   {
    "duration": 17,
    "start_time": "2023-03-29T21:57:29.060Z"
   },
   {
    "duration": 2,
    "start_time": "2023-03-29T21:57:31.972Z"
   },
   {
    "duration": 4,
    "start_time": "2023-03-29T21:57:33.881Z"
   },
   {
    "duration": 21,
    "start_time": "2023-03-29T21:57:35.377Z"
   },
   {
    "duration": 13,
    "start_time": "2023-03-29T21:58:02.169Z"
   },
   {
    "duration": 118,
    "start_time": "2023-03-29T22:02:02.710Z"
   },
   {
    "duration": 4,
    "start_time": "2023-03-29T22:05:01.008Z"
   },
   {
    "duration": 20,
    "start_time": "2023-03-29T22:05:01.814Z"
   },
   {
    "duration": 4,
    "start_time": "2023-03-29T22:05:23.853Z"
   },
   {
    "duration": 20,
    "start_time": "2023-03-29T22:05:26.491Z"
   },
   {
    "duration": 46,
    "start_time": "2023-03-29T22:05:35.944Z"
   },
   {
    "duration": 1224,
    "start_time": "2023-03-29T22:05:40.588Z"
   },
   {
    "duration": 0,
    "start_time": "2023-03-29T22:05:41.813Z"
   },
   {
    "duration": 10,
    "start_time": "2023-03-29T22:05:50.445Z"
   },
   {
    "duration": 5,
    "start_time": "2023-03-29T22:05:54.380Z"
   },
   {
    "duration": 18,
    "start_time": "2023-03-29T22:05:59.969Z"
   },
   {
    "duration": 117,
    "start_time": "2023-03-29T22:12:19.242Z"
   },
   {
    "duration": 122,
    "start_time": "2023-03-29T22:12:32.296Z"
   },
   {
    "duration": 178,
    "start_time": "2023-03-29T22:13:05.300Z"
   },
   {
    "duration": 1029,
    "start_time": "2023-03-29T22:14:17.294Z"
   },
   {
    "duration": 1215,
    "start_time": "2023-03-29T22:14:35.546Z"
   },
   {
    "duration": 541,
    "start_time": "2023-03-29T22:14:44.532Z"
   },
   {
    "duration": 514,
    "start_time": "2023-03-29T22:14:58.496Z"
   },
   {
    "duration": 116,
    "start_time": "2023-03-29T22:15:19.825Z"
   },
   {
    "duration": 117,
    "start_time": "2023-03-29T22:15:27.059Z"
   },
   {
    "duration": 143,
    "start_time": "2023-03-29T22:15:30.786Z"
   },
   {
    "duration": 116,
    "start_time": "2023-03-29T22:15:39.276Z"
   },
   {
    "duration": 148,
    "start_time": "2023-03-29T22:15:46.886Z"
   },
   {
    "duration": 136,
    "start_time": "2023-03-29T22:16:03.440Z"
   },
   {
    "duration": 11,
    "start_time": "2023-03-29T22:17:13.618Z"
   },
   {
    "duration": 4,
    "start_time": "2023-03-29T22:17:27.628Z"
   },
   {
    "duration": 19,
    "start_time": "2023-03-29T22:17:29.910Z"
   },
   {
    "duration": 11,
    "start_time": "2023-03-29T22:17:33.914Z"
   },
   {
    "duration": 48,
    "start_time": "2023-03-30T06:08:02.160Z"
   },
   {
    "duration": 395,
    "start_time": "2023-03-30T06:08:07.915Z"
   },
   {
    "duration": 89,
    "start_time": "2023-03-30T06:08:08.312Z"
   },
   {
    "duration": 20,
    "start_time": "2023-03-30T06:08:08.673Z"
   },
   {
    "duration": 13,
    "start_time": "2023-03-30T06:08:09.232Z"
   },
   {
    "duration": 12,
    "start_time": "2023-03-30T06:08:09.996Z"
   },
   {
    "duration": 14,
    "start_time": "2023-03-30T06:08:10.183Z"
   },
   {
    "duration": 8,
    "start_time": "2023-03-30T06:08:10.357Z"
   },
   {
    "duration": 8,
    "start_time": "2023-03-30T06:08:10.536Z"
   },
   {
    "duration": 3,
    "start_time": "2023-03-30T06:08:10.873Z"
   },
   {
    "duration": 102,
    "start_time": "2023-03-30T06:08:11.050Z"
   },
   {
    "duration": 357,
    "start_time": "2023-03-30T06:08:11.229Z"
   },
   {
    "duration": 4,
    "start_time": "2023-03-30T06:08:11.587Z"
   },
   {
    "duration": 20,
    "start_time": "2023-03-30T06:08:11.799Z"
   },
   {
    "duration": 2,
    "start_time": "2023-03-30T06:08:12.167Z"
   },
   {
    "duration": 4,
    "start_time": "2023-03-30T06:08:12.822Z"
   },
   {
    "duration": 5,
    "start_time": "2023-03-30T06:08:13.030Z"
   },
   {
    "duration": 19,
    "start_time": "2023-03-30T06:08:13.240Z"
   },
   {
    "duration": 532,
    "start_time": "2023-03-30T06:08:14.435Z"
   },
   {
    "duration": 12,
    "start_time": "2023-03-30T06:08:14.969Z"
   },
   {
    "duration": 112,
    "start_time": "2023-03-30T06:08:16.407Z"
   },
   {
    "duration": 3,
    "start_time": "2023-03-30T06:08:16.748Z"
   },
   {
    "duration": 6,
    "start_time": "2023-03-30T06:08:17.415Z"
   },
   {
    "duration": 43,
    "start_time": "2023-03-30T06:08:23.232Z"
   },
   {
    "duration": 1211,
    "start_time": "2023-03-30T06:11:13.526Z"
   },
   {
    "duration": 6,
    "start_time": "2023-03-30T06:11:39.055Z"
   },
   {
    "duration": 7,
    "start_time": "2023-03-30T06:12:12.750Z"
   },
   {
    "duration": 5,
    "start_time": "2023-03-30T06:12:19.210Z"
   },
   {
    "duration": 9,
    "start_time": "2023-03-30T06:12:33.863Z"
   },
   {
    "duration": 26,
    "start_time": "2023-03-30T06:12:56.018Z"
   },
   {
    "duration": 10,
    "start_time": "2023-03-30T06:13:24.494Z"
   },
   {
    "duration": 11,
    "start_time": "2023-03-30T06:13:30.312Z"
   },
   {
    "duration": 10,
    "start_time": "2023-03-30T06:13:32.882Z"
   },
   {
    "duration": 8,
    "start_time": "2023-03-30T06:13:44.544Z"
   },
   {
    "duration": 7,
    "start_time": "2023-03-30T06:14:02.040Z"
   },
   {
    "duration": 16,
    "start_time": "2023-03-30T06:14:17.874Z"
   },
   {
    "duration": 14,
    "start_time": "2023-03-30T06:14:53.530Z"
   },
   {
    "duration": 26,
    "start_time": "2023-03-30T06:16:31.388Z"
   },
   {
    "duration": 25,
    "start_time": "2023-03-30T06:16:44.655Z"
   },
   {
    "duration": 16,
    "start_time": "2023-03-30T06:16:53.569Z"
   },
   {
    "duration": 10,
    "start_time": "2023-03-30T06:17:23.880Z"
   },
   {
    "duration": 9,
    "start_time": "2023-03-30T06:17:38.234Z"
   },
   {
    "duration": 9,
    "start_time": "2023-03-30T06:17:47.775Z"
   },
   {
    "duration": 14,
    "start_time": "2023-03-30T06:17:58.715Z"
   },
   {
    "duration": 13,
    "start_time": "2023-03-30T06:18:15.728Z"
   },
   {
    "duration": 6,
    "start_time": "2023-03-30T06:18:46.897Z"
   },
   {
    "duration": 5,
    "start_time": "2023-03-30T06:19:02.112Z"
   },
   {
    "duration": 10,
    "start_time": "2023-03-30T06:19:09.674Z"
   },
   {
    "duration": 21,
    "start_time": "2023-03-30T06:19:17.148Z"
   },
   {
    "duration": 5,
    "start_time": "2023-03-30T06:19:28.529Z"
   },
   {
    "duration": 14,
    "start_time": "2023-03-30T06:19:35.042Z"
   },
   {
    "duration": 11,
    "start_time": "2023-03-30T06:19:58.348Z"
   },
   {
    "duration": 33,
    "start_time": "2023-03-30T06:20:06.566Z"
   },
   {
    "duration": 112,
    "start_time": "2023-03-30T06:33:57.209Z"
   },
   {
    "duration": 8,
    "start_time": "2023-03-30T07:15:30.464Z"
   },
   {
    "duration": 18,
    "start_time": "2023-03-30T07:15:49.157Z"
   },
   {
    "duration": 10,
    "start_time": "2023-03-30T07:16:21.609Z"
   },
   {
    "duration": 194,
    "start_time": "2023-03-30T07:16:30.431Z"
   },
   {
    "duration": 74,
    "start_time": "2023-03-30T07:19:08.151Z"
   },
   {
    "duration": 173,
    "start_time": "2023-03-30T07:19:11.620Z"
   },
   {
    "duration": 3,
    "start_time": "2023-03-30T07:20:03.944Z"
   },
   {
    "duration": 148,
    "start_time": "2023-03-30T07:20:12.728Z"
   },
   {
    "duration": 151,
    "start_time": "2023-03-30T07:20:28.941Z"
   },
   {
    "duration": 224,
    "start_time": "2023-03-30T07:21:00.388Z"
   },
   {
    "duration": 184,
    "start_time": "2023-03-30T07:21:06.923Z"
   },
   {
    "duration": 215,
    "start_time": "2023-03-30T07:21:11.076Z"
   },
   {
    "duration": 8,
    "start_time": "2023-03-30T07:25:17.459Z"
   },
   {
    "duration": 238,
    "start_time": "2023-03-30T07:25:31.090Z"
   },
   {
    "duration": 245,
    "start_time": "2023-03-30T07:25:54.258Z"
   },
   {
    "duration": 21,
    "start_time": "2023-03-30T07:26:00.666Z"
   },
   {
    "duration": 15,
    "start_time": "2023-03-30T07:26:08.174Z"
   },
   {
    "duration": 13,
    "start_time": "2023-03-30T07:26:45.148Z"
   },
   {
    "duration": 293,
    "start_time": "2023-03-30T07:27:21.031Z"
   },
   {
    "duration": 249,
    "start_time": "2023-03-30T07:27:27.734Z"
   },
   {
    "duration": 14,
    "start_time": "2023-03-30T07:28:25.359Z"
   },
   {
    "duration": 35,
    "start_time": "2023-03-30T07:28:47.527Z"
   },
   {
    "duration": 29,
    "start_time": "2023-03-30T07:28:53.331Z"
   },
   {
    "duration": 27,
    "start_time": "2023-03-30T07:31:37.725Z"
   },
   {
    "duration": 20,
    "start_time": "2023-03-30T07:31:44.445Z"
   },
   {
    "duration": 18,
    "start_time": "2023-03-30T07:32:30.532Z"
   },
   {
    "duration": 14,
    "start_time": "2023-03-30T07:32:45.017Z"
   },
   {
    "duration": 16,
    "start_time": "2023-03-30T07:33:05.403Z"
   },
   {
    "duration": 20,
    "start_time": "2023-03-30T07:33:12.651Z"
   },
   {
    "duration": 14,
    "start_time": "2023-03-30T07:33:20.754Z"
   },
   {
    "duration": 134,
    "start_time": "2023-03-30T07:33:50.724Z"
   },
   {
    "duration": 132,
    "start_time": "2023-03-30T07:34:02.327Z"
   },
   {
    "duration": 18,
    "start_time": "2023-03-30T07:38:29.132Z"
   },
   {
    "duration": 510,
    "start_time": "2023-03-30T07:38:33.854Z"
   },
   {
    "duration": 299,
    "start_time": "2023-03-30T07:38:44.452Z"
   },
   {
    "duration": 325,
    "start_time": "2023-03-30T07:39:20.531Z"
   },
   {
    "duration": 310,
    "start_time": "2023-03-30T07:39:31.851Z"
   },
   {
    "duration": 66,
    "start_time": "2023-03-30T07:40:07.987Z"
   },
   {
    "duration": 17,
    "start_time": "2023-03-30T07:40:37.382Z"
   },
   {
    "duration": 24,
    "start_time": "2023-03-30T07:41:12.077Z"
   },
   {
    "duration": 378,
    "start_time": "2023-03-30T07:41:26.931Z"
   },
   {
    "duration": 307,
    "start_time": "2023-03-30T07:42:38.112Z"
   },
   {
    "duration": 15,
    "start_time": "2023-03-30T07:50:32.085Z"
   },
   {
    "duration": 1275,
    "start_time": "2023-03-30T07:51:34.420Z"
   },
   {
    "duration": 24,
    "start_time": "2023-03-30T07:52:00.940Z"
   },
   {
    "duration": 10,
    "start_time": "2023-03-30T07:53:09.503Z"
   },
   {
    "duration": 63,
    "start_time": "2023-03-30T08:13:23.836Z"
   },
   {
    "duration": 342,
    "start_time": "2023-03-30T08:13:50.879Z"
   },
   {
    "duration": 20,
    "start_time": "2023-03-30T08:14:24.550Z"
   },
   {
    "duration": 324,
    "start_time": "2023-03-30T08:15:19.432Z"
   },
   {
    "duration": 1386,
    "start_time": "2023-03-30T08:16:10.866Z"
   },
   {
    "duration": 31,
    "start_time": "2023-03-30T08:16:19.212Z"
   },
   {
    "duration": 35,
    "start_time": "2023-03-30T08:17:31.917Z"
   },
   {
    "duration": 42,
    "start_time": "2023-03-30T08:17:47.349Z"
   },
   {
    "duration": 79,
    "start_time": "2023-03-30T08:18:00.770Z"
   },
   {
    "duration": 514,
    "start_time": "2023-03-30T08:18:06.944Z"
   },
   {
    "duration": 15,
    "start_time": "2023-03-30T08:19:39.179Z"
   },
   {
    "duration": 28,
    "start_time": "2023-03-30T08:19:48.886Z"
   },
   {
    "duration": 27,
    "start_time": "2023-03-30T08:20:34.440Z"
   },
   {
    "duration": 14,
    "start_time": "2023-03-30T08:21:06.804Z"
   },
   {
    "duration": 18,
    "start_time": "2023-03-30T08:21:16.531Z"
   },
   {
    "duration": 17,
    "start_time": "2023-03-30T08:21:32.447Z"
   },
   {
    "duration": 16,
    "start_time": "2023-03-30T08:22:04.148Z"
   },
   {
    "duration": 22,
    "start_time": "2023-03-30T08:22:09.023Z"
   },
   {
    "duration": 18,
    "start_time": "2023-03-30T08:22:30.463Z"
   },
   {
    "duration": 20,
    "start_time": "2023-03-30T08:22:35.506Z"
   },
   {
    "duration": 335,
    "start_time": "2023-03-30T08:26:49.823Z"
   },
   {
    "duration": 41,
    "start_time": "2023-03-30T09:19:25.623Z"
   },
   {
    "duration": 328,
    "start_time": "2023-03-30T09:19:40.971Z"
   },
   {
    "duration": 42,
    "start_time": "2023-03-30T09:20:07.323Z"
   },
   {
    "duration": 33,
    "start_time": "2023-03-30T09:20:22.527Z"
   },
   {
    "duration": 33,
    "start_time": "2023-03-30T09:20:42.519Z"
   },
   {
    "duration": 37,
    "start_time": "2023-03-30T09:21:06.748Z"
   },
   {
    "duration": 27,
    "start_time": "2023-03-30T09:21:55.423Z"
   },
   {
    "duration": 3,
    "start_time": "2023-03-30T09:22:02.355Z"
   },
   {
    "duration": 59,
    "start_time": "2023-03-30T09:22:02.585Z"
   },
   {
    "duration": 23,
    "start_time": "2023-03-30T09:22:02.770Z"
   },
   {
    "duration": 19,
    "start_time": "2023-03-30T09:22:02.968Z"
   },
   {
    "duration": 11,
    "start_time": "2023-03-30T09:22:03.461Z"
   },
   {
    "duration": 16,
    "start_time": "2023-03-30T09:22:03.686Z"
   },
   {
    "duration": 8,
    "start_time": "2023-03-30T09:22:03.943Z"
   },
   {
    "duration": 10,
    "start_time": "2023-03-30T09:22:04.169Z"
   },
   {
    "duration": 4,
    "start_time": "2023-03-30T09:22:04.555Z"
   },
   {
    "duration": 146,
    "start_time": "2023-03-30T09:22:04.744Z"
   },
   {
    "duration": 447,
    "start_time": "2023-03-30T09:22:04.947Z"
   },
   {
    "duration": 5,
    "start_time": "2023-03-30T09:22:06.949Z"
   },
   {
    "duration": 33,
    "start_time": "2023-03-30T09:22:07.523Z"
   },
   {
    "duration": 3,
    "start_time": "2023-03-30T09:22:08.123Z"
   },
   {
    "duration": 7,
    "start_time": "2023-03-30T09:22:09.043Z"
   },
   {
    "duration": 6,
    "start_time": "2023-03-30T09:22:09.339Z"
   },
   {
    "duration": 27,
    "start_time": "2023-03-30T09:22:09.616Z"
   },
   {
    "duration": 4,
    "start_time": "2023-03-30T09:22:11.451Z"
   },
   {
    "duration": 204,
    "start_time": "2023-03-30T09:22:11.687Z"
   },
   {
    "duration": 495,
    "start_time": "2023-03-30T09:22:13.384Z"
   },
   {
    "duration": 14,
    "start_time": "2023-03-30T09:22:15.861Z"
   },
   {
    "duration": 39,
    "start_time": "2023-03-30T09:22:19.383Z"
   },
   {
    "duration": 39,
    "start_time": "2023-03-30T09:22:40.783Z"
   },
   {
    "duration": 16,
    "start_time": "2023-03-30T09:23:18.042Z"
   },
   {
    "duration": 14,
    "start_time": "2023-03-30T09:23:28.444Z"
   },
   {
    "duration": 14,
    "start_time": "2023-03-30T09:23:40.883Z"
   },
   {
    "duration": 117,
    "start_time": "2023-03-30T09:23:44.881Z"
   },
   {
    "duration": 12,
    "start_time": "2023-03-30T10:15:16.820Z"
   },
   {
    "duration": 6,
    "start_time": "2023-03-30T10:15:28.069Z"
   },
   {
    "duration": 7,
    "start_time": "2023-03-30T10:15:37.342Z"
   },
   {
    "duration": 12,
    "start_time": "2023-03-30T10:15:43.978Z"
   },
   {
    "duration": 9,
    "start_time": "2023-03-30T10:15:47.738Z"
   },
   {
    "duration": 311,
    "start_time": "2023-03-30T10:15:55.655Z"
   },
   {
    "duration": 3,
    "start_time": "2023-03-30T10:16:01.324Z"
   },
   {
    "duration": 45,
    "start_time": "2023-03-30T10:16:01.669Z"
   },
   {
    "duration": 15,
    "start_time": "2023-03-30T10:16:02.028Z"
   },
   {
    "duration": 14,
    "start_time": "2023-03-30T10:16:02.384Z"
   },
   {
    "duration": 11,
    "start_time": "2023-03-30T10:16:03.063Z"
   },
   {
    "duration": 16,
    "start_time": "2023-03-30T10:16:03.427Z"
   },
   {
    "duration": 12,
    "start_time": "2023-03-30T10:16:03.739Z"
   },
   {
    "duration": 9,
    "start_time": "2023-03-30T10:16:04.316Z"
   },
   {
    "duration": 3,
    "start_time": "2023-03-30T10:16:05.066Z"
   },
   {
    "duration": 110,
    "start_time": "2023-03-30T10:16:05.488Z"
   },
   {
    "duration": 415,
    "start_time": "2023-03-30T10:16:06.029Z"
   },
   {
    "duration": 4,
    "start_time": "2023-03-30T10:16:06.445Z"
   },
   {
    "duration": 20,
    "start_time": "2023-03-30T10:16:07.424Z"
   },
   {
    "duration": 2,
    "start_time": "2023-03-30T10:16:08.239Z"
   },
   {
    "duration": 5,
    "start_time": "2023-03-30T10:16:09.566Z"
   },
   {
    "duration": 6,
    "start_time": "2023-03-30T10:16:09.983Z"
   },
   {
    "duration": 21,
    "start_time": "2023-03-30T10:16:11.020Z"
   },
   {
    "duration": 14,
    "start_time": "2023-03-30T10:16:15.524Z"
   },
   {
    "duration": 1270,
    "start_time": "2023-03-30T13:52:01.345Z"
   },
   {
    "duration": 205,
    "start_time": "2023-03-30T13:52:06.048Z"
   },
   {
    "duration": 18,
    "start_time": "2023-03-30T13:52:06.758Z"
   },
   {
    "duration": 14,
    "start_time": "2023-03-30T13:52:07.355Z"
   },
   {
    "duration": 13,
    "start_time": "2023-03-30T13:52:08.017Z"
   },
   {
    "duration": 14,
    "start_time": "2023-03-30T13:52:08.221Z"
   },
   {
    "duration": 8,
    "start_time": "2023-03-30T13:52:08.458Z"
   },
   {
    "duration": 8,
    "start_time": "2023-03-30T13:52:08.657Z"
   },
   {
    "duration": 4,
    "start_time": "2023-03-30T13:52:54.749Z"
   },
   {
    "duration": 97,
    "start_time": "2023-03-30T13:52:55.101Z"
   },
   {
    "duration": 380,
    "start_time": "2023-03-30T13:52:55.387Z"
   },
   {
    "duration": 5,
    "start_time": "2023-03-30T13:52:55.768Z"
   },
   {
    "duration": 27,
    "start_time": "2023-03-30T13:52:56.263Z"
   },
   {
    "duration": 2,
    "start_time": "2023-03-30T13:52:56.677Z"
   },
   {
    "duration": 6,
    "start_time": "2023-03-30T13:52:57.288Z"
   },
   {
    "duration": 5,
    "start_time": "2023-03-30T13:52:58.292Z"
   },
   {
    "duration": 19,
    "start_time": "2023-03-30T13:52:58.480Z"
   },
   {
    "duration": 2,
    "start_time": "2023-03-30T13:52:59.171Z"
   },
   {
    "duration": 197,
    "start_time": "2023-03-30T13:52:59.370Z"
   },
   {
    "duration": 286,
    "start_time": "2023-03-30T13:53:03.685Z"
   },
   {
    "duration": 10,
    "start_time": "2023-03-30T13:53:06.792Z"
   },
   {
    "duration": 119,
    "start_time": "2023-03-30T13:53:08.474Z"
   },
   {
    "duration": 28,
    "start_time": "2023-03-30T13:53:27.419Z"
   },
   {
    "duration": 712,
    "start_time": "2023-03-30T13:53:41.524Z"
   },
   {
    "duration": 3,
    "start_time": "2023-03-30T13:58:37.841Z"
   },
   {
    "duration": 6,
    "start_time": "2023-03-30T13:58:38.316Z"
   },
   {
    "duration": 16,
    "start_time": "2023-03-30T13:58:55.960Z"
   },
   {
    "duration": 14,
    "start_time": "2023-03-30T13:59:03.706Z"
   },
   {
    "duration": 15,
    "start_time": "2023-03-30T13:59:11.687Z"
   },
   {
    "duration": 16,
    "start_time": "2023-03-30T13:59:16.271Z"
   },
   {
    "duration": 7,
    "start_time": "2023-03-30T13:59:31.794Z"
   },
   {
    "duration": 296,
    "start_time": "2023-03-30T14:01:59.226Z"
   },
   {
    "duration": 764,
    "start_time": "2023-03-30T14:02:26.915Z"
   },
   {
    "duration": 769,
    "start_time": "2023-03-30T14:02:39.707Z"
   },
   {
    "duration": 2,
    "start_time": "2023-03-30T14:09:37.937Z"
   },
   {
    "duration": 142,
    "start_time": "2023-03-30T14:10:31.625Z"
   },
   {
    "duration": 7,
    "start_time": "2023-03-30T14:11:04.791Z"
   },
   {
    "duration": 11,
    "start_time": "2023-03-30T14:11:17.078Z"
   },
   {
    "duration": 831,
    "start_time": "2023-03-30T14:11:29.590Z"
   },
   {
    "duration": 45,
    "start_time": "2023-03-30T14:12:43.694Z"
   },
   {
    "duration": 111,
    "start_time": "2023-03-30T14:12:50.715Z"
   },
   {
    "duration": 120,
    "start_time": "2023-03-30T14:13:12.015Z"
   },
   {
    "duration": 7,
    "start_time": "2023-03-30T14:13:35.489Z"
   },
   {
    "duration": 128,
    "start_time": "2023-03-30T14:15:04.233Z"
   },
   {
    "duration": 113,
    "start_time": "2023-03-30T14:15:15.272Z"
   },
   {
    "duration": 94,
    "start_time": "2023-03-30T14:15:26.102Z"
   },
   {
    "duration": 167,
    "start_time": "2023-03-30T14:16:03.873Z"
   },
   {
    "duration": 166,
    "start_time": "2023-03-30T14:16:20.974Z"
   },
   {
    "duration": 806,
    "start_time": "2023-03-30T14:17:26.581Z"
   },
   {
    "duration": 387,
    "start_time": "2023-03-30T14:17:33.746Z"
   },
   {
    "duration": 428,
    "start_time": "2023-03-30T14:18:54.184Z"
   },
   {
    "duration": 471,
    "start_time": "2023-03-30T14:20:38.968Z"
   },
   {
    "duration": 8,
    "start_time": "2023-03-30T14:20:40.571Z"
   },
   {
    "duration": 409,
    "start_time": "2023-03-30T14:20:41.404Z"
   },
   {
    "duration": 38,
    "start_time": "2023-03-30T14:20:50.931Z"
   },
   {
    "duration": 617,
    "start_time": "2023-03-30T14:21:04.631Z"
   },
   {
    "duration": 15,
    "start_time": "2023-03-30T14:21:47.217Z"
   },
   {
    "duration": 27,
    "start_time": "2023-03-30T14:21:53.256Z"
   },
   {
    "duration": 13,
    "start_time": "2023-03-30T14:22:44.462Z"
   },
   {
    "duration": 16,
    "start_time": "2023-03-30T14:24:00.383Z"
   },
   {
    "duration": 16,
    "start_time": "2023-03-30T14:24:07.372Z"
   },
   {
    "duration": 15,
    "start_time": "2023-03-30T14:24:40.240Z"
   },
   {
    "duration": 7,
    "start_time": "2023-03-30T14:25:15.006Z"
   },
   {
    "duration": 98,
    "start_time": "2023-03-30T14:26:03.196Z"
   },
   {
    "duration": 119,
    "start_time": "2023-03-30T14:26:09.393Z"
   },
   {
    "duration": 119,
    "start_time": "2023-03-30T14:26:23.942Z"
   },
   {
    "duration": 127,
    "start_time": "2023-03-30T14:26:36.081Z"
   },
   {
    "duration": 800,
    "start_time": "2023-03-30T14:28:39.164Z"
   },
   {
    "duration": 996,
    "start_time": "2023-03-30T14:29:04.502Z"
   },
   {
    "duration": 193,
    "start_time": "2023-03-30T14:30:28.608Z"
   },
   {
    "duration": 112,
    "start_time": "2023-03-30T14:30:29.708Z"
   },
   {
    "duration": 116,
    "start_time": "2023-03-30T14:30:32.182Z"
   },
   {
    "duration": 105,
    "start_time": "2023-03-30T14:30:33.095Z"
   },
   {
    "duration": 106,
    "start_time": "2023-03-30T14:31:53.172Z"
   },
   {
    "duration": 101,
    "start_time": "2023-03-30T14:32:01.776Z"
   },
   {
    "duration": 106,
    "start_time": "2023-03-30T14:32:05.653Z"
   },
   {
    "duration": 131,
    "start_time": "2023-03-30T14:32:22.853Z"
   },
   {
    "duration": 112,
    "start_time": "2023-03-30T14:32:57.631Z"
   },
   {
    "duration": 98,
    "start_time": "2023-03-30T14:33:03.405Z"
   },
   {
    "duration": 108,
    "start_time": "2023-03-30T14:33:09.413Z"
   },
   {
    "duration": 114,
    "start_time": "2023-03-30T14:33:12.201Z"
   },
   {
    "duration": 123,
    "start_time": "2023-03-30T14:33:15.061Z"
   },
   {
    "duration": 161,
    "start_time": "2023-03-30T14:33:18.449Z"
   },
   {
    "duration": 206,
    "start_time": "2023-03-30T14:33:21.996Z"
   },
   {
    "duration": 141,
    "start_time": "2023-03-30T14:33:34.849Z"
   },
   {
    "duration": 116,
    "start_time": "2023-03-30T14:34:11.357Z"
   },
   {
    "duration": 109,
    "start_time": "2023-03-30T14:34:48.023Z"
   },
   {
    "duration": 9,
    "start_time": "2023-03-30T14:35:14.069Z"
   },
   {
    "duration": 131,
    "start_time": "2023-03-30T14:35:14.716Z"
   },
   {
    "duration": 118,
    "start_time": "2023-03-30T14:35:15.521Z"
   },
   {
    "duration": 116,
    "start_time": "2023-03-30T14:35:16.193Z"
   },
   {
    "duration": 126,
    "start_time": "2023-03-30T14:35:39.323Z"
   },
   {
    "duration": 122,
    "start_time": "2023-03-30T14:35:40.065Z"
   },
   {
    "duration": 120,
    "start_time": "2023-03-30T14:35:40.790Z"
   },
   {
    "duration": 125,
    "start_time": "2023-03-30T14:35:41.490Z"
   },
   {
    "duration": 115,
    "start_time": "2023-03-30T14:35:42.326Z"
   },
   {
    "duration": 121,
    "start_time": "2023-03-30T14:35:43.223Z"
   },
   {
    "duration": 8,
    "start_time": "2023-03-30T15:10:49.814Z"
   },
   {
    "duration": 9,
    "start_time": "2023-03-30T15:37:58.107Z"
   },
   {
    "duration": 12,
    "start_time": "2023-03-30T15:38:14.405Z"
   },
   {
    "duration": 25,
    "start_time": "2023-03-30T15:38:35.066Z"
   },
   {
    "duration": 23,
    "start_time": "2023-03-30T15:38:38.912Z"
   },
   {
    "duration": 5,
    "start_time": "2023-03-30T15:40:31.729Z"
   },
   {
    "duration": 14,
    "start_time": "2023-03-30T15:42:39.266Z"
   },
   {
    "duration": 154,
    "start_time": "2023-03-30T15:42:46.031Z"
   },
   {
    "duration": 24,
    "start_time": "2023-03-30T15:47:00.830Z"
   },
   {
    "duration": 241,
    "start_time": "2023-03-30T15:47:24.220Z"
   },
   {
    "duration": 400,
    "start_time": "2023-03-30T16:24:16.550Z"
   },
   {
    "duration": 766,
    "start_time": "2023-03-30T16:24:32.156Z"
   },
   {
    "duration": 1141,
    "start_time": "2023-03-30T16:25:17.421Z"
   },
   {
    "duration": 353,
    "start_time": "2023-03-30T16:26:46.457Z"
   },
   {
    "duration": 458,
    "start_time": "2023-03-30T16:27:42.088Z"
   },
   {
    "duration": 33060,
    "start_time": "2023-03-30T16:27:53.293Z"
   },
   {
    "duration": 356,
    "start_time": "2023-03-30T16:29:24.216Z"
   },
   {
    "duration": 168,
    "start_time": "2023-03-30T16:35:22.870Z"
   },
   {
    "duration": 473,
    "start_time": "2023-03-30T16:35:34.223Z"
   },
   {
    "duration": 241,
    "start_time": "2023-03-30T16:35:58.046Z"
   },
   {
    "duration": 3,
    "start_time": "2023-03-30T16:36:59.076Z"
   },
   {
    "duration": 159,
    "start_time": "2023-03-30T16:37:03.756Z"
   },
   {
    "duration": 14,
    "start_time": "2023-03-30T16:46:55.407Z"
   },
   {
    "duration": 182,
    "start_time": "2023-03-30T16:47:22.384Z"
   },
   {
    "duration": 4,
    "start_time": "2023-03-30T16:47:34.477Z"
   },
   {
    "duration": 27,
    "start_time": "2023-03-30T16:48:38.855Z"
   },
   {
    "duration": 19,
    "start_time": "2023-03-30T16:48:59.158Z"
   },
   {
    "duration": 15,
    "start_time": "2023-03-30T16:49:13.117Z"
   },
   {
    "duration": 19,
    "start_time": "2023-03-30T16:49:25.417Z"
   },
   {
    "duration": 5,
    "start_time": "2023-03-30T16:49:32.925Z"
   },
   {
    "duration": 188,
    "start_time": "2023-03-30T16:49:34.730Z"
   },
   {
    "duration": 14,
    "start_time": "2023-03-30T16:49:37.434Z"
   },
   {
    "duration": 15,
    "start_time": "2023-03-30T16:49:48.695Z"
   },
   {
    "duration": 168,
    "start_time": "2023-03-30T16:49:55.942Z"
   },
   {
    "duration": 10,
    "start_time": "2023-03-30T16:50:15.184Z"
   },
   {
    "duration": 6,
    "start_time": "2023-03-30T16:50:27.928Z"
   },
   {
    "duration": 5,
    "start_time": "2023-03-30T16:50:30.715Z"
   },
   {
    "duration": 124,
    "start_time": "2023-03-30T16:50:44.207Z"
   },
   {
    "duration": 17,
    "start_time": "2023-03-30T16:50:47.620Z"
   },
   {
    "duration": 16,
    "start_time": "2023-03-30T16:51:11.297Z"
   },
   {
    "duration": 16,
    "start_time": "2023-03-30T16:51:19.892Z"
   },
   {
    "duration": 281,
    "start_time": "2023-03-30T16:51:34.080Z"
   },
   {
    "duration": 135,
    "start_time": "2023-03-30T17:20:08.470Z"
   },
   {
    "duration": 121,
    "start_time": "2023-03-30T17:20:34.052Z"
   },
   {
    "duration": 133,
    "start_time": "2023-03-30T17:20:41.559Z"
   },
   {
    "duration": 125,
    "start_time": "2023-03-30T17:22:28.321Z"
   },
   {
    "duration": 126,
    "start_time": "2023-03-30T17:58:17.116Z"
   },
   {
    "duration": 121,
    "start_time": "2023-03-30T17:58:19.829Z"
   },
   {
    "duration": 10,
    "start_time": "2023-03-30T18:01:21.172Z"
   },
   {
    "duration": 4,
    "start_time": "2023-03-30T18:02:24.412Z"
   },
   {
    "duration": 9,
    "start_time": "2023-03-30T18:02:44.610Z"
   },
   {
    "duration": 6,
    "start_time": "2023-03-30T18:02:54.117Z"
   },
   {
    "duration": 48,
    "start_time": "2023-03-30T18:03:23.033Z"
   },
   {
    "duration": 6,
    "start_time": "2023-03-30T18:03:36.309Z"
   },
   {
    "duration": 11,
    "start_time": "2023-03-30T18:06:56.650Z"
   },
   {
    "duration": 10,
    "start_time": "2023-03-30T18:07:24.443Z"
   },
   {
    "duration": 9,
    "start_time": "2023-03-30T18:07:33.494Z"
   },
   {
    "duration": 10,
    "start_time": "2023-03-30T18:07:47.522Z"
   },
   {
    "duration": 820,
    "start_time": "2023-03-30T18:08:13.315Z"
   },
   {
    "duration": 5,
    "start_time": "2023-03-30T18:08:26.038Z"
   },
   {
    "duration": 6,
    "start_time": "2023-03-30T18:08:29.210Z"
   },
   {
    "duration": 12,
    "start_time": "2023-03-30T18:18:47.461Z"
   },
   {
    "duration": 2,
    "start_time": "2023-03-30T18:18:55.143Z"
   },
   {
    "duration": 861,
    "start_time": "2023-03-30T18:18:57.953Z"
   },
   {
    "duration": 6,
    "start_time": "2023-03-30T18:30:26.930Z"
   },
   {
    "duration": 1028,
    "start_time": "2023-03-30T18:31:21.499Z"
   },
   {
    "duration": 1045,
    "start_time": "2023-03-30T18:31:48.462Z"
   },
   {
    "duration": 13,
    "start_time": "2023-03-30T18:32:34.221Z"
   },
   {
    "duration": 3,
    "start_time": "2023-03-30T18:32:37.694Z"
   },
   {
    "duration": 826,
    "start_time": "2023-03-30T18:32:38.243Z"
   },
   {
    "duration": 785,
    "start_time": "2023-03-30T18:46:10.381Z"
   },
   {
    "duration": 787,
    "start_time": "2023-03-30T18:48:56.555Z"
   },
   {
    "duration": 21,
    "start_time": "2023-03-30T18:49:24.890Z"
   },
   {
    "duration": 262,
    "start_time": "2023-03-30T18:49:34.632Z"
   },
   {
    "duration": 1158,
    "start_time": "2023-03-30T18:49:51.913Z"
   },
   {
    "duration": 737,
    "start_time": "2023-03-30T18:50:10.877Z"
   },
   {
    "duration": 780,
    "start_time": "2023-03-30T18:50:22.077Z"
   },
   {
    "duration": 777,
    "start_time": "2023-03-30T18:51:12.500Z"
   },
   {
    "duration": 765,
    "start_time": "2023-03-30T18:51:55.650Z"
   },
   {
    "duration": 761,
    "start_time": "2023-03-30T18:52:01.126Z"
   },
   {
    "duration": 801,
    "start_time": "2023-03-30T18:52:04.874Z"
   },
   {
    "duration": 758,
    "start_time": "2023-03-30T18:52:10.071Z"
   },
   {
    "duration": 776,
    "start_time": "2023-03-30T18:52:18.475Z"
   },
   {
    "duration": 1089,
    "start_time": "2023-03-30T18:52:22.795Z"
   },
   {
    "duration": 780,
    "start_time": "2023-03-30T18:52:30.153Z"
   },
   {
    "duration": 49,
    "start_time": "2023-03-30T18:56:45.396Z"
   },
   {
    "duration": 3,
    "start_time": "2023-03-30T18:56:49.112Z"
   },
   {
    "duration": 11,
    "start_time": "2023-03-30T18:56:51.886Z"
   },
   {
    "duration": 12,
    "start_time": "2023-03-30T18:57:02.729Z"
   },
   {
    "duration": 122,
    "start_time": "2023-03-30T18:57:19.236Z"
   },
   {
    "duration": 346,
    "start_time": "2023-03-30T18:59:52.532Z"
   },
   {
    "duration": 334,
    "start_time": "2023-03-30T19:00:10.329Z"
   },
   {
    "duration": 274,
    "start_time": "2023-03-30T19:00:27.889Z"
   },
   {
    "duration": 348,
    "start_time": "2023-03-30T19:01:01.278Z"
   },
   {
    "duration": 159,
    "start_time": "2023-03-30T19:01:49.309Z"
   },
   {
    "duration": 401,
    "start_time": "2023-03-30T19:02:45.129Z"
   },
   {
    "duration": 170,
    "start_time": "2023-03-30T19:03:04.715Z"
   },
   {
    "duration": 16,
    "start_time": "2023-03-30T20:51:47.660Z"
   },
   {
    "duration": 18,
    "start_time": "2023-03-30T20:51:55.287Z"
   },
   {
    "duration": 10,
    "start_time": "2023-03-30T20:52:23.928Z"
   },
   {
    "duration": 8,
    "start_time": "2023-03-30T20:52:30.412Z"
   },
   {
    "duration": 8,
    "start_time": "2023-03-30T20:52:37.752Z"
   },
   {
    "duration": 9,
    "start_time": "2023-03-30T20:53:28.028Z"
   },
   {
    "duration": 9,
    "start_time": "2023-03-30T20:53:38.168Z"
   },
   {
    "duration": 121,
    "start_time": "2023-03-30T20:54:35.493Z"
   },
   {
    "duration": 16,
    "start_time": "2023-03-30T20:55:28.874Z"
   },
   {
    "duration": 14,
    "start_time": "2023-03-30T20:55:34.956Z"
   },
   {
    "duration": 5,
    "start_time": "2023-03-30T20:57:21.867Z"
   },
   {
    "duration": 8,
    "start_time": "2023-03-30T20:57:24.862Z"
   },
   {
    "duration": 12,
    "start_time": "2023-03-30T20:58:26.393Z"
   },
   {
    "duration": 11,
    "start_time": "2023-03-30T20:58:27.314Z"
   },
   {
    "duration": 7,
    "start_time": "2023-03-30T20:59:06.512Z"
   },
   {
    "duration": 7,
    "start_time": "2023-03-30T20:59:15.403Z"
   },
   {
    "duration": 10,
    "start_time": "2023-03-30T21:00:03.273Z"
   },
   {
    "duration": 10,
    "start_time": "2023-03-30T21:00:03.684Z"
   },
   {
    "duration": 7,
    "start_time": "2023-03-30T21:00:04.196Z"
   },
   {
    "duration": 8,
    "start_time": "2023-03-30T21:00:12.606Z"
   },
   {
    "duration": 7,
    "start_time": "2023-03-30T21:00:13.488Z"
   },
   {
    "duration": 6,
    "start_time": "2023-03-30T21:03:53.728Z"
   },
   {
    "duration": 9,
    "start_time": "2023-03-30T21:04:07.767Z"
   },
   {
    "duration": 65,
    "start_time": "2023-03-30T21:06:22.077Z"
   },
   {
    "duration": 144,
    "start_time": "2023-03-30T21:06:25.969Z"
   },
   {
    "duration": 9,
    "start_time": "2023-03-30T21:06:53.067Z"
   },
   {
    "duration": 151,
    "start_time": "2023-03-30T21:06:55.502Z"
   },
   {
    "duration": 7,
    "start_time": "2023-03-30T21:07:26.605Z"
   },
   {
    "duration": 148,
    "start_time": "2023-03-30T21:07:27.578Z"
   },
   {
    "duration": 2,
    "start_time": "2023-03-30T21:36:25.986Z"
   },
   {
    "duration": 2,
    "start_time": "2023-03-30T21:48:21.917Z"
   },
   {
    "duration": 9,
    "start_time": "2023-03-30T21:48:22.483Z"
   },
   {
    "duration": 3,
    "start_time": "2023-03-30T21:48:42.229Z"
   },
   {
    "duration": 4,
    "start_time": "2023-03-30T21:50:45.714Z"
   },
   {
    "duration": 11,
    "start_time": "2023-03-30T21:51:09.832Z"
   },
   {
    "duration": 3,
    "start_time": "2023-03-30T21:51:47.011Z"
   },
   {
    "duration": 10,
    "start_time": "2023-03-30T21:51:47.482Z"
   },
   {
    "duration": 4,
    "start_time": "2023-03-30T21:52:51.661Z"
   },
   {
    "duration": 4,
    "start_time": "2023-03-30T21:58:02.081Z"
   },
   {
    "duration": 45,
    "start_time": "2023-03-30T21:58:06.127Z"
   },
   {
    "duration": 13,
    "start_time": "2023-03-30T21:58:12.869Z"
   },
   {
    "duration": 19,
    "start_time": "2023-03-30T21:58:27.436Z"
   },
   {
    "duration": 9,
    "start_time": "2023-03-30T21:58:39.735Z"
   },
   {
    "duration": 9,
    "start_time": "2023-03-30T21:59:03.372Z"
   },
   {
    "duration": 1265,
    "start_time": "2023-03-31T05:49:48.729Z"
   },
   {
    "duration": 96,
    "start_time": "2023-03-31T05:49:49.996Z"
   },
   {
    "duration": 20,
    "start_time": "2023-03-31T05:49:50.094Z"
   },
   {
    "duration": 14,
    "start_time": "2023-03-31T05:49:50.116Z"
   },
   {
    "duration": 12,
    "start_time": "2023-03-31T05:49:52.033Z"
   },
   {
    "duration": 17,
    "start_time": "2023-03-31T05:49:52.620Z"
   },
   {
    "duration": 9,
    "start_time": "2023-03-31T05:49:53.625Z"
   },
   {
    "duration": 13,
    "start_time": "2023-03-31T05:49:54.164Z"
   },
   {
    "duration": 4,
    "start_time": "2023-03-31T05:49:55.203Z"
   },
   {
    "duration": 118,
    "start_time": "2023-03-31T05:49:55.704Z"
   },
   {
    "duration": 433,
    "start_time": "2023-03-31T05:49:56.658Z"
   },
   {
    "duration": 5,
    "start_time": "2023-03-31T05:49:59.527Z"
   },
   {
    "duration": 20,
    "start_time": "2023-03-31T05:50:02.597Z"
   },
   {
    "duration": 3,
    "start_time": "2023-03-31T05:50:03.581Z"
   },
   {
    "duration": 5,
    "start_time": "2023-03-31T05:50:04.112Z"
   },
   {
    "duration": 5,
    "start_time": "2023-03-31T05:50:06.081Z"
   },
   {
    "duration": 5,
    "start_time": "2023-03-31T05:50:06.553Z"
   },
   {
    "duration": 19,
    "start_time": "2023-03-31T05:50:07.107Z"
   },
   {
    "duration": 1618,
    "start_time": "2023-03-31T07:30:06.425Z"
   },
   {
    "duration": 266,
    "start_time": "2023-03-31T07:37:55.293Z"
   },
   {
    "duration": 235,
    "start_time": "2023-03-31T07:37:59.314Z"
   },
   {
    "duration": 395,
    "start_time": "2023-03-31T08:10:17.118Z"
   },
   {
    "duration": 622,
    "start_time": "2023-03-31T08:17:46.764Z"
   },
   {
    "duration": 252,
    "start_time": "2023-03-31T08:18:02.320Z"
   },
   {
    "duration": 7,
    "start_time": "2023-03-31T08:18:12.560Z"
   },
   {
    "duration": 8,
    "start_time": "2023-03-31T08:18:14.268Z"
   },
   {
    "duration": 341,
    "start_time": "2023-03-31T08:18:18.443Z"
   },
   {
    "duration": 7,
    "start_time": "2023-03-31T08:25:02.755Z"
   },
   {
    "duration": 263,
    "start_time": "2023-03-31T08:25:04.237Z"
   },
   {
    "duration": 484,
    "start_time": "2023-03-31T08:25:08.107Z"
   },
   {
    "duration": 10,
    "start_time": "2023-03-31T08:25:30.871Z"
   },
   {
    "duration": 5,
    "start_time": "2023-03-31T08:25:31.910Z"
   },
   {
    "duration": 167,
    "start_time": "2023-03-31T08:25:33.078Z"
   },
   {
    "duration": 340,
    "start_time": "2023-03-31T08:25:40.086Z"
   },
   {
    "duration": 18,
    "start_time": "2023-03-31T08:42:05.227Z"
   },
   {
    "duration": 16,
    "start_time": "2023-03-31T08:42:05.798Z"
   },
   {
    "duration": 17,
    "start_time": "2023-03-31T08:42:26.548Z"
   },
   {
    "duration": 13,
    "start_time": "2023-03-31T08:42:27.051Z"
   },
   {
    "duration": 4,
    "start_time": "2023-03-31T08:42:34.923Z"
   },
   {
    "duration": 69,
    "start_time": "2023-03-31T08:42:35.270Z"
   },
   {
    "duration": 17,
    "start_time": "2023-03-31T08:42:35.435Z"
   },
   {
    "duration": 14,
    "start_time": "2023-03-31T08:42:35.613Z"
   },
   {
    "duration": 13,
    "start_time": "2023-03-31T08:42:36.307Z"
   },
   {
    "duration": 16,
    "start_time": "2023-03-31T08:42:36.650Z"
   },
   {
    "duration": 9,
    "start_time": "2023-03-31T08:42:36.831Z"
   },
   {
    "duration": 9,
    "start_time": "2023-03-31T08:42:37.008Z"
   },
   {
    "duration": 3,
    "start_time": "2023-03-31T08:42:37.513Z"
   },
   {
    "duration": 133,
    "start_time": "2023-03-31T08:42:37.702Z"
   },
   {
    "duration": 547,
    "start_time": "2023-03-31T08:42:37.902Z"
   },
   {
    "duration": 3,
    "start_time": "2023-03-31T08:42:38.451Z"
   },
   {
    "duration": 33,
    "start_time": "2023-03-31T08:42:38.456Z"
   },
   {
    "duration": 19,
    "start_time": "2023-03-31T08:42:38.820Z"
   },
   {
    "duration": 3,
    "start_time": "2023-03-31T08:42:39.200Z"
   },
   {
    "duration": 5,
    "start_time": "2023-03-31T08:42:39.563Z"
   },
   {
    "duration": 5,
    "start_time": "2023-03-31T08:42:39.928Z"
   },
   {
    "duration": 23,
    "start_time": "2023-03-31T08:42:40.107Z"
   },
   {
    "duration": 242,
    "start_time": "2023-03-31T08:42:40.875Z"
   },
   {
    "duration": 494,
    "start_time": "2023-03-31T08:42:41.456Z"
   },
   {
    "duration": 9,
    "start_time": "2023-03-31T08:42:41.952Z"
   },
   {
    "duration": 161,
    "start_time": "2023-03-31T08:42:42.446Z"
   },
   {
    "duration": 170,
    "start_time": "2023-03-31T08:42:42.632Z"
   },
   {
    "duration": 171,
    "start_time": "2023-03-31T08:42:42.815Z"
   },
   {
    "duration": 139,
    "start_time": "2023-03-31T08:42:43.010Z"
   },
   {
    "duration": 149,
    "start_time": "2023-03-31T08:42:43.211Z"
   },
   {
    "duration": 146,
    "start_time": "2023-03-31T08:42:43.406Z"
   },
   {
    "duration": 13,
    "start_time": "2023-03-31T08:42:44.170Z"
   },
   {
    "duration": 7,
    "start_time": "2023-03-31T08:42:44.363Z"
   },
   {
    "duration": 171,
    "start_time": "2023-03-31T08:42:44.758Z"
   },
   {
    "duration": 316,
    "start_time": "2023-03-31T08:42:45.336Z"
   },
   {
    "duration": 3,
    "start_time": "2023-03-31T08:42:45.737Z"
   },
   {
    "duration": 6,
    "start_time": "2023-03-31T08:42:46.163Z"
   },
   {
    "duration": 260,
    "start_time": "2023-03-31T08:42:46.382Z"
   },
   {
    "duration": 189,
    "start_time": "2023-03-31T08:42:46.644Z"
   },
   {
    "duration": 6,
    "start_time": "2023-03-31T08:42:46.835Z"
   },
   {
    "duration": 2,
    "start_time": "2023-03-31T08:42:47.228Z"
   },
   {
    "duration": 1092,
    "start_time": "2023-03-31T08:42:47.448Z"
   },
   {
    "duration": 11,
    "start_time": "2023-03-31T08:42:48.542Z"
   },
   {
    "duration": 240,
    "start_time": "2023-03-31T08:42:48.555Z"
   },
   {
    "duration": 23,
    "start_time": "2023-03-31T08:42:50.162Z"
   },
   {
    "duration": 18,
    "start_time": "2023-03-31T08:42:50.397Z"
   },
   {
    "duration": 9,
    "start_time": "2023-03-31T08:42:50.615Z"
   },
   {
    "duration": 23,
    "start_time": "2023-03-31T08:42:53.601Z"
   },
   {
    "duration": 23,
    "start_time": "2023-03-31T08:42:54.287Z"
   },
   {
    "duration": 13,
    "start_time": "2023-03-31T08:43:11.366Z"
   },
   {
    "duration": 9,
    "start_time": "2023-03-31T08:43:11.805Z"
   },
   {
    "duration": 12,
    "start_time": "2023-03-31T08:43:32.093Z"
   },
   {
    "duration": 9,
    "start_time": "2023-03-31T08:43:37.226Z"
   },
   {
    "duration": 10,
    "start_time": "2023-03-31T08:43:37.551Z"
   },
   {
    "duration": 9,
    "start_time": "2023-03-31T08:43:37.948Z"
   },
   {
    "duration": 10,
    "start_time": "2023-03-31T08:43:38.745Z"
   },
   {
    "duration": 10,
    "start_time": "2023-03-31T08:43:39.140Z"
   },
   {
    "duration": 16,
    "start_time": "2023-03-31T08:43:39.573Z"
   },
   {
    "duration": 15,
    "start_time": "2023-03-31T08:43:40.453Z"
   },
   {
    "duration": 10,
    "start_time": "2023-03-31T08:43:40.807Z"
   },
   {
    "duration": 8,
    "start_time": "2023-03-31T08:43:41.329Z"
   },
   {
    "duration": 14,
    "start_time": "2023-03-31T08:43:42.668Z"
   },
   {
    "duration": 199,
    "start_time": "2023-03-31T08:43:45.189Z"
   },
   {
    "duration": 9,
    "start_time": "2023-03-31T08:43:48.332Z"
   },
   {
    "duration": 5,
    "start_time": "2023-03-31T08:43:56.518Z"
   },
   {
    "duration": 6,
    "start_time": "2023-03-31T08:44:03.953Z"
   },
   {
    "duration": 8,
    "start_time": "2023-03-31T08:44:06.665Z"
   },
   {
    "duration": 9,
    "start_time": "2023-03-31T08:44:10.813Z"
   },
   {
    "duration": 227,
    "start_time": "2023-03-31T08:44:14.250Z"
   },
   {
    "duration": 9,
    "start_time": "2023-03-31T08:44:15.599Z"
   },
   {
    "duration": 208,
    "start_time": "2023-03-31T08:44:18.743Z"
   },
   {
    "duration": 12,
    "start_time": "2023-03-31T08:57:01.197Z"
   },
   {
    "duration": 12,
    "start_time": "2023-03-31T08:57:13.999Z"
   },
   {
    "duration": 15,
    "start_time": "2023-03-31T08:57:24.307Z"
   },
   {
    "duration": 13,
    "start_time": "2023-03-31T08:59:09.512Z"
   },
   {
    "duration": 11,
    "start_time": "2023-03-31T08:59:19.053Z"
   },
   {
    "duration": 12,
    "start_time": "2023-03-31T09:11:03.126Z"
   },
   {
    "duration": 18,
    "start_time": "2023-03-31T09:11:17.472Z"
   },
   {
    "duration": 11,
    "start_time": "2023-03-31T09:11:24.459Z"
   },
   {
    "duration": 1220,
    "start_time": "2023-03-31T14:20:05.744Z"
   },
   {
    "duration": 49,
    "start_time": "2023-03-31T14:20:06.966Z"
   },
   {
    "duration": 21,
    "start_time": "2023-03-31T14:20:07.017Z"
   },
   {
    "duration": 16,
    "start_time": "2023-03-31T14:20:07.039Z"
   },
   {
    "duration": 13,
    "start_time": "2023-03-31T14:20:07.059Z"
   },
   {
    "duration": 17,
    "start_time": "2023-03-31T14:20:07.074Z"
   },
   {
    "duration": 38,
    "start_time": "2023-03-31T14:20:07.092Z"
   },
   {
    "duration": 9,
    "start_time": "2023-03-31T14:20:07.132Z"
   },
   {
    "duration": 3,
    "start_time": "2023-03-31T14:20:07.143Z"
   },
   {
    "duration": 131,
    "start_time": "2023-03-31T14:20:07.148Z"
   },
   {
    "duration": 469,
    "start_time": "2023-03-31T14:20:07.280Z"
   },
   {
    "duration": 3,
    "start_time": "2023-03-31T14:20:07.751Z"
   },
   {
    "duration": 8,
    "start_time": "2023-03-31T14:20:07.755Z"
   },
   {
    "duration": 21,
    "start_time": "2023-03-31T14:20:07.767Z"
   },
   {
    "duration": 6,
    "start_time": "2023-03-31T14:20:07.790Z"
   },
   {
    "duration": 27,
    "start_time": "2023-03-31T14:20:07.798Z"
   },
   {
    "duration": 10,
    "start_time": "2023-03-31T14:20:07.827Z"
   },
   {
    "duration": 24,
    "start_time": "2023-03-31T14:20:07.839Z"
   },
   {
    "duration": 261,
    "start_time": "2023-03-31T14:20:07.865Z"
   },
   {
    "duration": 375,
    "start_time": "2023-03-31T14:20:08.128Z"
   },
   {
    "duration": 8,
    "start_time": "2023-03-31T14:20:08.505Z"
   },
   {
    "duration": 154,
    "start_time": "2023-03-31T14:20:08.524Z"
   },
   {
    "duration": 163,
    "start_time": "2023-03-31T14:20:08.679Z"
   },
   {
    "duration": 165,
    "start_time": "2023-03-31T14:20:08.844Z"
   },
   {
    "duration": 142,
    "start_time": "2023-03-31T14:20:09.011Z"
   },
   {
    "duration": 154,
    "start_time": "2023-03-31T14:20:09.154Z"
   },
   {
    "duration": 222,
    "start_time": "2023-03-31T14:20:09.310Z"
   },
   {
    "duration": 6,
    "start_time": "2023-03-31T14:20:09.534Z"
   },
   {
    "duration": 6,
    "start_time": "2023-03-31T14:20:09.542Z"
   },
   {
    "duration": 176,
    "start_time": "2023-03-31T14:20:09.549Z"
   },
   {
    "duration": 303,
    "start_time": "2023-03-31T14:20:09.727Z"
   },
   {
    "duration": 3,
    "start_time": "2023-03-31T14:20:10.033Z"
   },
   {
    "duration": 15,
    "start_time": "2023-03-31T14:20:10.038Z"
   },
   {
    "duration": 179,
    "start_time": "2023-03-31T14:20:10.056Z"
   },
   {
    "duration": 216,
    "start_time": "2023-03-31T14:20:10.237Z"
   },
   {
    "duration": 8,
    "start_time": "2023-03-31T14:20:10.455Z"
   },
   {
    "duration": 29,
    "start_time": "2023-03-31T14:20:10.465Z"
   },
   {
    "duration": 1040,
    "start_time": "2023-03-31T14:20:10.496Z"
   },
   {
    "duration": 11,
    "start_time": "2023-03-31T14:20:11.537Z"
   },
   {
    "duration": 215,
    "start_time": "2023-03-31T14:20:11.550Z"
   },
   {
    "duration": 11,
    "start_time": "2023-03-31T14:20:11.770Z"
   },
   {
    "duration": 10,
    "start_time": "2023-03-31T14:20:11.783Z"
   },
   {
    "duration": 31,
    "start_time": "2023-03-31T14:20:11.795Z"
   },
   {
    "duration": 10,
    "start_time": "2023-03-31T14:20:11.828Z"
   },
   {
    "duration": 10,
    "start_time": "2023-03-31T14:20:11.839Z"
   },
   {
    "duration": 17,
    "start_time": "2023-03-31T14:20:11.851Z"
   },
   {
    "duration": 10,
    "start_time": "2023-03-31T14:20:11.870Z"
   },
   {
    "duration": 29,
    "start_time": "2023-03-31T14:20:11.882Z"
   },
   {
    "duration": 16,
    "start_time": "2023-03-31T14:20:11.912Z"
   },
   {
    "duration": 16,
    "start_time": "2023-03-31T14:20:11.930Z"
   },
   {
    "duration": 277,
    "start_time": "2023-03-31T14:20:11.948Z"
   },
   {
    "duration": 8,
    "start_time": "2023-03-31T14:20:12.227Z"
   },
   {
    "duration": 198,
    "start_time": "2023-03-31T14:20:12.236Z"
   },
   {
    "duration": 9,
    "start_time": "2023-03-31T14:20:12.435Z"
   },
   {
    "duration": 205,
    "start_time": "2023-03-31T14:20:12.445Z"
   },
   {
    "duration": 2,
    "start_time": "2023-03-31T14:20:12.652Z"
   },
   {
    "duration": 17,
    "start_time": "2023-03-31T14:20:12.656Z"
   },
   {
    "duration": 13,
    "start_time": "2023-03-31T14:20:12.675Z"
   },
   {
    "duration": 59,
    "start_time": "2023-04-03T12:18:07.497Z"
   },
   {
    "duration": 2461,
    "start_time": "2023-04-03T12:18:11.801Z"
   },
   {
    "duration": 108,
    "start_time": "2023-04-03T12:18:14.265Z"
   },
   {
    "duration": 18,
    "start_time": "2023-04-03T12:18:14.375Z"
   },
   {
    "duration": 12,
    "start_time": "2023-04-03T12:18:14.395Z"
   },
   {
    "duration": 3,
    "start_time": "2023-04-03T12:18:14.409Z"
   },
   {
    "duration": 5,
    "start_time": "2023-04-03T12:19:19.357Z"
   },
   {
    "duration": 80,
    "start_time": "2023-04-03T12:19:29.058Z"
   },
   {
    "duration": 8,
    "start_time": "2023-04-03T12:19:41.014Z"
   },
   {
    "duration": 4,
    "start_time": "2023-04-03T12:20:40.008Z"
   },
   {
    "duration": 24,
    "start_time": "2023-04-03T12:23:21.865Z"
   },
   {
    "duration": 11,
    "start_time": "2023-04-03T12:27:42.372Z"
   },
   {
    "duration": 13,
    "start_time": "2023-04-03T12:28:12.162Z"
   },
   {
    "duration": 8,
    "start_time": "2023-04-03T12:28:23.470Z"
   },
   {
    "duration": 8,
    "start_time": "2023-04-03T12:28:47.193Z"
   },
   {
    "duration": 6,
    "start_time": "2023-04-03T12:28:51.661Z"
   },
   {
    "duration": 13,
    "start_time": "2023-04-03T12:37:53.467Z"
   },
   {
    "duration": 12,
    "start_time": "2023-04-03T12:38:53.311Z"
   },
   {
    "duration": 81,
    "start_time": "2023-04-03T12:39:07.008Z"
   },
   {
    "duration": 30,
    "start_time": "2023-04-03T12:39:20.689Z"
   },
   {
    "duration": 21,
    "start_time": "2023-04-03T12:39:29.635Z"
   },
   {
    "duration": 8,
    "start_time": "2023-04-03T12:39:37.496Z"
   },
   {
    "duration": 24,
    "start_time": "2023-04-03T12:41:25.521Z"
   },
   {
    "duration": 24,
    "start_time": "2023-04-03T12:41:40.705Z"
   },
   {
    "duration": 14,
    "start_time": "2023-04-03T12:43:15.087Z"
   },
   {
    "duration": 17,
    "start_time": "2023-04-03T12:43:47.279Z"
   },
   {
    "duration": 14,
    "start_time": "2023-04-03T12:44:19.295Z"
   },
   {
    "duration": 48,
    "start_time": "2023-04-03T12:45:50.427Z"
   },
   {
    "duration": 17,
    "start_time": "2023-04-03T12:47:51.763Z"
   },
   {
    "duration": 11,
    "start_time": "2023-04-03T13:08:06.394Z"
   },
   {
    "duration": 10,
    "start_time": "2023-04-03T13:08:10.778Z"
   },
   {
    "duration": 11,
    "start_time": "2023-04-03T13:08:14.729Z"
   },
   {
    "duration": 12,
    "start_time": "2023-04-03T13:08:18.507Z"
   },
   {
    "duration": 7,
    "start_time": "2023-04-03T13:09:47.808Z"
   },
   {
    "duration": 18,
    "start_time": "2023-04-03T13:09:48.890Z"
   },
   {
    "duration": 26,
    "start_time": "2023-04-03T13:09:54.091Z"
   },
   {
    "duration": 15,
    "start_time": "2023-04-03T13:10:04.310Z"
   },
   {
    "duration": 8,
    "start_time": "2023-04-03T13:10:16.186Z"
   },
   {
    "duration": 24,
    "start_time": "2023-04-03T13:10:16.540Z"
   },
   {
    "duration": 9,
    "start_time": "2023-04-03T13:10:25.886Z"
   },
   {
    "duration": 5,
    "start_time": "2023-04-03T13:11:29.670Z"
   },
   {
    "duration": 4,
    "start_time": "2023-04-03T13:12:31.609Z"
   },
   {
    "duration": 4,
    "start_time": "2023-04-03T13:12:44.576Z"
   },
   {
    "duration": 6,
    "start_time": "2023-04-03T13:13:01.493Z"
   },
   {
    "duration": 10,
    "start_time": "2023-04-03T13:17:48.925Z"
   },
   {
    "duration": 3,
    "start_time": "2023-04-03T13:17:51.678Z"
   },
   {
    "duration": 2057,
    "start_time": "2023-04-03T13:17:52.240Z"
   },
   {
    "duration": 0,
    "start_time": "2023-04-03T13:17:54.299Z"
   },
   {
    "duration": 4,
    "start_time": "2023-04-03T13:18:15.970Z"
   },
   {
    "duration": 11,
    "start_time": "2023-04-03T13:18:29.853Z"
   },
   {
    "duration": 16,
    "start_time": "2023-04-03T13:18:30.940Z"
   },
   {
    "duration": 18,
    "start_time": "2023-04-03T13:18:36.367Z"
   },
   {
    "duration": 18,
    "start_time": "2023-04-03T13:18:43.524Z"
   },
   {
    "duration": 9,
    "start_time": "2023-04-03T13:18:47.810Z"
   },
   {
    "duration": 36,
    "start_time": "2023-04-03T13:19:04.080Z"
   },
   {
    "duration": 9,
    "start_time": "2023-04-03T13:19:06.727Z"
   },
   {
    "duration": 3,
    "start_time": "2023-04-03T13:19:09.489Z"
   },
   {
    "duration": 126,
    "start_time": "2023-04-03T13:19:10.372Z"
   },
   {
    "duration": 430,
    "start_time": "2023-04-03T13:19:11.287Z"
   },
   {
    "duration": 12,
    "start_time": "2023-04-03T13:19:15.408Z"
   },
   {
    "duration": 7,
    "start_time": "2023-04-03T13:19:19.325Z"
   },
   {
    "duration": 8,
    "start_time": "2023-04-03T13:19:22.102Z"
   },
   {
    "duration": 82,
    "start_time": "2023-04-03T13:20:54.172Z"
   },
   {
    "duration": 5,
    "start_time": "2023-04-03T13:36:59.217Z"
   },
   {
    "duration": 9,
    "start_time": "2023-04-03T13:37:07.107Z"
   },
   {
    "duration": 4,
    "start_time": "2023-04-03T13:37:18.622Z"
   },
   {
    "duration": 5,
    "start_time": "2023-04-03T13:37:25.313Z"
   },
   {
    "duration": 69,
    "start_time": "2023-04-03T13:45:37.027Z"
   },
   {
    "duration": 6,
    "start_time": "2023-04-03T13:55:18.053Z"
   },
   {
    "duration": 8,
    "start_time": "2023-04-03T13:55:44.235Z"
   },
   {
    "duration": 34,
    "start_time": "2023-04-03T13:55:46.017Z"
   },
   {
    "duration": 7,
    "start_time": "2023-04-03T13:56:56.979Z"
   },
   {
    "duration": 41,
    "start_time": "2023-04-03T13:57:01.990Z"
   },
   {
    "duration": 6,
    "start_time": "2023-04-03T13:57:20.895Z"
   },
   {
    "duration": 37,
    "start_time": "2023-04-03T13:57:22.498Z"
   },
   {
    "duration": 1191,
    "start_time": "2023-04-03T13:58:32.901Z"
   },
   {
    "duration": 1248,
    "start_time": "2023-04-03T13:58:51.480Z"
   },
   {
    "duration": 47,
    "start_time": "2023-04-03T13:59:38.680Z"
   },
   {
    "duration": 3,
    "start_time": "2023-04-03T14:01:31.721Z"
   },
   {
    "duration": 62,
    "start_time": "2023-04-03T14:01:32.491Z"
   },
   {
    "duration": 16,
    "start_time": "2023-04-03T14:01:33.189Z"
   },
   {
    "duration": 20,
    "start_time": "2023-04-03T14:01:33.519Z"
   },
   {
    "duration": 6,
    "start_time": "2023-04-03T14:01:33.740Z"
   },
   {
    "duration": 6,
    "start_time": "2023-04-03T14:01:33.987Z"
   },
   {
    "duration": 25,
    "start_time": "2023-04-03T14:01:34.437Z"
   },
   {
    "duration": 3,
    "start_time": "2023-04-03T14:01:37.235Z"
   },
   {
    "duration": 18,
    "start_time": "2023-04-03T14:09:05.824Z"
   },
   {
    "duration": 7,
    "start_time": "2023-04-03T14:09:09.082Z"
   },
   {
    "duration": 30,
    "start_time": "2023-04-03T14:09:10.596Z"
   },
   {
    "duration": 213,
    "start_time": "2023-04-03T14:10:07.779Z"
   },
   {
    "duration": 30,
    "start_time": "2023-04-03T14:12:43.436Z"
   },
   {
    "duration": 34,
    "start_time": "2023-04-03T14:14:12.791Z"
   },
   {
    "duration": 7,
    "start_time": "2023-04-03T14:33:31.916Z"
   },
   {
    "duration": 33,
    "start_time": "2023-04-03T14:33:38.038Z"
   },
   {
    "duration": 40,
    "start_time": "2023-04-03T14:33:59.782Z"
   },
   {
    "duration": 11,
    "start_time": "2023-04-03T14:35:13.684Z"
   },
   {
    "duration": 22,
    "start_time": "2023-04-03T14:35:38.673Z"
   },
   {
    "duration": 21,
    "start_time": "2023-04-03T14:35:54.096Z"
   },
   {
    "duration": 15,
    "start_time": "2023-04-03T14:36:05.079Z"
   },
   {
    "duration": 28,
    "start_time": "2023-04-03T14:36:19.183Z"
   },
   {
    "duration": 224,
    "start_time": "2023-04-03T14:37:14.791Z"
   },
   {
    "duration": 2,
    "start_time": "2023-04-03T14:38:18.780Z"
   },
   {
    "duration": 204,
    "start_time": "2023-04-03T14:40:57.626Z"
   },
   {
    "duration": 74,
    "start_time": "2023-04-03T14:43:45.479Z"
   },
   {
    "duration": 10,
    "start_time": "2023-04-03T14:44:07.597Z"
   },
   {
    "duration": 17,
    "start_time": "2023-04-03T14:44:14.667Z"
   },
   {
    "duration": 12,
    "start_time": "2023-04-03T14:44:21.209Z"
   },
   {
    "duration": 76,
    "start_time": "2023-04-03T14:44:26.075Z"
   },
   {
    "duration": 122,
    "start_time": "2023-04-03T14:47:13.764Z"
   },
   {
    "duration": 74,
    "start_time": "2023-04-03T14:50:19.838Z"
   },
   {
    "duration": 2,
    "start_time": "2023-04-03T14:52:03.381Z"
   },
   {
    "duration": 201,
    "start_time": "2023-04-03T14:52:45.900Z"
   },
   {
    "duration": 6,
    "start_time": "2023-04-03T14:52:49.779Z"
   },
   {
    "duration": 5,
    "start_time": "2023-04-03T14:52:51.063Z"
   },
   {
    "duration": 139,
    "start_time": "2023-04-03T14:52:52.088Z"
   },
   {
    "duration": 276,
    "start_time": "2023-04-03T14:52:55.280Z"
   },
   {
    "duration": 348,
    "start_time": "2023-04-03T15:28:00.622Z"
   },
   {
    "duration": 275,
    "start_time": "2023-04-03T15:28:19.923Z"
   },
   {
    "duration": 41,
    "start_time": "2023-04-03T15:29:22.793Z"
   },
   {
    "duration": 255,
    "start_time": "2023-04-03T15:29:53.775Z"
   },
   {
    "duration": 135,
    "start_time": "2023-04-03T15:32:12.797Z"
   },
   {
    "duration": 127,
    "start_time": "2023-04-03T15:32:25.976Z"
   },
   {
    "duration": 3,
    "start_time": "2023-04-03T15:44:09.684Z"
   },
   {
    "duration": 4,
    "start_time": "2023-04-03T17:36:04.728Z"
   },
   {
    "duration": 25,
    "start_time": "2023-04-03T17:36:06.026Z"
   },
   {
    "duration": 136,
    "start_time": "2023-04-03T17:36:24.079Z"
   },
   {
    "duration": 3,
    "start_time": "2023-04-03T17:38:03.408Z"
   },
   {
    "duration": 45,
    "start_time": "2023-04-03T17:38:04.482Z"
   },
   {
    "duration": 21,
    "start_time": "2023-04-03T17:38:05.034Z"
   },
   {
    "duration": 16,
    "start_time": "2023-04-03T17:38:05.231Z"
   },
   {
    "duration": 4,
    "start_time": "2023-04-03T17:38:05.397Z"
   },
   {
    "duration": 5,
    "start_time": "2023-04-03T17:38:05.566Z"
   },
   {
    "duration": 35,
    "start_time": "2023-04-03T17:38:05.738Z"
   },
   {
    "duration": 8,
    "start_time": "2023-04-03T17:38:06.306Z"
   },
   {
    "duration": 5,
    "start_time": "2023-04-03T17:38:07.148Z"
   },
   {
    "duration": 3,
    "start_time": "2023-04-03T17:38:22.709Z"
   },
   {
    "duration": 25,
    "start_time": "2023-04-03T17:38:24.438Z"
   },
   {
    "duration": 2,
    "start_time": "2023-04-03T17:38:25.186Z"
   },
   {
    "duration": 12,
    "start_time": "2023-04-03T17:38:25.582Z"
   },
   {
    "duration": 26,
    "start_time": "2023-04-03T17:38:25.924Z"
   },
   {
    "duration": 18,
    "start_time": "2023-04-03T17:38:26.563Z"
   },
   {
    "duration": 8,
    "start_time": "2023-04-03T17:38:28.107Z"
   },
   {
    "duration": 8,
    "start_time": "2023-04-03T17:38:29.154Z"
   },
   {
    "duration": 6,
    "start_time": "2023-04-03T17:38:29.670Z"
   },
   {
    "duration": 1320,
    "start_time": "2023-04-03T17:38:30.085Z"
   },
   {
    "duration": 60,
    "start_time": "2023-04-03T17:45:16.025Z"
   },
   {
    "duration": 1374,
    "start_time": "2023-04-03T17:45:22.056Z"
   },
   {
    "duration": 64,
    "start_time": "2023-04-03T17:45:23.432Z"
   },
   {
    "duration": 18,
    "start_time": "2023-04-03T17:45:23.497Z"
   },
   {
    "duration": 13,
    "start_time": "2023-04-03T17:45:23.517Z"
   },
   {
    "duration": 13,
    "start_time": "2023-04-03T17:45:23.531Z"
   },
   {
    "duration": 9,
    "start_time": "2023-04-03T17:45:23.546Z"
   },
   {
    "duration": 24,
    "start_time": "2023-04-03T17:45:23.682Z"
   },
   {
    "duration": 4,
    "start_time": "2023-04-03T17:45:25.605Z"
   },
   {
    "duration": 23,
    "start_time": "2023-04-03T17:45:33.879Z"
   },
   {
    "duration": 3,
    "start_time": "2023-04-03T17:45:34.363Z"
   },
   {
    "duration": 13,
    "start_time": "2023-04-03T17:45:34.740Z"
   },
   {
    "duration": 18,
    "start_time": "2023-04-03T17:45:35.159Z"
   },
   {
    "duration": 14,
    "start_time": "2023-04-03T17:45:35.674Z"
   },
   {
    "duration": 9,
    "start_time": "2023-04-03T17:45:37.595Z"
   },
   {
    "duration": 5,
    "start_time": "2023-04-03T17:45:38.703Z"
   },
   {
    "duration": 5,
    "start_time": "2023-04-03T17:45:39.891Z"
   },
   {
    "duration": 5,
    "start_time": "2023-04-03T17:45:40.763Z"
   },
   {
    "duration": 11,
    "start_time": "2023-04-03T17:45:54.435Z"
   },
   {
    "duration": 3,
    "start_time": "2023-04-03T17:46:12.709Z"
   },
   {
    "duration": 114,
    "start_time": "2023-04-03T17:46:13.170Z"
   },
   {
    "duration": 408,
    "start_time": "2023-04-03T17:46:13.857Z"
   },
   {
    "duration": 8,
    "start_time": "2023-04-03T17:46:17.211Z"
   },
   {
    "duration": 8,
    "start_time": "2023-04-03T17:46:17.754Z"
   },
   {
    "duration": 6,
    "start_time": "2023-04-03T17:46:25.441Z"
   },
   {
    "duration": 19,
    "start_time": "2023-04-03T17:46:29.110Z"
   },
   {
    "duration": 3,
    "start_time": "2023-04-03T17:46:30.340Z"
   },
   {
    "duration": 4,
    "start_time": "2023-04-03T17:46:38.594Z"
   },
   {
    "duration": 4,
    "start_time": "2023-04-03T17:46:41.517Z"
   },
   {
    "duration": 10,
    "start_time": "2023-04-03T17:46:47.839Z"
   },
   {
    "duration": 21,
    "start_time": "2023-04-03T17:46:55.963Z"
   },
   {
    "duration": 3,
    "start_time": "2023-04-03T17:47:08.724Z"
   },
   {
    "duration": 24,
    "start_time": "2023-04-03T17:47:15.561Z"
   },
   {
    "duration": 230,
    "start_time": "2023-04-03T17:47:16.646Z"
   },
   {
    "duration": 367,
    "start_time": "2023-04-03T17:47:45.243Z"
   },
   {
    "duration": 7,
    "start_time": "2023-04-03T17:50:55.867Z"
   },
   {
    "duration": 3,
    "start_time": "2023-04-03T17:51:00.319Z"
   },
   {
    "duration": 136,
    "start_time": "2023-04-03T17:51:00.826Z"
   },
   {
    "duration": 154,
    "start_time": "2023-04-03T17:51:02.467Z"
   },
   {
    "duration": 143,
    "start_time": "2023-04-03T17:51:02.900Z"
   },
   {
    "duration": 132,
    "start_time": "2023-04-03T17:51:03.549Z"
   },
   {
    "duration": 142,
    "start_time": "2023-04-03T17:51:04.298Z"
   },
   {
    "duration": 197,
    "start_time": "2023-04-03T17:51:09.021Z"
   },
   {
    "duration": 8,
    "start_time": "2023-04-03T17:51:22.436Z"
   },
   {
    "duration": 5,
    "start_time": "2023-04-03T17:51:41.321Z"
   },
   {
    "duration": 159,
    "start_time": "2023-04-03T17:51:44.011Z"
   },
   {
    "duration": 254,
    "start_time": "2023-04-03T17:52:03.057Z"
   },
   {
    "duration": 301,
    "start_time": "2023-04-03T17:52:03.313Z"
   },
   {
    "duration": 3,
    "start_time": "2023-04-03T17:52:09.413Z"
   },
   {
    "duration": 3,
    "start_time": "2023-04-03T17:54:49.727Z"
   },
   {
    "duration": 17,
    "start_time": "2023-04-03T17:54:50.760Z"
   },
   {
    "duration": 163,
    "start_time": "2023-04-03T17:55:37.458Z"
   },
   {
    "duration": 158,
    "start_time": "2023-04-03T17:55:45.715Z"
   },
   {
    "duration": 5,
    "start_time": "2023-04-03T17:55:52.667Z"
   },
   {
    "duration": 3,
    "start_time": "2023-04-03T17:55:56.946Z"
   },
   {
    "duration": 943,
    "start_time": "2023-04-03T17:55:57.638Z"
   },
   {
    "duration": 3,
    "start_time": "2023-04-03T17:56:18.998Z"
   },
   {
    "duration": 3,
    "start_time": "2023-04-03T17:56:59.843Z"
   },
   {
    "duration": 743,
    "start_time": "2023-04-03T17:57:00.375Z"
   },
   {
    "duration": 13,
    "start_time": "2023-04-03T18:01:12.641Z"
   },
   {
    "duration": 174,
    "start_time": "2023-04-03T18:01:17.279Z"
   },
   {
    "duration": 9,
    "start_time": "2023-04-03T18:10:22.483Z"
   },
   {
    "duration": 9,
    "start_time": "2023-04-03T18:10:23.074Z"
   },
   {
    "duration": 10,
    "start_time": "2023-04-03T18:11:41.510Z"
   },
   {
    "duration": 13,
    "start_time": "2023-04-03T18:11:43.040Z"
   },
   {
    "duration": 8,
    "start_time": "2023-04-03T18:11:43.476Z"
   },
   {
    "duration": 8,
    "start_time": "2023-04-03T18:11:43.987Z"
   },
   {
    "duration": 12,
    "start_time": "2023-04-03T18:11:46.056Z"
   },
   {
    "duration": 8,
    "start_time": "2023-04-03T18:11:46.622Z"
   },
   {
    "duration": 7,
    "start_time": "2023-04-03T18:11:47.412Z"
   },
   {
    "duration": 7,
    "start_time": "2023-04-03T18:11:51.992Z"
   },
   {
    "duration": 6,
    "start_time": "2023-04-03T18:13:49.106Z"
   },
   {
    "duration": 168,
    "start_time": "2023-04-03T18:13:51.905Z"
   },
   {
    "duration": 8,
    "start_time": "2023-04-03T18:14:01.367Z"
   },
   {
    "duration": 158,
    "start_time": "2023-04-03T18:14:02.252Z"
   },
   {
    "duration": 7,
    "start_time": "2023-04-03T18:14:10.703Z"
   },
   {
    "duration": 174,
    "start_time": "2023-04-03T18:14:12.237Z"
   },
   {
    "duration": 9,
    "start_time": "2023-04-03T18:14:23.706Z"
   },
   {
    "duration": 184,
    "start_time": "2023-04-03T18:14:27.390Z"
   },
   {
    "duration": 7,
    "start_time": "2023-04-03T18:27:53.888Z"
   },
   {
    "duration": 8,
    "start_time": "2023-04-03T18:29:41.519Z"
   },
   {
    "duration": 11,
    "start_time": "2023-04-03T18:30:55.115Z"
   },
   {
    "duration": 11,
    "start_time": "2023-04-03T18:30:55.569Z"
   },
   {
    "duration": 8,
    "start_time": "2023-04-03T18:30:56.293Z"
   },
   {
    "duration": 9,
    "start_time": "2023-04-03T18:30:57.697Z"
   },
   {
    "duration": 10,
    "start_time": "2023-04-03T18:30:58.694Z"
   },
   {
    "duration": 9,
    "start_time": "2023-04-03T18:30:59.395Z"
   },
   {
    "duration": 11,
    "start_time": "2023-04-03T18:31:03.675Z"
   },
   {
    "duration": 12,
    "start_time": "2023-04-03T18:31:04.255Z"
   },
   {
    "duration": 9,
    "start_time": "2023-04-03T18:31:08.311Z"
   },
   {
    "duration": 9,
    "start_time": "2023-04-03T18:31:12.932Z"
   },
   {
    "duration": 151,
    "start_time": "2023-04-03T18:31:21.400Z"
   },
   {
    "duration": 9,
    "start_time": "2023-04-03T18:31:28.247Z"
   },
   {
    "duration": 166,
    "start_time": "2023-04-03T18:31:29.905Z"
   },
   {
    "duration": 8,
    "start_time": "2023-04-03T18:31:33.600Z"
   },
   {
    "duration": 152,
    "start_time": "2023-04-03T18:31:34.180Z"
   },
   {
    "duration": 70,
    "start_time": "2023-04-03T18:44:25.749Z"
   },
   {
    "duration": 3,
    "start_time": "2023-04-03T18:44:29.396Z"
   },
   {
    "duration": 9,
    "start_time": "2023-04-03T18:44:29.877Z"
   },
   {
    "duration": 13,
    "start_time": "2023-04-03T18:45:29.974Z"
   },
   {
    "duration": 10,
    "start_time": "2023-04-03T18:45:46.821Z"
   },
   {
    "duration": 11,
    "start_time": "2023-04-03T18:46:02.727Z"
   },
   {
    "duration": 3,
    "start_time": "2023-04-03T18:50:24.990Z"
   },
   {
    "duration": 12,
    "start_time": "2023-04-03T18:50:25.417Z"
   },
   {
    "duration": 10,
    "start_time": "2023-04-03T18:51:29.950Z"
   },
   {
    "duration": 272,
    "start_time": "2023-04-03T19:12:14.395Z"
   },
   {
    "duration": 186,
    "start_time": "2023-04-03T19:12:43.517Z"
   },
   {
    "duration": 203,
    "start_time": "2023-04-03T19:12:56.145Z"
   },
   {
    "duration": 204,
    "start_time": "2023-04-03T19:13:50.906Z"
   },
   {
    "duration": 169,
    "start_time": "2023-04-03T19:14:03.443Z"
   },
   {
    "duration": 207,
    "start_time": "2023-04-03T19:14:47.387Z"
   },
   {
    "duration": 165,
    "start_time": "2023-04-03T19:17:01.962Z"
   },
   {
    "duration": 210,
    "start_time": "2023-04-03T19:17:07.735Z"
   },
   {
    "duration": 289,
    "start_time": "2023-04-03T19:17:27.159Z"
   },
   {
    "duration": 351,
    "start_time": "2023-04-03T19:17:59.157Z"
   },
   {
    "duration": 315,
    "start_time": "2023-04-03T19:18:04.997Z"
   },
   {
    "duration": 147,
    "start_time": "2023-04-03T19:18:22.196Z"
   },
   {
    "duration": 15,
    "start_time": "2023-04-03T19:27:34.030Z"
   },
   {
    "duration": 7,
    "start_time": "2023-04-03T19:28:00.801Z"
   },
   {
    "duration": 18,
    "start_time": "2023-04-03T19:28:02.831Z"
   },
   {
    "duration": 15,
    "start_time": "2023-04-03T19:28:11.125Z"
   },
   {
    "duration": 117,
    "start_time": "2023-04-03T19:28:15.785Z"
   },
   {
    "duration": 15,
    "start_time": "2023-04-03T19:28:59.436Z"
   },
   {
    "duration": 15,
    "start_time": "2023-04-03T19:29:13.892Z"
   },
   {
    "duration": 10,
    "start_time": "2023-04-03T19:30:12.250Z"
   },
   {
    "duration": 128,
    "start_time": "2023-04-03T19:30:15.403Z"
   },
   {
    "duration": 136,
    "start_time": "2023-04-03T19:30:27.706Z"
   },
   {
    "duration": 11,
    "start_time": "2023-04-03T19:30:50.353Z"
   },
   {
    "duration": 11,
    "start_time": "2023-04-03T19:31:01.150Z"
   },
   {
    "duration": 188,
    "start_time": "2023-04-03T19:31:06.737Z"
   },
   {
    "duration": 169,
    "start_time": "2023-04-03T19:31:36.823Z"
   },
   {
    "duration": 139,
    "start_time": "2023-04-03T19:31:58.883Z"
   },
   {
    "duration": 292,
    "start_time": "2023-04-03T19:34:18.651Z"
   },
   {
    "duration": 522,
    "start_time": "2023-04-03T19:35:03.397Z"
   },
   {
    "duration": 11,
    "start_time": "2023-04-03T19:36:10.979Z"
   },
   {
    "duration": 10,
    "start_time": "2023-04-03T19:36:13.430Z"
   },
   {
    "duration": 439,
    "start_time": "2023-04-03T19:36:24.219Z"
   },
   {
    "duration": 2,
    "start_time": "2023-04-03T19:36:50.381Z"
   },
   {
    "duration": 2,
    "start_time": "2023-04-03T19:36:54.364Z"
   },
   {
    "duration": 2,
    "start_time": "2023-04-03T19:37:02.996Z"
   },
   {
    "duration": 2,
    "start_time": "2023-04-03T19:37:13.579Z"
   },
   {
    "duration": 2,
    "start_time": "2023-04-03T19:37:13.986Z"
   },
   {
    "duration": 450,
    "start_time": "2023-04-03T19:37:50.547Z"
   },
   {
    "duration": 601,
    "start_time": "2023-04-03T19:38:31.654Z"
   },
   {
    "duration": 2,
    "start_time": "2023-04-03T19:38:58.929Z"
   },
   {
    "duration": 2,
    "start_time": "2023-04-03T19:39:05.113Z"
   },
   {
    "duration": 639,
    "start_time": "2023-04-03T19:39:44.222Z"
   },
   {
    "duration": 547,
    "start_time": "2023-04-03T19:39:51.942Z"
   },
   {
    "duration": 549,
    "start_time": "2023-04-03T19:39:55.715Z"
   },
   {
    "duration": 144,
    "start_time": "2023-04-03T19:40:39.862Z"
   },
   {
    "duration": 5,
    "start_time": "2023-04-03T19:41:08.781Z"
   },
   {
    "duration": 9,
    "start_time": "2023-04-03T19:41:57.351Z"
   },
   {
    "duration": 9,
    "start_time": "2023-04-03T19:41:57.825Z"
   },
   {
    "duration": 7,
    "start_time": "2023-04-03T19:41:58.403Z"
   },
   {
    "duration": 8,
    "start_time": "2023-04-03T19:42:00.629Z"
   },
   {
    "duration": 8,
    "start_time": "2023-04-03T19:42:00.958Z"
   },
   {
    "duration": 7,
    "start_time": "2023-04-03T19:42:03.030Z"
   },
   {
    "duration": 11,
    "start_time": "2023-04-03T19:42:05.197Z"
   },
   {
    "duration": 8,
    "start_time": "2023-04-03T19:42:05.586Z"
   },
   {
    "duration": 8,
    "start_time": "2023-04-03T19:42:06.081Z"
   },
   {
    "duration": 13,
    "start_time": "2023-04-03T19:42:08.300Z"
   },
   {
    "duration": 11,
    "start_time": "2023-04-03T19:42:10.308Z"
   },
   {
    "duration": 9,
    "start_time": "2023-04-03T19:42:10.726Z"
   },
   {
    "duration": 436,
    "start_time": "2023-04-03T19:42:18.842Z"
   },
   {
    "duration": 1847,
    "start_time": "2023-04-03T19:46:11.701Z"
   },
   {
    "duration": 3,
    "start_time": "2023-04-03T19:46:35.973Z"
   },
   {
    "duration": 10,
    "start_time": "2023-04-03T19:48:17.132Z"
   },
   {
    "duration": 10,
    "start_time": "2023-04-03T19:48:20.338Z"
   },
   {
    "duration": 4,
    "start_time": "2023-04-03T19:48:24.182Z"
   },
   {
    "duration": 44,
    "start_time": "2023-04-03T19:49:14.224Z"
   },
   {
    "duration": 17,
    "start_time": "2023-04-03T19:49:47.872Z"
   },
   {
    "duration": 99,
    "start_time": "2023-04-03T19:50:12.111Z"
   },
   {
    "duration": 954,
    "start_time": "2023-04-03T19:52:53.203Z"
   },
   {
    "duration": 830,
    "start_time": "2023-04-03T19:53:35.893Z"
   },
   {
    "duration": 747,
    "start_time": "2023-04-03T19:53:50.837Z"
   },
   {
    "duration": 792,
    "start_time": "2023-04-03T19:54:09.203Z"
   },
   {
    "duration": 755,
    "start_time": "2023-04-03T19:55:06.039Z"
   },
   {
    "duration": 3,
    "start_time": "2023-04-03T19:55:36.131Z"
   },
   {
    "duration": 2,
    "start_time": "2023-04-03T19:55:40.604Z"
   },
   {
    "duration": 3,
    "start_time": "2023-04-03T19:55:46.653Z"
   },
   {
    "duration": 3,
    "start_time": "2023-04-03T19:55:54.545Z"
   },
   {
    "duration": 4,
    "start_time": "2023-04-03T19:55:59.041Z"
   },
   {
    "duration": 2,
    "start_time": "2023-04-03T19:56:09.400Z"
   },
   {
    "duration": 705,
    "start_time": "2023-04-03T19:56:47.403Z"
   },
   {
    "duration": 708,
    "start_time": "2023-04-03T19:57:13.246Z"
   },
   {
    "duration": 9,
    "start_time": "2023-04-03T20:08:04.205Z"
   },
   {
    "duration": 564,
    "start_time": "2023-04-03T20:08:18.408Z"
   },
   {
    "duration": 98,
    "start_time": "2023-04-03T20:18:18.405Z"
   }
  ],
  "kernelspec": {
   "display_name": "Python 3 (ipykernel)",
   "language": "python",
   "name": "python3"
  },
  "language_info": {
   "codemirror_mode": {
    "name": "ipython",
    "version": 3
   },
   "file_extension": ".py",
   "mimetype": "text/x-python",
   "name": "python",
   "nbconvert_exporter": "python",
   "pygments_lexer": "ipython3",
   "version": "3.9.5"
  },
  "toc": {
   "base_numbering": 1,
   "nav_menu": {},
   "number_sections": true,
   "sideBar": true,
   "skip_h1_title": true,
   "title_cell": "Table of Contents",
   "title_sidebar": "Contents",
   "toc_cell": false,
   "toc_position": {},
   "toc_section_display": true,
   "toc_window_display": true
  }
 },
 "nbformat": 4,
 "nbformat_minor": 2
}
